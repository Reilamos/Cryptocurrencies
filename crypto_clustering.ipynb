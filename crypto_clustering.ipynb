{
 "cells": [
  {
   "cell_type": "markdown",
   "metadata": {},
   "source": [
    "# Clustering Crypto"
   ]
  },
  {
   "cell_type": "code",
   "execution_count": 24,
   "metadata": {},
   "outputs": [],
   "source": [
    "# Initial imports\n",
    "import pandas as pd\n",
    "import hvplot.pandas\n",
    "from path import Path\n",
    "import plotly.express as px\n",
    "from sklearn.preprocessing import StandardScaler, MinMaxScaler\n",
    "from sklearn.decomposition import PCA\n",
    "from sklearn.cluster import KMeans\n"
   ]
  },
  {
   "cell_type": "markdown",
   "metadata": {},
   "source": [
    "### Deliverable 1: Preprocessing the Data for PCA"
   ]
  },
  {
   "cell_type": "code",
   "execution_count": 25,
   "metadata": {},
   "outputs": [
    {
     "data": {
      "text/html": [
       "<div>\n",
       "<style scoped>\n",
       "    .dataframe tbody tr th:only-of-type {\n",
       "        vertical-align: middle;\n",
       "    }\n",
       "\n",
       "    .dataframe tbody tr th {\n",
       "        vertical-align: top;\n",
       "    }\n",
       "\n",
       "    .dataframe thead th {\n",
       "        text-align: right;\n",
       "    }\n",
       "</style>\n",
       "<table border=\"1\" class=\"dataframe\">\n",
       "  <thead>\n",
       "    <tr style=\"text-align: right;\">\n",
       "      <th></th>\n",
       "      <th>CoinName</th>\n",
       "      <th>Algorithm</th>\n",
       "      <th>IsTrading</th>\n",
       "      <th>ProofType</th>\n",
       "      <th>TotalCoinsMined</th>\n",
       "      <th>TotalCoinSupply</th>\n",
       "    </tr>\n",
       "  </thead>\n",
       "  <tbody>\n",
       "    <tr>\n",
       "      <th>42</th>\n",
       "      <td>42 Coin</td>\n",
       "      <td>Scrypt</td>\n",
       "      <td>True</td>\n",
       "      <td>PoW/PoS</td>\n",
       "      <td>4.199995e+01</td>\n",
       "      <td>42</td>\n",
       "    </tr>\n",
       "    <tr>\n",
       "      <th>365</th>\n",
       "      <td>365Coin</td>\n",
       "      <td>X11</td>\n",
       "      <td>True</td>\n",
       "      <td>PoW/PoS</td>\n",
       "      <td>NaN</td>\n",
       "      <td>2300000000</td>\n",
       "    </tr>\n",
       "    <tr>\n",
       "      <th>404</th>\n",
       "      <td>404Coin</td>\n",
       "      <td>Scrypt</td>\n",
       "      <td>True</td>\n",
       "      <td>PoW/PoS</td>\n",
       "      <td>1.055185e+09</td>\n",
       "      <td>532000000</td>\n",
       "    </tr>\n",
       "    <tr>\n",
       "      <th>611</th>\n",
       "      <td>SixEleven</td>\n",
       "      <td>SHA-256</td>\n",
       "      <td>True</td>\n",
       "      <td>PoW</td>\n",
       "      <td>NaN</td>\n",
       "      <td>611000</td>\n",
       "    </tr>\n",
       "    <tr>\n",
       "      <th>808</th>\n",
       "      <td>808</td>\n",
       "      <td>SHA-256</td>\n",
       "      <td>True</td>\n",
       "      <td>PoW/PoS</td>\n",
       "      <td>0.000000e+00</td>\n",
       "      <td>0</td>\n",
       "    </tr>\n",
       "  </tbody>\n",
       "</table>\n",
       "</div>"
      ],
      "text/plain": [
       "      CoinName Algorithm  IsTrading ProofType  TotalCoinsMined TotalCoinSupply\n",
       "42     42 Coin    Scrypt       True   PoW/PoS     4.199995e+01              42\n",
       "365    365Coin       X11       True   PoW/PoS              NaN      2300000000\n",
       "404    404Coin    Scrypt       True   PoW/PoS     1.055185e+09       532000000\n",
       "611  SixEleven   SHA-256       True       PoW              NaN          611000\n",
       "808        808   SHA-256       True   PoW/PoS     0.000000e+00               0"
      ]
     },
     "execution_count": 25,
     "metadata": {},
     "output_type": "execute_result"
    }
   ],
   "source": [
    "# Load the crypto_data.csv dataset.\n",
    "file_path = \"crypto_data.csv\"\n",
    "df_crypto = pd.read_csv(file_path,index_col = 0)\n",
    "df_crypto.head()"
   ]
  },
  {
   "cell_type": "code",
   "execution_count": 26,
   "metadata": {},
   "outputs": [
    {
     "data": {
      "text/plain": [
       "(1144, 6)"
      ]
     },
     "execution_count": 26,
     "metadata": {},
     "output_type": "execute_result"
    }
   ],
   "source": [
    "# Keep all the cryptocurrencies that are being traded.\n",
    "df_crypto = df_crypto[df_crypto.IsTrading.eq(True)]\n",
    "df_crypto.shape"
   ]
  },
  {
   "cell_type": "code",
   "execution_count": 27,
   "metadata": {},
   "outputs": [
    {
     "data": {
      "text/plain": [
       "42      False\n",
       "365     False\n",
       "404     False\n",
       "611     False\n",
       "808     False\n",
       "        ...  \n",
       "SERO    False\n",
       "UOS     False\n",
       "BDX     False\n",
       "ZEN     False\n",
       "XBC     False\n",
       "Name: Algorithm, Length: 1144, dtype: bool"
      ]
     },
     "execution_count": 27,
     "metadata": {},
     "output_type": "execute_result"
    }
   ],
   "source": [
    "# Keep all the cryptocurrencies that have a working algorithm.\n",
    "pd.isna(df_crypto['Algorithm'])"
   ]
  },
  {
   "cell_type": "code",
   "execution_count": 28,
   "metadata": {},
   "outputs": [],
   "source": [
    "# Remove the \"IsTrading\" column. \n",
    "df_crypto = df_crypto.drop([\"IsTrading\"],axis = 1)"
   ]
  },
  {
   "cell_type": "code",
   "execution_count": 29,
   "metadata": {},
   "outputs": [
    {
     "data": {
      "text/html": [
       "<div>\n",
       "<style scoped>\n",
       "    .dataframe tbody tr th:only-of-type {\n",
       "        vertical-align: middle;\n",
       "    }\n",
       "\n",
       "    .dataframe tbody tr th {\n",
       "        vertical-align: top;\n",
       "    }\n",
       "\n",
       "    .dataframe thead th {\n",
       "        text-align: right;\n",
       "    }\n",
       "</style>\n",
       "<table border=\"1\" class=\"dataframe\">\n",
       "  <thead>\n",
       "    <tr style=\"text-align: right;\">\n",
       "      <th></th>\n",
       "      <th>CoinName</th>\n",
       "      <th>Algorithm</th>\n",
       "      <th>ProofType</th>\n",
       "      <th>TotalCoinsMined</th>\n",
       "      <th>TotalCoinSupply</th>\n",
       "    </tr>\n",
       "  </thead>\n",
       "  <tbody>\n",
       "    <tr>\n",
       "      <th>42</th>\n",
       "      <td>42 Coin</td>\n",
       "      <td>Scrypt</td>\n",
       "      <td>PoW/PoS</td>\n",
       "      <td>4.199995e+01</td>\n",
       "      <td>42</td>\n",
       "    </tr>\n",
       "    <tr>\n",
       "      <th>404</th>\n",
       "      <td>404Coin</td>\n",
       "      <td>Scrypt</td>\n",
       "      <td>PoW/PoS</td>\n",
       "      <td>1.055185e+09</td>\n",
       "      <td>532000000</td>\n",
       "    </tr>\n",
       "    <tr>\n",
       "      <th>808</th>\n",
       "      <td>808</td>\n",
       "      <td>SHA-256</td>\n",
       "      <td>PoW/PoS</td>\n",
       "      <td>0.000000e+00</td>\n",
       "      <td>0</td>\n",
       "    </tr>\n",
       "    <tr>\n",
       "      <th>1337</th>\n",
       "      <td>EliteCoin</td>\n",
       "      <td>X13</td>\n",
       "      <td>PoW/PoS</td>\n",
       "      <td>2.927942e+10</td>\n",
       "      <td>314159265359</td>\n",
       "    </tr>\n",
       "    <tr>\n",
       "      <th>BTC</th>\n",
       "      <td>Bitcoin</td>\n",
       "      <td>SHA-256</td>\n",
       "      <td>PoW</td>\n",
       "      <td>1.792718e+07</td>\n",
       "      <td>21000000</td>\n",
       "    </tr>\n",
       "    <tr>\n",
       "      <th>...</th>\n",
       "      <td>...</td>\n",
       "      <td>...</td>\n",
       "      <td>...</td>\n",
       "      <td>...</td>\n",
       "      <td>...</td>\n",
       "    </tr>\n",
       "    <tr>\n",
       "      <th>ZEPH</th>\n",
       "      <td>ZEPHYR</td>\n",
       "      <td>SHA-256</td>\n",
       "      <td>DPoS</td>\n",
       "      <td>2.000000e+09</td>\n",
       "      <td>2000000000</td>\n",
       "    </tr>\n",
       "    <tr>\n",
       "      <th>GAP</th>\n",
       "      <td>Gapcoin</td>\n",
       "      <td>Scrypt</td>\n",
       "      <td>PoW/PoS</td>\n",
       "      <td>1.493105e+07</td>\n",
       "      <td>250000000</td>\n",
       "    </tr>\n",
       "    <tr>\n",
       "      <th>BDX</th>\n",
       "      <td>Beldex</td>\n",
       "      <td>CryptoNight</td>\n",
       "      <td>PoW</td>\n",
       "      <td>9.802226e+08</td>\n",
       "      <td>1400222610</td>\n",
       "    </tr>\n",
       "    <tr>\n",
       "      <th>ZEN</th>\n",
       "      <td>Horizen</td>\n",
       "      <td>Equihash</td>\n",
       "      <td>PoW</td>\n",
       "      <td>7.296538e+06</td>\n",
       "      <td>21000000</td>\n",
       "    </tr>\n",
       "    <tr>\n",
       "      <th>XBC</th>\n",
       "      <td>BitcoinPlus</td>\n",
       "      <td>Scrypt</td>\n",
       "      <td>PoS</td>\n",
       "      <td>1.283270e+05</td>\n",
       "      <td>1000000</td>\n",
       "    </tr>\n",
       "  </tbody>\n",
       "</table>\n",
       "<p>685 rows × 5 columns</p>\n",
       "</div>"
      ],
      "text/plain": [
       "         CoinName    Algorithm ProofType  TotalCoinsMined TotalCoinSupply\n",
       "42        42 Coin       Scrypt   PoW/PoS     4.199995e+01              42\n",
       "404       404Coin       Scrypt   PoW/PoS     1.055185e+09       532000000\n",
       "808           808      SHA-256   PoW/PoS     0.000000e+00               0\n",
       "1337    EliteCoin          X13   PoW/PoS     2.927942e+10    314159265359\n",
       "BTC       Bitcoin      SHA-256       PoW     1.792718e+07        21000000\n",
       "...           ...          ...       ...              ...             ...\n",
       "ZEPH       ZEPHYR      SHA-256      DPoS     2.000000e+09      2000000000\n",
       "GAP       Gapcoin       Scrypt   PoW/PoS     1.493105e+07       250000000\n",
       "BDX        Beldex  CryptoNight       PoW     9.802226e+08      1400222610\n",
       "ZEN       Horizen     Equihash       PoW     7.296538e+06        21000000\n",
       "XBC   BitcoinPlus       Scrypt       PoS     1.283270e+05         1000000\n",
       "\n",
       "[685 rows x 5 columns]"
      ]
     },
     "execution_count": 29,
     "metadata": {},
     "output_type": "execute_result"
    }
   ],
   "source": [
    "# Remove rows that have at least 1 null value.\n",
    "df_crypto = df_crypto.dropna(how='any',axis=0) \n",
    "df_crypto"
   ]
  },
  {
   "cell_type": "code",
   "execution_count": 30,
   "metadata": {},
   "outputs": [
    {
     "data": {
      "text/html": [
       "<div>\n",
       "<style scoped>\n",
       "    .dataframe tbody tr th:only-of-type {\n",
       "        vertical-align: middle;\n",
       "    }\n",
       "\n",
       "    .dataframe tbody tr th {\n",
       "        vertical-align: top;\n",
       "    }\n",
       "\n",
       "    .dataframe thead th {\n",
       "        text-align: right;\n",
       "    }\n",
       "</style>\n",
       "<table border=\"1\" class=\"dataframe\">\n",
       "  <thead>\n",
       "    <tr style=\"text-align: right;\">\n",
       "      <th></th>\n",
       "      <th>CoinName</th>\n",
       "      <th>Algorithm</th>\n",
       "      <th>ProofType</th>\n",
       "      <th>TotalCoinsMined</th>\n",
       "      <th>TotalCoinSupply</th>\n",
       "    </tr>\n",
       "  </thead>\n",
       "  <tbody>\n",
       "    <tr>\n",
       "      <th>42</th>\n",
       "      <td>42 Coin</td>\n",
       "      <td>Scrypt</td>\n",
       "      <td>PoW/PoS</td>\n",
       "      <td>4.199995e+01</td>\n",
       "      <td>42</td>\n",
       "    </tr>\n",
       "    <tr>\n",
       "      <th>404</th>\n",
       "      <td>404Coin</td>\n",
       "      <td>Scrypt</td>\n",
       "      <td>PoW/PoS</td>\n",
       "      <td>1.055185e+09</td>\n",
       "      <td>532000000</td>\n",
       "    </tr>\n",
       "    <tr>\n",
       "      <th>1337</th>\n",
       "      <td>EliteCoin</td>\n",
       "      <td>X13</td>\n",
       "      <td>PoW/PoS</td>\n",
       "      <td>2.927942e+10</td>\n",
       "      <td>314159265359</td>\n",
       "    </tr>\n",
       "    <tr>\n",
       "      <th>BTC</th>\n",
       "      <td>Bitcoin</td>\n",
       "      <td>SHA-256</td>\n",
       "      <td>PoW</td>\n",
       "      <td>1.792718e+07</td>\n",
       "      <td>21000000</td>\n",
       "    </tr>\n",
       "    <tr>\n",
       "      <th>ETH</th>\n",
       "      <td>Ethereum</td>\n",
       "      <td>Ethash</td>\n",
       "      <td>PoW</td>\n",
       "      <td>1.076842e+08</td>\n",
       "      <td>0</td>\n",
       "    </tr>\n",
       "    <tr>\n",
       "      <th>...</th>\n",
       "      <td>...</td>\n",
       "      <td>...</td>\n",
       "      <td>...</td>\n",
       "      <td>...</td>\n",
       "      <td>...</td>\n",
       "    </tr>\n",
       "    <tr>\n",
       "      <th>ZEPH</th>\n",
       "      <td>ZEPHYR</td>\n",
       "      <td>SHA-256</td>\n",
       "      <td>DPoS</td>\n",
       "      <td>2.000000e+09</td>\n",
       "      <td>2000000000</td>\n",
       "    </tr>\n",
       "    <tr>\n",
       "      <th>GAP</th>\n",
       "      <td>Gapcoin</td>\n",
       "      <td>Scrypt</td>\n",
       "      <td>PoW/PoS</td>\n",
       "      <td>1.493105e+07</td>\n",
       "      <td>250000000</td>\n",
       "    </tr>\n",
       "    <tr>\n",
       "      <th>BDX</th>\n",
       "      <td>Beldex</td>\n",
       "      <td>CryptoNight</td>\n",
       "      <td>PoW</td>\n",
       "      <td>9.802226e+08</td>\n",
       "      <td>1400222610</td>\n",
       "    </tr>\n",
       "    <tr>\n",
       "      <th>ZEN</th>\n",
       "      <td>Horizen</td>\n",
       "      <td>Equihash</td>\n",
       "      <td>PoW</td>\n",
       "      <td>7.296538e+06</td>\n",
       "      <td>21000000</td>\n",
       "    </tr>\n",
       "    <tr>\n",
       "      <th>XBC</th>\n",
       "      <td>BitcoinPlus</td>\n",
       "      <td>Scrypt</td>\n",
       "      <td>PoS</td>\n",
       "      <td>1.283270e+05</td>\n",
       "      <td>1000000</td>\n",
       "    </tr>\n",
       "  </tbody>\n",
       "</table>\n",
       "<p>532 rows × 5 columns</p>\n",
       "</div>"
      ],
      "text/plain": [
       "         CoinName    Algorithm ProofType  TotalCoinsMined TotalCoinSupply\n",
       "42        42 Coin       Scrypt   PoW/PoS     4.199995e+01              42\n",
       "404       404Coin       Scrypt   PoW/PoS     1.055185e+09       532000000\n",
       "1337    EliteCoin          X13   PoW/PoS     2.927942e+10    314159265359\n",
       "BTC       Bitcoin      SHA-256       PoW     1.792718e+07        21000000\n",
       "ETH      Ethereum       Ethash       PoW     1.076842e+08               0\n",
       "...           ...          ...       ...              ...             ...\n",
       "ZEPH       ZEPHYR      SHA-256      DPoS     2.000000e+09      2000000000\n",
       "GAP       Gapcoin       Scrypt   PoW/PoS     1.493105e+07       250000000\n",
       "BDX        Beldex  CryptoNight       PoW     9.802226e+08      1400222610\n",
       "ZEN       Horizen     Equihash       PoW     7.296538e+06        21000000\n",
       "XBC   BitcoinPlus       Scrypt       PoS     1.283270e+05         1000000\n",
       "\n",
       "[532 rows x 5 columns]"
      ]
     },
     "execution_count": 30,
     "metadata": {},
     "output_type": "execute_result"
    }
   ],
   "source": [
    "# Keep the rows where coins are mined.\n",
    "df_crypto = df_crypto[df_crypto.TotalCoinsMined > 0]\n",
    "df_crypto"
   ]
  },
  {
   "cell_type": "code",
   "execution_count": 31,
   "metadata": {},
   "outputs": [
    {
     "data": {
      "text/html": [
       "<div>\n",
       "<style scoped>\n",
       "    .dataframe tbody tr th:only-of-type {\n",
       "        vertical-align: middle;\n",
       "    }\n",
       "\n",
       "    .dataframe tbody tr th {\n",
       "        vertical-align: top;\n",
       "    }\n",
       "\n",
       "    .dataframe thead th {\n",
       "        text-align: right;\n",
       "    }\n",
       "</style>\n",
       "<table border=\"1\" class=\"dataframe\">\n",
       "  <thead>\n",
       "    <tr style=\"text-align: right;\">\n",
       "      <th></th>\n",
       "      <th>CoinName</th>\n",
       "    </tr>\n",
       "  </thead>\n",
       "  <tbody>\n",
       "    <tr>\n",
       "      <th>42</th>\n",
       "      <td>42 Coin</td>\n",
       "    </tr>\n",
       "    <tr>\n",
       "      <th>404</th>\n",
       "      <td>404Coin</td>\n",
       "    </tr>\n",
       "    <tr>\n",
       "      <th>1337</th>\n",
       "      <td>EliteCoin</td>\n",
       "    </tr>\n",
       "    <tr>\n",
       "      <th>BTC</th>\n",
       "      <td>Bitcoin</td>\n",
       "    </tr>\n",
       "    <tr>\n",
       "      <th>ETH</th>\n",
       "      <td>Ethereum</td>\n",
       "    </tr>\n",
       "    <tr>\n",
       "      <th>...</th>\n",
       "      <td>...</td>\n",
       "    </tr>\n",
       "    <tr>\n",
       "      <th>ZEPH</th>\n",
       "      <td>ZEPHYR</td>\n",
       "    </tr>\n",
       "    <tr>\n",
       "      <th>GAP</th>\n",
       "      <td>Gapcoin</td>\n",
       "    </tr>\n",
       "    <tr>\n",
       "      <th>BDX</th>\n",
       "      <td>Beldex</td>\n",
       "    </tr>\n",
       "    <tr>\n",
       "      <th>ZEN</th>\n",
       "      <td>Horizen</td>\n",
       "    </tr>\n",
       "    <tr>\n",
       "      <th>XBC</th>\n",
       "      <td>BitcoinPlus</td>\n",
       "    </tr>\n",
       "  </tbody>\n",
       "</table>\n",
       "<p>532 rows × 1 columns</p>\n",
       "</div>"
      ],
      "text/plain": [
       "         CoinName\n",
       "42        42 Coin\n",
       "404       404Coin\n",
       "1337    EliteCoin\n",
       "BTC       Bitcoin\n",
       "ETH      Ethereum\n",
       "...           ...\n",
       "ZEPH       ZEPHYR\n",
       "GAP       Gapcoin\n",
       "BDX        Beldex\n",
       "ZEN       Horizen\n",
       "XBC   BitcoinPlus\n",
       "\n",
       "[532 rows x 1 columns]"
      ]
     },
     "execution_count": 31,
     "metadata": {},
     "output_type": "execute_result"
    }
   ],
   "source": [
    "# Create a new DataFrame that holds only the cryptocurrencies names.\n",
    "names = df_crypto.filter(['CoinName'], axis=1)\n",
    "names"
   ]
  },
  {
   "cell_type": "code",
   "execution_count": 32,
   "metadata": {},
   "outputs": [
    {
     "data": {
      "text/html": [
       "<div>\n",
       "<style scoped>\n",
       "    .dataframe tbody tr th:only-of-type {\n",
       "        vertical-align: middle;\n",
       "    }\n",
       "\n",
       "    .dataframe tbody tr th {\n",
       "        vertical-align: top;\n",
       "    }\n",
       "\n",
       "    .dataframe thead th {\n",
       "        text-align: right;\n",
       "    }\n",
       "</style>\n",
       "<table border=\"1\" class=\"dataframe\">\n",
       "  <thead>\n",
       "    <tr style=\"text-align: right;\">\n",
       "      <th></th>\n",
       "      <th>Algorithm</th>\n",
       "      <th>ProofType</th>\n",
       "      <th>TotalCoinsMined</th>\n",
       "      <th>TotalCoinSupply</th>\n",
       "    </tr>\n",
       "  </thead>\n",
       "  <tbody>\n",
       "    <tr>\n",
       "      <th>42</th>\n",
       "      <td>Scrypt</td>\n",
       "      <td>PoW/PoS</td>\n",
       "      <td>4.199995e+01</td>\n",
       "      <td>42</td>\n",
       "    </tr>\n",
       "    <tr>\n",
       "      <th>404</th>\n",
       "      <td>Scrypt</td>\n",
       "      <td>PoW/PoS</td>\n",
       "      <td>1.055185e+09</td>\n",
       "      <td>532000000</td>\n",
       "    </tr>\n",
       "    <tr>\n",
       "      <th>1337</th>\n",
       "      <td>X13</td>\n",
       "      <td>PoW/PoS</td>\n",
       "      <td>2.927942e+10</td>\n",
       "      <td>314159265359</td>\n",
       "    </tr>\n",
       "    <tr>\n",
       "      <th>BTC</th>\n",
       "      <td>SHA-256</td>\n",
       "      <td>PoW</td>\n",
       "      <td>1.792718e+07</td>\n",
       "      <td>21000000</td>\n",
       "    </tr>\n",
       "    <tr>\n",
       "      <th>ETH</th>\n",
       "      <td>Ethash</td>\n",
       "      <td>PoW</td>\n",
       "      <td>1.076842e+08</td>\n",
       "      <td>0</td>\n",
       "    </tr>\n",
       "    <tr>\n",
       "      <th>...</th>\n",
       "      <td>...</td>\n",
       "      <td>...</td>\n",
       "      <td>...</td>\n",
       "      <td>...</td>\n",
       "    </tr>\n",
       "    <tr>\n",
       "      <th>ZEPH</th>\n",
       "      <td>SHA-256</td>\n",
       "      <td>DPoS</td>\n",
       "      <td>2.000000e+09</td>\n",
       "      <td>2000000000</td>\n",
       "    </tr>\n",
       "    <tr>\n",
       "      <th>GAP</th>\n",
       "      <td>Scrypt</td>\n",
       "      <td>PoW/PoS</td>\n",
       "      <td>1.493105e+07</td>\n",
       "      <td>250000000</td>\n",
       "    </tr>\n",
       "    <tr>\n",
       "      <th>BDX</th>\n",
       "      <td>CryptoNight</td>\n",
       "      <td>PoW</td>\n",
       "      <td>9.802226e+08</td>\n",
       "      <td>1400222610</td>\n",
       "    </tr>\n",
       "    <tr>\n",
       "      <th>ZEN</th>\n",
       "      <td>Equihash</td>\n",
       "      <td>PoW</td>\n",
       "      <td>7.296538e+06</td>\n",
       "      <td>21000000</td>\n",
       "    </tr>\n",
       "    <tr>\n",
       "      <th>XBC</th>\n",
       "      <td>Scrypt</td>\n",
       "      <td>PoS</td>\n",
       "      <td>1.283270e+05</td>\n",
       "      <td>1000000</td>\n",
       "    </tr>\n",
       "  </tbody>\n",
       "</table>\n",
       "<p>532 rows × 4 columns</p>\n",
       "</div>"
      ],
      "text/plain": [
       "        Algorithm ProofType  TotalCoinsMined TotalCoinSupply\n",
       "42         Scrypt   PoW/PoS     4.199995e+01              42\n",
       "404        Scrypt   PoW/PoS     1.055185e+09       532000000\n",
       "1337          X13   PoW/PoS     2.927942e+10    314159265359\n",
       "BTC       SHA-256       PoW     1.792718e+07        21000000\n",
       "ETH        Ethash       PoW     1.076842e+08               0\n",
       "...           ...       ...              ...             ...\n",
       "ZEPH      SHA-256      DPoS     2.000000e+09      2000000000\n",
       "GAP        Scrypt   PoW/PoS     1.493105e+07       250000000\n",
       "BDX   CryptoNight       PoW     9.802226e+08      1400222610\n",
       "ZEN      Equihash       PoW     7.296538e+06        21000000\n",
       "XBC        Scrypt       PoS     1.283270e+05         1000000\n",
       "\n",
       "[532 rows x 4 columns]"
      ]
     },
     "execution_count": 32,
     "metadata": {},
     "output_type": "execute_result"
    }
   ],
   "source": [
    "# Drop the 'CoinName' column since it's not going to be used on the clustering algorithm.\n",
    "df_crypto = df_crypto.drop(['CoinName'],axis = 1)\n",
    "df_crypto"
   ]
  },
  {
   "cell_type": "code",
   "execution_count": 33,
   "metadata": {},
   "outputs": [
    {
     "data": {
      "text/html": [
       "<div>\n",
       "<style scoped>\n",
       "    .dataframe tbody tr th:only-of-type {\n",
       "        vertical-align: middle;\n",
       "    }\n",
       "\n",
       "    .dataframe tbody tr th {\n",
       "        vertical-align: top;\n",
       "    }\n",
       "\n",
       "    .dataframe thead th {\n",
       "        text-align: right;\n",
       "    }\n",
       "</style>\n",
       "<table border=\"1\" class=\"dataframe\">\n",
       "  <thead>\n",
       "    <tr style=\"text-align: right;\">\n",
       "      <th></th>\n",
       "      <th>TotalCoinsMined</th>\n",
       "      <th>TotalCoinSupply</th>\n",
       "      <th>1GB AES Pattern Search</th>\n",
       "      <th>536</th>\n",
       "      <th>Argon2d</th>\n",
       "      <th>BLAKE256</th>\n",
       "      <th>Blake</th>\n",
       "      <th>Blake2S</th>\n",
       "      <th>Blake2b</th>\n",
       "      <th>C11</th>\n",
       "      <th>...</th>\n",
       "      <th>PoW/PoS</th>\n",
       "      <th>PoW/PoS</th>\n",
       "      <th>PoW/PoW</th>\n",
       "      <th>PoW/nPoS</th>\n",
       "      <th>Pos</th>\n",
       "      <th>Proof of Authority</th>\n",
       "      <th>Proof of Trust</th>\n",
       "      <th>TPoS</th>\n",
       "      <th>Zero-Knowledge Proof</th>\n",
       "      <th>dPoW/PoW</th>\n",
       "    </tr>\n",
       "  </thead>\n",
       "  <tbody>\n",
       "    <tr>\n",
       "      <th>42</th>\n",
       "      <td>4.199995e+01</td>\n",
       "      <td>42</td>\n",
       "      <td>0</td>\n",
       "      <td>0</td>\n",
       "      <td>0</td>\n",
       "      <td>0</td>\n",
       "      <td>0</td>\n",
       "      <td>0</td>\n",
       "      <td>0</td>\n",
       "      <td>0</td>\n",
       "      <td>...</td>\n",
       "      <td>1</td>\n",
       "      <td>0</td>\n",
       "      <td>0</td>\n",
       "      <td>0</td>\n",
       "      <td>0</td>\n",
       "      <td>0</td>\n",
       "      <td>0</td>\n",
       "      <td>0</td>\n",
       "      <td>0</td>\n",
       "      <td>0</td>\n",
       "    </tr>\n",
       "    <tr>\n",
       "      <th>404</th>\n",
       "      <td>1.055185e+09</td>\n",
       "      <td>532000000</td>\n",
       "      <td>0</td>\n",
       "      <td>0</td>\n",
       "      <td>0</td>\n",
       "      <td>0</td>\n",
       "      <td>0</td>\n",
       "      <td>0</td>\n",
       "      <td>0</td>\n",
       "      <td>0</td>\n",
       "      <td>...</td>\n",
       "      <td>1</td>\n",
       "      <td>0</td>\n",
       "      <td>0</td>\n",
       "      <td>0</td>\n",
       "      <td>0</td>\n",
       "      <td>0</td>\n",
       "      <td>0</td>\n",
       "      <td>0</td>\n",
       "      <td>0</td>\n",
       "      <td>0</td>\n",
       "    </tr>\n",
       "    <tr>\n",
       "      <th>1337</th>\n",
       "      <td>2.927942e+10</td>\n",
       "      <td>314159265359</td>\n",
       "      <td>0</td>\n",
       "      <td>0</td>\n",
       "      <td>0</td>\n",
       "      <td>0</td>\n",
       "      <td>0</td>\n",
       "      <td>0</td>\n",
       "      <td>0</td>\n",
       "      <td>0</td>\n",
       "      <td>...</td>\n",
       "      <td>1</td>\n",
       "      <td>0</td>\n",
       "      <td>0</td>\n",
       "      <td>0</td>\n",
       "      <td>0</td>\n",
       "      <td>0</td>\n",
       "      <td>0</td>\n",
       "      <td>0</td>\n",
       "      <td>0</td>\n",
       "      <td>0</td>\n",
       "    </tr>\n",
       "    <tr>\n",
       "      <th>BTC</th>\n",
       "      <td>1.792718e+07</td>\n",
       "      <td>21000000</td>\n",
       "      <td>0</td>\n",
       "      <td>0</td>\n",
       "      <td>0</td>\n",
       "      <td>0</td>\n",
       "      <td>0</td>\n",
       "      <td>0</td>\n",
       "      <td>0</td>\n",
       "      <td>0</td>\n",
       "      <td>...</td>\n",
       "      <td>0</td>\n",
       "      <td>0</td>\n",
       "      <td>0</td>\n",
       "      <td>0</td>\n",
       "      <td>0</td>\n",
       "      <td>0</td>\n",
       "      <td>0</td>\n",
       "      <td>0</td>\n",
       "      <td>0</td>\n",
       "      <td>0</td>\n",
       "    </tr>\n",
       "    <tr>\n",
       "      <th>ETH</th>\n",
       "      <td>1.076842e+08</td>\n",
       "      <td>0</td>\n",
       "      <td>0</td>\n",
       "      <td>0</td>\n",
       "      <td>0</td>\n",
       "      <td>0</td>\n",
       "      <td>0</td>\n",
       "      <td>0</td>\n",
       "      <td>0</td>\n",
       "      <td>0</td>\n",
       "      <td>...</td>\n",
       "      <td>0</td>\n",
       "      <td>0</td>\n",
       "      <td>0</td>\n",
       "      <td>0</td>\n",
       "      <td>0</td>\n",
       "      <td>0</td>\n",
       "      <td>0</td>\n",
       "      <td>0</td>\n",
       "      <td>0</td>\n",
       "      <td>0</td>\n",
       "    </tr>\n",
       "    <tr>\n",
       "      <th>...</th>\n",
       "      <td>...</td>\n",
       "      <td>...</td>\n",
       "      <td>...</td>\n",
       "      <td>...</td>\n",
       "      <td>...</td>\n",
       "      <td>...</td>\n",
       "      <td>...</td>\n",
       "      <td>...</td>\n",
       "      <td>...</td>\n",
       "      <td>...</td>\n",
       "      <td>...</td>\n",
       "      <td>...</td>\n",
       "      <td>...</td>\n",
       "      <td>...</td>\n",
       "      <td>...</td>\n",
       "      <td>...</td>\n",
       "      <td>...</td>\n",
       "      <td>...</td>\n",
       "      <td>...</td>\n",
       "      <td>...</td>\n",
       "      <td>...</td>\n",
       "    </tr>\n",
       "    <tr>\n",
       "      <th>ZEPH</th>\n",
       "      <td>2.000000e+09</td>\n",
       "      <td>2000000000</td>\n",
       "      <td>0</td>\n",
       "      <td>0</td>\n",
       "      <td>0</td>\n",
       "      <td>0</td>\n",
       "      <td>0</td>\n",
       "      <td>0</td>\n",
       "      <td>0</td>\n",
       "      <td>0</td>\n",
       "      <td>...</td>\n",
       "      <td>0</td>\n",
       "      <td>0</td>\n",
       "      <td>0</td>\n",
       "      <td>0</td>\n",
       "      <td>0</td>\n",
       "      <td>0</td>\n",
       "      <td>0</td>\n",
       "      <td>0</td>\n",
       "      <td>0</td>\n",
       "      <td>0</td>\n",
       "    </tr>\n",
       "    <tr>\n",
       "      <th>GAP</th>\n",
       "      <td>1.493105e+07</td>\n",
       "      <td>250000000</td>\n",
       "      <td>0</td>\n",
       "      <td>0</td>\n",
       "      <td>0</td>\n",
       "      <td>0</td>\n",
       "      <td>0</td>\n",
       "      <td>0</td>\n",
       "      <td>0</td>\n",
       "      <td>0</td>\n",
       "      <td>...</td>\n",
       "      <td>1</td>\n",
       "      <td>0</td>\n",
       "      <td>0</td>\n",
       "      <td>0</td>\n",
       "      <td>0</td>\n",
       "      <td>0</td>\n",
       "      <td>0</td>\n",
       "      <td>0</td>\n",
       "      <td>0</td>\n",
       "      <td>0</td>\n",
       "    </tr>\n",
       "    <tr>\n",
       "      <th>BDX</th>\n",
       "      <td>9.802226e+08</td>\n",
       "      <td>1400222610</td>\n",
       "      <td>0</td>\n",
       "      <td>0</td>\n",
       "      <td>0</td>\n",
       "      <td>0</td>\n",
       "      <td>0</td>\n",
       "      <td>0</td>\n",
       "      <td>0</td>\n",
       "      <td>0</td>\n",
       "      <td>...</td>\n",
       "      <td>0</td>\n",
       "      <td>0</td>\n",
       "      <td>0</td>\n",
       "      <td>0</td>\n",
       "      <td>0</td>\n",
       "      <td>0</td>\n",
       "      <td>0</td>\n",
       "      <td>0</td>\n",
       "      <td>0</td>\n",
       "      <td>0</td>\n",
       "    </tr>\n",
       "    <tr>\n",
       "      <th>ZEN</th>\n",
       "      <td>7.296538e+06</td>\n",
       "      <td>21000000</td>\n",
       "      <td>0</td>\n",
       "      <td>0</td>\n",
       "      <td>0</td>\n",
       "      <td>0</td>\n",
       "      <td>0</td>\n",
       "      <td>0</td>\n",
       "      <td>0</td>\n",
       "      <td>0</td>\n",
       "      <td>...</td>\n",
       "      <td>0</td>\n",
       "      <td>0</td>\n",
       "      <td>0</td>\n",
       "      <td>0</td>\n",
       "      <td>0</td>\n",
       "      <td>0</td>\n",
       "      <td>0</td>\n",
       "      <td>0</td>\n",
       "      <td>0</td>\n",
       "      <td>0</td>\n",
       "    </tr>\n",
       "    <tr>\n",
       "      <th>XBC</th>\n",
       "      <td>1.283270e+05</td>\n",
       "      <td>1000000</td>\n",
       "      <td>0</td>\n",
       "      <td>0</td>\n",
       "      <td>0</td>\n",
       "      <td>0</td>\n",
       "      <td>0</td>\n",
       "      <td>0</td>\n",
       "      <td>0</td>\n",
       "      <td>0</td>\n",
       "      <td>...</td>\n",
       "      <td>0</td>\n",
       "      <td>0</td>\n",
       "      <td>0</td>\n",
       "      <td>0</td>\n",
       "      <td>0</td>\n",
       "      <td>0</td>\n",
       "      <td>0</td>\n",
       "      <td>0</td>\n",
       "      <td>0</td>\n",
       "      <td>0</td>\n",
       "    </tr>\n",
       "  </tbody>\n",
       "</table>\n",
       "<p>532 rows × 98 columns</p>\n",
       "</div>"
      ],
      "text/plain": [
       "      TotalCoinsMined TotalCoinSupply  1GB AES Pattern Search  536  Argon2d  \\\n",
       "42       4.199995e+01              42                       0    0        0   \n",
       "404      1.055185e+09       532000000                       0    0        0   \n",
       "1337     2.927942e+10    314159265359                       0    0        0   \n",
       "BTC      1.792718e+07        21000000                       0    0        0   \n",
       "ETH      1.076842e+08               0                       0    0        0   \n",
       "...               ...             ...                     ...  ...      ...   \n",
       "ZEPH     2.000000e+09      2000000000                       0    0        0   \n",
       "GAP      1.493105e+07       250000000                       0    0        0   \n",
       "BDX      9.802226e+08      1400222610                       0    0        0   \n",
       "ZEN      7.296538e+06        21000000                       0    0        0   \n",
       "XBC      1.283270e+05         1000000                       0    0        0   \n",
       "\n",
       "      BLAKE256  Blake  Blake2S  Blake2b  C11  ...  PoW/PoS  PoW/PoS   PoW/PoW  \\\n",
       "42           0      0        0        0    0  ...        1         0        0   \n",
       "404          0      0        0        0    0  ...        1         0        0   \n",
       "1337         0      0        0        0    0  ...        1         0        0   \n",
       "BTC          0      0        0        0    0  ...        0         0        0   \n",
       "ETH          0      0        0        0    0  ...        0         0        0   \n",
       "...        ...    ...      ...      ...  ...  ...      ...       ...      ...   \n",
       "ZEPH         0      0        0        0    0  ...        0         0        0   \n",
       "GAP          0      0        0        0    0  ...        1         0        0   \n",
       "BDX          0      0        0        0    0  ...        0         0        0   \n",
       "ZEN          0      0        0        0    0  ...        0         0        0   \n",
       "XBC          0      0        0        0    0  ...        0         0        0   \n",
       "\n",
       "      PoW/nPoS  Pos  Proof of Authority  Proof of Trust  TPoS  \\\n",
       "42           0    0                   0               0     0   \n",
       "404          0    0                   0               0     0   \n",
       "1337         0    0                   0               0     0   \n",
       "BTC          0    0                   0               0     0   \n",
       "ETH          0    0                   0               0     0   \n",
       "...        ...  ...                 ...             ...   ...   \n",
       "ZEPH         0    0                   0               0     0   \n",
       "GAP          0    0                   0               0     0   \n",
       "BDX          0    0                   0               0     0   \n",
       "ZEN          0    0                   0               0     0   \n",
       "XBC          0    0                   0               0     0   \n",
       "\n",
       "      Zero-Knowledge Proof  dPoW/PoW  \n",
       "42                       0         0  \n",
       "404                      0         0  \n",
       "1337                     0         0  \n",
       "BTC                      0         0  \n",
       "ETH                      0         0  \n",
       "...                    ...       ...  \n",
       "ZEPH                     0         0  \n",
       "GAP                      0         0  \n",
       "BDX                      0         0  \n",
       "ZEN                      0         0  \n",
       "XBC                      0         0  \n",
       "\n",
       "[532 rows x 98 columns]"
      ]
     },
     "execution_count": 33,
     "metadata": {},
     "output_type": "execute_result"
    }
   ],
   "source": [
    "# Use get_dummies() to create variables for text features.\n",
    "crypto = pd.get_dummies(df_crypto['Algorithm'])\n",
    "dummy = pd.get_dummies(df_crypto['ProofType'])\n",
    "combined = pd.concat([crypto,dummy],axis =1)\n",
    "df = df_crypto.merge(combined,left_index = True,right_index = True)\n",
    "df = df.drop(['Algorithm','ProofType'],axis = 1)\n",
    "df"
   ]
  },
  {
   "cell_type": "code",
   "execution_count": 34,
   "metadata": {},
   "outputs": [
    {
     "name": "stdout",
     "output_type": "stream",
     "text": [
      "[[-0.11710817 -0.1528703  -0.0433963  ... -0.0433963  -0.0433963\n",
      "  -0.0433963 ]\n",
      " [-0.09396955 -0.145009   -0.0433963  ... -0.0433963  -0.0433963\n",
      "  -0.0433963 ]\n",
      " [ 0.52494561  4.48942416 -0.0433963  ... -0.0433963  -0.0433963\n",
      "  -0.0433963 ]\n",
      " ...\n",
      " [-0.09561336 -0.13217937 -0.0433963  ... -0.0433963  -0.0433963\n",
      "  -0.0433963 ]\n",
      " [-0.11694817 -0.15255998 -0.0433963  ... -0.0433963  -0.0433963\n",
      "  -0.0433963 ]\n",
      " [-0.11710536 -0.15285552 -0.0433963  ... -0.0433963  -0.0433963\n",
      "  -0.0433963 ]]\n"
     ]
    }
   ],
   "source": [
    "# Standardize the data with StandardScaler().\n",
    "df_scaled = StandardScaler().fit_transform(df)\n",
    "print(df_scaled)"
   ]
  },
  {
   "cell_type": "markdown",
   "metadata": {},
   "source": [
    "### Deliverable 2: Reducing Data Dimensions Using PCA"
   ]
  },
  {
   "cell_type": "code",
   "execution_count": 35,
   "metadata": {},
   "outputs": [
    {
     "data": {
      "text/plain": [
       "array([[-0.33536605,  0.98057243, -0.43893084],\n",
       "       [-0.31870938,  0.98070777, -0.43943174],\n",
       "       [ 2.29846371,  1.54395445, -0.51620694],\n",
       "       ...,\n",
       "       [ 0.33062996, -2.26424822,  0.34004758],\n",
       "       [-0.15345699, -1.92701111,  0.36621226],\n",
       "       [-0.28667698,  0.8350884 , -0.28094225]])"
      ]
     },
     "execution_count": 35,
     "metadata": {},
     "output_type": "execute_result"
    }
   ],
   "source": [
    "# Using PCA to reduce dimension to three principal components.\n",
    "pca = PCA(n_components=3)\n",
    "df_pca = pca.fit_transform(df_scaled)\n",
    "df_pca"
   ]
  },
  {
   "cell_type": "code",
   "execution_count": 36,
   "metadata": {},
   "outputs": [
    {
     "data": {
      "text/html": [
       "<div>\n",
       "<style scoped>\n",
       "    .dataframe tbody tr th:only-of-type {\n",
       "        vertical-align: middle;\n",
       "    }\n",
       "\n",
       "    .dataframe tbody tr th {\n",
       "        vertical-align: top;\n",
       "    }\n",
       "\n",
       "    .dataframe thead th {\n",
       "        text-align: right;\n",
       "    }\n",
       "</style>\n",
       "<table border=\"1\" class=\"dataframe\">\n",
       "  <thead>\n",
       "    <tr style=\"text-align: right;\">\n",
       "      <th></th>\n",
       "      <th>PC 1</th>\n",
       "      <th>PC 2</th>\n",
       "      <th>PC 3</th>\n",
       "    </tr>\n",
       "  </thead>\n",
       "  <tbody>\n",
       "    <tr>\n",
       "      <th>42</th>\n",
       "      <td>-0.335366</td>\n",
       "      <td>0.980572</td>\n",
       "      <td>-0.438931</td>\n",
       "    </tr>\n",
       "    <tr>\n",
       "      <th>404</th>\n",
       "      <td>-0.318709</td>\n",
       "      <td>0.980708</td>\n",
       "      <td>-0.439432</td>\n",
       "    </tr>\n",
       "    <tr>\n",
       "      <th>1337</th>\n",
       "      <td>2.298464</td>\n",
       "      <td>1.543954</td>\n",
       "      <td>-0.516207</td>\n",
       "    </tr>\n",
       "    <tr>\n",
       "      <th>BTC</th>\n",
       "      <td>-0.134571</td>\n",
       "      <td>-1.295903</td>\n",
       "      <td>0.215642</td>\n",
       "    </tr>\n",
       "    <tr>\n",
       "      <th>ETH</th>\n",
       "      <td>-0.155164</td>\n",
       "      <td>-2.021702</td>\n",
       "      <td>0.318502</td>\n",
       "    </tr>\n",
       "    <tr>\n",
       "      <th>...</th>\n",
       "      <td>...</td>\n",
       "      <td>...</td>\n",
       "      <td>...</td>\n",
       "    </tr>\n",
       "    <tr>\n",
       "      <th>ZEPH</th>\n",
       "      <td>2.482987</td>\n",
       "      <td>0.904400</td>\n",
       "      <td>-0.311258</td>\n",
       "    </tr>\n",
       "    <tr>\n",
       "      <th>GAP</th>\n",
       "      <td>-0.333411</td>\n",
       "      <td>0.980458</td>\n",
       "      <td>-0.438956</td>\n",
       "    </tr>\n",
       "    <tr>\n",
       "      <th>BDX</th>\n",
       "      <td>0.330630</td>\n",
       "      <td>-2.264248</td>\n",
       "      <td>0.340048</td>\n",
       "    </tr>\n",
       "    <tr>\n",
       "      <th>ZEN</th>\n",
       "      <td>-0.153457</td>\n",
       "      <td>-1.927011</td>\n",
       "      <td>0.366212</td>\n",
       "    </tr>\n",
       "    <tr>\n",
       "      <th>XBC</th>\n",
       "      <td>-0.286677</td>\n",
       "      <td>0.835088</td>\n",
       "      <td>-0.280942</td>\n",
       "    </tr>\n",
       "  </tbody>\n",
       "</table>\n",
       "<p>532 rows × 3 columns</p>\n",
       "</div>"
      ],
      "text/plain": [
       "          PC 1      PC 2      PC 3\n",
       "42   -0.335366  0.980572 -0.438931\n",
       "404  -0.318709  0.980708 -0.439432\n",
       "1337  2.298464  1.543954 -0.516207\n",
       "BTC  -0.134571 -1.295903  0.215642\n",
       "ETH  -0.155164 -2.021702  0.318502\n",
       "...        ...       ...       ...\n",
       "ZEPH  2.482987  0.904400 -0.311258\n",
       "GAP  -0.333411  0.980458 -0.438956\n",
       "BDX   0.330630 -2.264248  0.340048\n",
       "ZEN  -0.153457 -1.927011  0.366212\n",
       "XBC  -0.286677  0.835088 -0.280942\n",
       "\n",
       "[532 rows x 3 columns]"
      ]
     },
     "execution_count": 36,
     "metadata": {},
     "output_type": "execute_result"
    }
   ],
   "source": [
    "# Create a DataFrame with the three principal components.\n",
    "pcs_df = pd.DataFrame(\n",
    "    data = df_pca, columns = ['PC 1','PC 2','PC 3'], index = df_crypto.index\n",
    ")\n",
    "pcs_df"
   ]
  },
  {
   "cell_type": "markdown",
   "metadata": {},
   "source": [
    "### Deliverable 3: Clustering Crytocurrencies Using K-Means\n",
    "\n",
    "#### Finding the Best Value for `k` Using the Elbow Curve"
   ]
  },
  {
   "cell_type": "code",
   "execution_count": 37,
   "metadata": {},
   "outputs": [
    {
     "name": "stderr",
     "output_type": "stream",
     "text": [
      "C:\\Users\\Reila\\Anaconda3\\envs\\mlenv\\lib\\site-packages\\sklearn\\cluster\\_kmeans.py:1037: UserWarning:\n",
      "\n",
      "KMeans is known to have a memory leak on Windows with MKL, when there are less chunks than available threads. You can avoid it by setting the environment variable OMP_NUM_THREADS=3.\n",
      "\n"
     ]
    },
    {
     "data": {},
     "metadata": {},
     "output_type": "display_data"
    },
    {
     "data": {
      "application/vnd.holoviews_exec.v0+json": "",
      "text/html": [
       "<div id='1551'>\n",
       "\n",
       "\n",
       "\n",
       "\n",
       "\n",
       "  <div class=\"bk-root\" id=\"05540b4b-d2eb-4c84-88c7-836102da7d23\" data-root-id=\"1551\"></div>\n",
       "</div>\n",
       "<script type=\"application/javascript\">(function(root) {\n",
       "  function embed_document(root) {\n",
       "    var docs_json = {\"f3de105a-f6bd-484a-b92c-761610c0f9ef\":{\"defs\":[{\"extends\":null,\"module\":null,\"name\":\"ReactiveHTML1\",\"overrides\":[],\"properties\":[]},{\"extends\":null,\"module\":null,\"name\":\"FlexBox1\",\"overrides\":[],\"properties\":[{\"default\":\"flex-start\",\"kind\":null,\"name\":\"align_content\"},{\"default\":\"flex-start\",\"kind\":null,\"name\":\"align_items\"},{\"default\":\"row\",\"kind\":null,\"name\":\"flex_direction\"},{\"default\":\"wrap\",\"kind\":null,\"name\":\"flex_wrap\"},{\"default\":\"flex-start\",\"kind\":null,\"name\":\"justify_content\"}]},{\"extends\":null,\"module\":null,\"name\":\"GridStack1\",\"overrides\":[],\"properties\":[{\"default\":\"warn\",\"kind\":null,\"name\":\"mode\"},{\"default\":null,\"kind\":null,\"name\":\"ncols\"},{\"default\":null,\"kind\":null,\"name\":\"nrows\"},{\"default\":true,\"kind\":null,\"name\":\"allow_resize\"},{\"default\":true,\"kind\":null,\"name\":\"allow_drag\"},{\"default\":[],\"kind\":null,\"name\":\"state\"}]},{\"extends\":null,\"module\":null,\"name\":\"click1\",\"overrides\":[],\"properties\":[{\"default\":\"\",\"kind\":null,\"name\":\"terminal_output\"},{\"default\":\"\",\"kind\":null,\"name\":\"debug_name\"},{\"default\":0,\"kind\":null,\"name\":\"clears\"}]},{\"extends\":null,\"module\":null,\"name\":\"TemplateActions1\",\"overrides\":[],\"properties\":[{\"default\":0,\"kind\":null,\"name\":\"open_modal\"},{\"default\":0,\"kind\":null,\"name\":\"close_modal\"}]},{\"extends\":null,\"module\":null,\"name\":\"MaterialTemplateActions1\",\"overrides\":[],\"properties\":[{\"default\":0,\"kind\":null,\"name\":\"open_modal\"},{\"default\":0,\"kind\":null,\"name\":\"close_modal\"}]}],\"roots\":{\"references\":[{\"attributes\":{\"tools\":[{\"id\":\"1555\"},{\"id\":\"1573\"},{\"id\":\"1574\"},{\"id\":\"1575\"},{\"id\":\"1576\"},{\"id\":\"1577\"}]},\"id\":\"1579\",\"type\":\"Toolbar\"},{\"attributes\":{},\"id\":\"1563\",\"type\":\"LinearScale\"},{\"attributes\":{\"axis_label\":\"inertia\",\"coordinates\":null,\"formatter\":{\"id\":\"1602\"},\"group\":null,\"major_label_policy\":{\"id\":\"1603\"},\"ticker\":{\"id\":\"1570\"}},\"id\":\"1569\",\"type\":\"LinearAxis\"},{\"attributes\":{\"axis_label\":\"k\",\"coordinates\":null,\"formatter\":{\"id\":\"1597\"},\"group\":null,\"major_label_policy\":{\"id\":\"1598\"},\"ticker\":{\"id\":\"1595\"}},\"id\":\"1565\",\"type\":\"LinearAxis\"},{\"attributes\":{\"bottom_units\":\"screen\",\"coordinates\":null,\"fill_alpha\":0.5,\"fill_color\":\"lightgrey\",\"group\":null,\"left_units\":\"screen\",\"level\":\"overlay\",\"line_alpha\":1.0,\"line_color\":\"black\",\"line_dash\":[4,4],\"line_width\":2,\"right_units\":\"screen\",\"syncable\":false,\"top_units\":\"screen\"},\"id\":\"1578\",\"type\":\"BoxAnnotation\"},{\"attributes\":{},\"id\":\"1602\",\"type\":\"BasicTickFormatter\"},{\"attributes\":{\"ticks\":[1,2,3,4,5,6,7,8,9,10]},\"id\":\"1595\",\"type\":\"FixedTicker\"},{\"attributes\":{\"coordinates\":null,\"data_source\":{\"id\":\"1586\"},\"glyph\":{\"id\":\"1589\"},\"group\":null,\"hover_glyph\":null,\"muted_glyph\":{\"id\":\"1591\"},\"nonselection_glyph\":{\"id\":\"1590\"},\"selection_glyph\":{\"id\":\"1594\"},\"view\":{\"id\":\"1593\"}},\"id\":\"1592\",\"type\":\"GlyphRenderer\"},{\"attributes\":{},\"id\":\"1587\",\"type\":\"Selection\"},{\"attributes\":{\"below\":[{\"id\":\"1565\"}],\"center\":[{\"id\":\"1568\"},{\"id\":\"1572\"}],\"height\":300,\"left\":[{\"id\":\"1569\"}],\"margin\":[5,5,5,5],\"min_border_bottom\":10,\"min_border_left\":10,\"min_border_right\":10,\"min_border_top\":10,\"renderers\":[{\"id\":\"1592\"}],\"sizing_mode\":\"fixed\",\"title\":{\"id\":\"1557\"},\"toolbar\":{\"id\":\"1579\"},\"width\":700,\"x_range\":{\"id\":\"1553\"},\"x_scale\":{\"id\":\"1561\"},\"y_range\":{\"id\":\"1554\"},\"y_scale\":{\"id\":\"1563\"}},\"id\":\"1556\",\"subtype\":\"Figure\",\"type\":\"Plot\"},{\"attributes\":{\"axis\":{\"id\":\"1569\"},\"coordinates\":null,\"dimension\":1,\"grid_line_color\":null,\"group\":null,\"ticker\":null},\"id\":\"1572\",\"type\":\"Grid\"},{\"attributes\":{\"line_alpha\":0.2,\"line_color\":\"#30a2da\",\"line_width\":2,\"x\":{\"field\":\"k\"},\"y\":{\"field\":\"inertia\"}},\"id\":\"1591\",\"type\":\"Line\"},{\"attributes\":{},\"id\":\"1597\",\"type\":\"BasicTickFormatter\"},{\"attributes\":{\"end\":10.0,\"reset_end\":10.0,\"reset_start\":1.0,\"start\":1.0,\"tags\":[[[\"k\",\"k\",null]]]},\"id\":\"1553\",\"type\":\"Range1d\"},{\"attributes\":{\"margin\":[5,5,5,5],\"name\":\"HSpacer02714\",\"sizing_mode\":\"stretch_width\"},\"id\":\"1552\",\"type\":\"Spacer\"},{\"attributes\":{},\"id\":\"1598\",\"type\":\"AllLabels\"},{\"attributes\":{\"coordinates\":null,\"group\":null,\"text\":\"Elbow Curve\",\"text_color\":\"black\",\"text_font_size\":\"12pt\"},\"id\":\"1557\",\"type\":\"Title\"},{\"attributes\":{\"line_color\":\"#30a2da\",\"line_width\":2,\"x\":{\"field\":\"k\"},\"y\":{\"field\":\"inertia\"}},\"id\":\"1589\",\"type\":\"Line\"},{\"attributes\":{\"callback\":null,\"renderers\":[{\"id\":\"1592\"}],\"tags\":[\"hv_created\"],\"tooltips\":[[\"k\",\"@{k}\"],[\"inertia\",\"@{inertia}\"]]},\"id\":\"1555\",\"type\":\"HoverTool\"},{\"attributes\":{\"line_color\":\"#30a2da\",\"line_width\":2,\"x\":{\"field\":\"k\"},\"y\":{\"field\":\"inertia\"}},\"id\":\"1594\",\"type\":\"Line\"},{\"attributes\":{},\"id\":\"1570\",\"type\":\"BasicTicker\"},{\"attributes\":{\"source\":{\"id\":\"1586\"}},\"id\":\"1593\",\"type\":\"CDSView\"},{\"attributes\":{},\"id\":\"1573\",\"type\":\"SaveTool\"},{\"attributes\":{\"data\":{\"inertia\":{\"__ndarray__\":\"TdS7YFJrrEBS62srmUujQITv0gIkhZdATlxJYJP3gkCoEESwb057QGD5QNXH33JA2J9AgL16bUD0j8pQT1NnQAVtff8fIWNAvN6OlJx/XkA=\",\"dtype\":\"float64\",\"order\":\"little\",\"shape\":[10]},\"k\":[1,2,3,4,5,6,7,8,9,10]},\"selected\":{\"id\":\"1587\"},\"selection_policy\":{\"id\":\"1610\"}},\"id\":\"1586\",\"type\":\"ColumnDataSource\"},{\"attributes\":{\"line_alpha\":0.1,\"line_color\":\"#30a2da\",\"line_width\":2,\"x\":{\"field\":\"k\"},\"y\":{\"field\":\"inertia\"}},\"id\":\"1590\",\"type\":\"Line\"},{\"attributes\":{},\"id\":\"1574\",\"type\":\"PanTool\"},{\"attributes\":{},\"id\":\"1610\",\"type\":\"UnionRenderers\"},{\"attributes\":{\"end\":3989.2275905062484,\"reset_end\":3989.2275905062484,\"reset_start\":-229.57276433324137,\"start\":-229.57276433324137,\"tags\":[[[\"inertia\",\"inertia\",null]]]},\"id\":\"1554\",\"type\":\"Range1d\"},{\"attributes\":{},\"id\":\"1577\",\"type\":\"ResetTool\"},{\"attributes\":{\"children\":[{\"id\":\"1552\"},{\"id\":\"1556\"},{\"id\":\"1622\"}],\"margin\":[0,0,0,0],\"name\":\"Row02710\",\"tags\":[\"embedded\"]},\"id\":\"1551\",\"type\":\"Row\"},{\"attributes\":{},\"id\":\"1575\",\"type\":\"WheelZoomTool\"},{\"attributes\":{},\"id\":\"1603\",\"type\":\"AllLabels\"},{\"attributes\":{\"overlay\":{\"id\":\"1578\"}},\"id\":\"1576\",\"type\":\"BoxZoomTool\"},{\"attributes\":{},\"id\":\"1561\",\"type\":\"LinearScale\"},{\"attributes\":{\"margin\":[5,5,5,5],\"name\":\"HSpacer02715\",\"sizing_mode\":\"stretch_width\"},\"id\":\"1622\",\"type\":\"Spacer\"},{\"attributes\":{\"axis\":{\"id\":\"1565\"},\"coordinates\":null,\"grid_line_color\":null,\"group\":null,\"ticker\":null},\"id\":\"1568\",\"type\":\"Grid\"}],\"root_ids\":[\"1551\"]},\"title\":\"Bokeh Application\",\"version\":\"2.4.1\"}};\n",
       "    var render_items = [{\"docid\":\"f3de105a-f6bd-484a-b92c-761610c0f9ef\",\"root_ids\":[\"1551\"],\"roots\":{\"1551\":\"05540b4b-d2eb-4c84-88c7-836102da7d23\"}}];\n",
       "    root.Bokeh.embed.embed_items_notebook(docs_json, render_items);\n",
       "  }\n",
       "  if (root.Bokeh !== undefined && root.Bokeh.Panel !== undefined) {\n",
       "    embed_document(root);\n",
       "  } else {\n",
       "    var attempts = 0;\n",
       "    var timer = setInterval(function(root) {\n",
       "      if (root.Bokeh !== undefined && root.Bokeh.Panel !== undefined) {\n",
       "        clearInterval(timer);\n",
       "        embed_document(root);\n",
       "      } else if (document.readyState == \"complete\") {\n",
       "        attempts++;\n",
       "        if (attempts > 200) {\n",
       "          clearInterval(timer);\n",
       "          console.log(\"Bokeh: ERROR: Unable to run BokehJS code because BokehJS library is missing\");\n",
       "        }\n",
       "      }\n",
       "    }, 25, root)\n",
       "  }\n",
       "})(window);</script>"
      ],
      "text/plain": [
       ":Curve   [k]   (inertia)"
      ]
     },
     "execution_count": 37,
     "metadata": {
      "application/vnd.holoviews_exec.v0+json": {
       "id": "1551"
      }
     },
     "output_type": "execute_result"
    }
   ],
   "source": [
    "# Create an elbow curve to find the best value for K.\n",
    "inertia = []\n",
    "k = list(range(1, 11))\n",
    "# Calculate the inertia for the range of K values\n",
    "for i in k:\n",
    "   km = KMeans(n_clusters=i, random_state=0)\n",
    "   km.fit(pcs_df)\n",
    "   inertia.append(km.inertia_)\n",
    "\n",
    "elbow_data = {\"k\":k,\"inertia\":inertia}\n",
    "df_elbow = pd.DataFrame(elbow_data)\n",
    "df_elbow.hvplot.line(x=\"k\",y=\"inertia\",xticks=k,title=\"Elbow Curve\")\n"
   ]
  },
  {
   "cell_type": "markdown",
   "metadata": {},
   "source": [
    "Running K-Means with `k=4`"
   ]
  },
  {
   "cell_type": "code",
   "execution_count": 38,
   "metadata": {},
   "outputs": [],
   "source": [
    "# Initialize the K-Means model.\n",
    "model = KMeans(n_clusters=4, random_state=0)\n",
    "\n",
    "# Fit the model\n",
    "model.fit(pcs_df)\n",
    "\n",
    "# Predict clusters\n",
    "predictions = model.predict(pcs_df)"
   ]
  },
  {
   "cell_type": "code",
   "execution_count": 39,
   "metadata": {},
   "outputs": [
    {
     "name": "stdout",
     "output_type": "stream",
     "text": [
      "(532, 9)\n"
     ]
    },
    {
     "data": {
      "text/html": [
       "<div>\n",
       "<style scoped>\n",
       "    .dataframe tbody tr th:only-of-type {\n",
       "        vertical-align: middle;\n",
       "    }\n",
       "\n",
       "    .dataframe tbody tr th {\n",
       "        vertical-align: top;\n",
       "    }\n",
       "\n",
       "    .dataframe thead th {\n",
       "        text-align: right;\n",
       "    }\n",
       "</style>\n",
       "<table border=\"1\" class=\"dataframe\">\n",
       "  <thead>\n",
       "    <tr style=\"text-align: right;\">\n",
       "      <th></th>\n",
       "      <th>Algorithm</th>\n",
       "      <th>ProofType</th>\n",
       "      <th>TotalCoinsMined</th>\n",
       "      <th>TotalCoinSupply</th>\n",
       "      <th>PC 1</th>\n",
       "      <th>PC 2</th>\n",
       "      <th>PC 3</th>\n",
       "      <th>CoinName</th>\n",
       "      <th>Class</th>\n",
       "    </tr>\n",
       "  </thead>\n",
       "  <tbody>\n",
       "    <tr>\n",
       "      <th>42</th>\n",
       "      <td>Scrypt</td>\n",
       "      <td>PoW/PoS</td>\n",
       "      <td>4.199995e+01</td>\n",
       "      <td>42</td>\n",
       "      <td>-0.335366</td>\n",
       "      <td>0.980572</td>\n",
       "      <td>-0.438931</td>\n",
       "      <td>42 Coin</td>\n",
       "      <td>0</td>\n",
       "    </tr>\n",
       "    <tr>\n",
       "      <th>404</th>\n",
       "      <td>Scrypt</td>\n",
       "      <td>PoW/PoS</td>\n",
       "      <td>1.055185e+09</td>\n",
       "      <td>532000000</td>\n",
       "      <td>-0.318709</td>\n",
       "      <td>0.980708</td>\n",
       "      <td>-0.439432</td>\n",
       "      <td>404Coin</td>\n",
       "      <td>0</td>\n",
       "    </tr>\n",
       "    <tr>\n",
       "      <th>1337</th>\n",
       "      <td>X13</td>\n",
       "      <td>PoW/PoS</td>\n",
       "      <td>2.927942e+10</td>\n",
       "      <td>314159265359</td>\n",
       "      <td>2.298464</td>\n",
       "      <td>1.543954</td>\n",
       "      <td>-0.516207</td>\n",
       "      <td>EliteCoin</td>\n",
       "      <td>0</td>\n",
       "    </tr>\n",
       "    <tr>\n",
       "      <th>BTC</th>\n",
       "      <td>SHA-256</td>\n",
       "      <td>PoW</td>\n",
       "      <td>1.792718e+07</td>\n",
       "      <td>21000000</td>\n",
       "      <td>-0.134571</td>\n",
       "      <td>-1.295903</td>\n",
       "      <td>0.215642</td>\n",
       "      <td>Bitcoin</td>\n",
       "      <td>3</td>\n",
       "    </tr>\n",
       "    <tr>\n",
       "      <th>ETH</th>\n",
       "      <td>Ethash</td>\n",
       "      <td>PoW</td>\n",
       "      <td>1.076842e+08</td>\n",
       "      <td>0</td>\n",
       "      <td>-0.155164</td>\n",
       "      <td>-2.021702</td>\n",
       "      <td>0.318502</td>\n",
       "      <td>Ethereum</td>\n",
       "      <td>3</td>\n",
       "    </tr>\n",
       "    <tr>\n",
       "      <th>LTC</th>\n",
       "      <td>Scrypt</td>\n",
       "      <td>PoW</td>\n",
       "      <td>6.303924e+07</td>\n",
       "      <td>84000000</td>\n",
       "      <td>-0.159494</td>\n",
       "      <td>-1.087593</td>\n",
       "      <td>0.013954</td>\n",
       "      <td>Litecoin</td>\n",
       "      <td>3</td>\n",
       "    </tr>\n",
       "    <tr>\n",
       "      <th>DASH</th>\n",
       "      <td>X11</td>\n",
       "      <td>PoW/PoS</td>\n",
       "      <td>9.031294e+06</td>\n",
       "      <td>22000000</td>\n",
       "      <td>-0.410581</td>\n",
       "      <td>1.102625</td>\n",
       "      <td>-0.417980</td>\n",
       "      <td>Dash</td>\n",
       "      <td>0</td>\n",
       "    </tr>\n",
       "    <tr>\n",
       "      <th>XMR</th>\n",
       "      <td>CryptoNight-V7</td>\n",
       "      <td>PoW</td>\n",
       "      <td>1.720114e+07</td>\n",
       "      <td>0</td>\n",
       "      <td>-0.145701</td>\n",
       "      <td>-2.138322</td>\n",
       "      <td>0.331396</td>\n",
       "      <td>Monero</td>\n",
       "      <td>3</td>\n",
       "    </tr>\n",
       "    <tr>\n",
       "      <th>ETC</th>\n",
       "      <td>Ethash</td>\n",
       "      <td>PoW</td>\n",
       "      <td>1.133597e+08</td>\n",
       "      <td>210000000</td>\n",
       "      <td>-0.153606</td>\n",
       "      <td>-2.021801</td>\n",
       "      <td>0.318484</td>\n",
       "      <td>Ethereum Classic</td>\n",
       "      <td>3</td>\n",
       "    </tr>\n",
       "    <tr>\n",
       "      <th>ZEC</th>\n",
       "      <td>Equihash</td>\n",
       "      <td>PoW</td>\n",
       "      <td>7.383056e+06</td>\n",
       "      <td>21000000</td>\n",
       "      <td>-0.153456</td>\n",
       "      <td>-1.927011</td>\n",
       "      <td>0.366212</td>\n",
       "      <td>ZCash</td>\n",
       "      <td>3</td>\n",
       "    </tr>\n",
       "  </tbody>\n",
       "</table>\n",
       "</div>"
      ],
      "text/plain": [
       "           Algorithm ProofType  TotalCoinsMined TotalCoinSupply      PC 1  \\\n",
       "42            Scrypt   PoW/PoS     4.199995e+01              42 -0.335366   \n",
       "404           Scrypt   PoW/PoS     1.055185e+09       532000000 -0.318709   \n",
       "1337             X13   PoW/PoS     2.927942e+10    314159265359  2.298464   \n",
       "BTC          SHA-256       PoW     1.792718e+07        21000000 -0.134571   \n",
       "ETH           Ethash       PoW     1.076842e+08               0 -0.155164   \n",
       "LTC           Scrypt       PoW     6.303924e+07        84000000 -0.159494   \n",
       "DASH             X11   PoW/PoS     9.031294e+06        22000000 -0.410581   \n",
       "XMR   CryptoNight-V7       PoW     1.720114e+07               0 -0.145701   \n",
       "ETC           Ethash       PoW     1.133597e+08       210000000 -0.153606   \n",
       "ZEC         Equihash       PoW     7.383056e+06        21000000 -0.153456   \n",
       "\n",
       "          PC 2      PC 3          CoinName  Class  \n",
       "42    0.980572 -0.438931           42 Coin      0  \n",
       "404   0.980708 -0.439432           404Coin      0  \n",
       "1337  1.543954 -0.516207         EliteCoin      0  \n",
       "BTC  -1.295903  0.215642           Bitcoin      3  \n",
       "ETH  -2.021702  0.318502          Ethereum      3  \n",
       "LTC  -1.087593  0.013954          Litecoin      3  \n",
       "DASH  1.102625 -0.417980              Dash      0  \n",
       "XMR  -2.138322  0.331396            Monero      3  \n",
       "ETC  -2.021801  0.318484  Ethereum Classic      3  \n",
       "ZEC  -1.927011  0.366212             ZCash      3  "
      ]
     },
     "execution_count": 39,
     "metadata": {},
     "output_type": "execute_result"
    }
   ],
   "source": [
    "# Create a new DataFrame including predicted clusters and cryptocurrencies features.\n",
    "# Concatentate the crypto_df and pcs_df DataFrames on the same columns.\n",
    "clustered_df = pd.concat([df_crypto,pcs_df],axis =1)\n",
    "\n",
    "#  Add a new column, \"CoinName\" to the clustered_df DataFrame that holds the names of the cryptocurrencies. \n",
    "clustered_df['CoinName'] = names['CoinName']\n",
    "\n",
    "#  Add a new column, \"Class\" to the clustered_df DataFrame that holds the predictions.\n",
    "clustered_df[\"Class\"]= model.labels_\n",
    "\n",
    "# Print the shape of the clustered_df\n",
    "print(clustered_df.shape)\n",
    "clustered_df.head(10)"
   ]
  },
  {
   "cell_type": "markdown",
   "metadata": {},
   "source": [
    "### Deliverable 4: Visualizing Cryptocurrencies Results\n",
    "\n",
    "#### 3D-Scatter with Clusters"
   ]
  },
  {
   "cell_type": "code",
   "execution_count": 40,
   "metadata": {},
   "outputs": [
    {
     "data": {
      "application/vnd.plotly.v1+json": {
       "config": {
        "plotlyServerURL": "https://plot.ly"
       },
       "data": [
        {
         "customdata": [
          [
           "Scrypt"
          ],
          [
           "Scrypt"
          ],
          [
           "X13"
          ],
          [
           "X11"
          ],
          [
           "SHA-512"
          ],
          [
           "SHA-256"
          ],
          [
           "SHA-256"
          ],
          [
           "X15"
          ],
          [
           "Scrypt"
          ],
          [
           "Scrypt"
          ],
          [
           "Scrypt"
          ],
          [
           "Scrypt"
          ],
          [
           "Scrypt"
          ],
          [
           "Scrypt"
          ],
          [
           "Groestl"
          ],
          [
           "PoS"
          ],
          [
           "Scrypt"
          ],
          [
           "Scrypt"
          ],
          [
           "X11"
          ],
          [
           "X11"
          ],
          [
           "SHA3"
          ],
          [
           "Scrypt"
          ],
          [
           "SHA-256"
          ],
          [
           "Scrypt"
          ],
          [
           "X13"
          ],
          [
           "X13"
          ],
          [
           "NeoScrypt"
          ],
          [
           "Scrypt"
          ],
          [
           "Scrypt"
          ],
          [
           "Scrypt"
          ],
          [
           "X11"
          ],
          [
           "X11"
          ],
          [
           "Multiple"
          ],
          [
           "PHI1612"
          ],
          [
           "X11"
          ],
          [
           "Scrypt"
          ],
          [
           "Scrypt"
          ],
          [
           "Scrypt"
          ],
          [
           "X11"
          ],
          [
           "Multiple"
          ],
          [
           "X13"
          ],
          [
           "Scrypt"
          ],
          [
           "Shabal256"
          ],
          [
           "Counterparty"
          ],
          [
           "SHA-256"
          ],
          [
           "Groestl"
          ],
          [
           "Scrypt"
          ],
          [
           "X13"
          ],
          [
           "Scrypt"
          ],
          [
           "Scrypt"
          ],
          [
           "X13"
          ],
          [
           "X11"
          ],
          [
           "Scrypt"
          ],
          [
           "X11"
          ],
          [
           "SHA3"
          ],
          [
           "QUAIT"
          ],
          [
           "X11"
          ],
          [
           "Scrypt"
          ],
          [
           "X13"
          ],
          [
           "SHA-256"
          ],
          [
           "X15"
          ],
          [
           "BLAKE256"
          ],
          [
           "SHA-256"
          ],
          [
           "X11"
          ],
          [
           "SHA-256"
          ],
          [
           "NIST5"
          ],
          [
           "Scrypt"
          ],
          [
           "Scrypt"
          ],
          [
           "X11"
          ],
          [
           "Scrypt"
          ],
          [
           "SHA-256"
          ],
          [
           "Scrypt"
          ],
          [
           "PoS"
          ],
          [
           "X11"
          ],
          [
           "SHA-256"
          ],
          [
           "SHA-256"
          ],
          [
           "NIST5"
          ],
          [
           "X11"
          ],
          [
           "POS 3.0"
          ],
          [
           "Scrypt"
          ],
          [
           "Scrypt"
          ],
          [
           "Scrypt"
          ],
          [
           "X13"
          ],
          [
           "X11"
          ],
          [
           "X11"
          ],
          [
           "Scrypt"
          ],
          [
           "SHA-256"
          ],
          [
           "X11"
          ],
          [
           "Scrypt"
          ],
          [
           "Scrypt"
          ],
          [
           "Scrypt"
          ],
          [
           "Scrypt"
          ],
          [
           "SHA-256D"
          ],
          [
           "PoS"
          ],
          [
           "Scrypt"
          ],
          [
           "X11"
          ],
          [
           "PoS"
          ],
          [
           "X13"
          ],
          [
           "X14"
          ],
          [
           "PoS"
          ],
          [
           "SHA-256D"
          ],
          [
           "DPoS"
          ],
          [
           "X11"
          ],
          [
           "X13"
          ],
          [
           "X11"
          ],
          [
           "PoS"
          ],
          [
           "Scrypt"
          ],
          [
           "Scrypt"
          ],
          [
           "PoS"
          ],
          [
           "X11"
          ],
          [
           "SHA-256"
          ],
          [
           "Scrypt"
          ],
          [
           "X11"
          ],
          [
           "Scrypt"
          ],
          [
           "Scrypt"
          ],
          [
           "X11"
          ],
          [
           "Scrypt"
          ],
          [
           "Scrypt"
          ],
          [
           "Scrypt"
          ],
          [
           "Scrypt"
          ],
          [
           "Quark"
          ],
          [
           "QuBit"
          ],
          [
           "Scrypt"
          ],
          [
           "SHA-256"
          ],
          [
           "X11"
          ],
          [
           "Scrypt"
          ],
          [
           "Scrypt"
          ],
          [
           "Scrypt"
          ],
          [
           "Scrypt"
          ],
          [
           "X13"
          ],
          [
           "Scrypt"
          ],
          [
           "Scrypt"
          ],
          [
           "X11"
          ],
          [
           "Blake2S"
          ],
          [
           "X11"
          ],
          [
           "PoS"
          ],
          [
           "X11"
          ],
          [
           "PoS"
          ],
          [
           "X11"
          ],
          [
           "Scrypt"
          ],
          [
           "Scrypt"
          ],
          [
           "Scrypt"
          ],
          [
           "SHA-256"
          ],
          [
           "X11"
          ],
          [
           "Scrypt"
          ],
          [
           "PoS"
          ],
          [
           "Scrypt"
          ],
          [
           "X15"
          ],
          [
           "SHA-256"
          ],
          [
           "POS 3.0"
          ],
          [
           "536"
          ],
          [
           "NIST5"
          ],
          [
           "NIST5"
          ],
          [
           "Skein"
          ],
          [
           "X13"
          ],
          [
           "Scrypt"
          ],
          [
           "X13"
          ],
          [
           "SkunkHash v2 Raptor"
          ],
          [
           "Skein"
          ],
          [
           "X11"
          ],
          [
           "Scrypt"
          ],
          [
           "PoS"
          ],
          [
           "Scrypt"
          ],
          [
           "Scrypt"
          ],
          [
           "SHA-512"
          ],
          [
           "Ouroboros"
          ],
          [
           "X11"
          ],
          [
           "NeoScrypt"
          ],
          [
           "Scrypt"
          ],
          [
           "Lyra2REv2"
          ],
          [
           "Scrypt"
          ],
          [
           "SHA-256"
          ],
          [
           "NIST5"
          ],
          [
           "PHI1612"
          ],
          [
           "Scrypt"
          ],
          [
           "Quark"
          ],
          [
           "POS 2.0"
          ],
          [
           "Scrypt"
          ],
          [
           "SHA-256"
          ],
          [
           "X11"
          ],
          [
           "DPoS"
          ],
          [
           "NIST5"
          ],
          [
           "X13"
          ],
          [
           "Scrypt"
          ],
          [
           "NIST5"
          ],
          [
           "Quark"
          ],
          [
           "Scrypt"
          ],
          [
           "Scrypt"
          ],
          [
           "X11"
          ],
          [
           "Quark"
          ],
          [
           "Scrypt"
          ],
          [
           "Scrypt"
          ],
          [
           "X11"
          ],
          [
           "POS 3.0"
          ],
          [
           "Ethash"
          ],
          [
           "Scrypt"
          ],
          [
           "Scrypt"
          ],
          [
           "X13"
          ],
          [
           "SHA-256 + Hive"
          ],
          [
           "C11"
          ],
          [
           "X11"
          ],
          [
           "XEVAN"
          ],
          [
           "Scrypt"
          ],
          [
           "VBFT"
          ],
          [
           "NIST5"
          ],
          [
           "Scrypt"
          ],
          [
           "Scrypt"
          ],
          [
           "Scrypt"
          ],
          [
           "Green Protocol"
          ],
          [
           "PoS"
          ],
          [
           "Scrypt"
          ],
          [
           "Semux BFT consensus"
          ],
          [
           "Quark"
          ],
          [
           "PoS"
          ],
          [
           "X16R"
          ],
          [
           "Scrypt"
          ],
          [
           "XEVAN"
          ],
          [
           "Scrypt"
          ],
          [
           "Scrypt"
          ],
          [
           "Scrypt"
          ],
          [
           "SHA-256D"
          ],
          [
           "Scrypt"
          ],
          [
           "X15"
          ],
          [
           "Scrypt"
          ],
          [
           "Quark"
          ],
          [
           "SHA-256"
          ],
          [
           "DPoS"
          ],
          [
           "X16R"
          ],
          [
           "Quark"
          ],
          [
           "Quark"
          ],
          [
           "Scrypt"
          ],
          [
           "Lyra2REv2"
          ],
          [
           "Quark"
          ],
          [
           "Scrypt"
          ],
          [
           "X11"
          ],
          [
           "X11"
          ],
          [
           "Scrypt"
          ],
          [
           "PoS"
          ],
          [
           "Keccak"
          ],
          [
           "X11"
          ],
          [
           "Scrypt"
          ],
          [
           "SHA-512"
          ],
          [
           "ECC 256K1"
          ],
          [
           "XEVAN"
          ],
          [
           "XEVAN"
          ],
          [
           "X11"
          ],
          [
           "Quark"
          ],
          [
           "Equihash"
          ],
          [
           "Scrypt"
          ],
          [
           "Quark"
          ],
          [
           "Quark"
          ],
          [
           "Scrypt"
          ],
          [
           "X11"
          ],
          [
           "Scrypt"
          ],
          [
           "XEVAN"
          ],
          [
           "SHA-256D"
          ],
          [
           "X11"
          ],
          [
           "X11"
          ],
          [
           "DPoS"
          ],
          [
           "Scrypt"
          ],
          [
           "X11"
          ],
          [
           "Scrypt"
          ],
          [
           "Scrypt"
          ],
          [
           "SHA-256"
          ],
          [
           "Scrypt"
          ],
          [
           "X11"
          ],
          [
           "Scrypt"
          ],
          [
           "SHA-256"
          ],
          [
           "X11"
          ],
          [
           "Scrypt"
          ],
          [
           "Scrypt"
          ],
          [
           "X11"
          ],
          [
           "Scrypt"
          ],
          [
           "PoS"
          ],
          [
           "X11"
          ],
          [
           "SHA-256"
          ],
          [
           "DPoS"
          ],
          [
           "Scrypt"
          ],
          [
           "Scrypt"
          ],
          [
           "NeoScrypt"
          ],
          [
           "X13"
          ],
          [
           "DPoS"
          ],
          [
           "DPoS"
          ],
          [
           "SHA-256"
          ],
          [
           "Leased POS"
          ],
          [
           "PoS"
          ],
          [
           "PoS"
          ],
          [
           "SHA-256"
          ],
          [
           "Scrypt"
          ],
          [
           "Scrypt"
          ]
         ],
         "hovertemplate": "<b>%{hovertext}</b><br><br>Class=%{marker.color}<br>PC 1=%{x}<br>PC 2=%{y}<br>PC 3=%{z}<br>Algorithm=%{customdata[0]}<extra></extra>",
         "hovertext": [
          "42 Coin",
          "404Coin",
          "EliteCoin",
          "Dash",
          "Bitshares",
          "BitcoinDark",
          "PayCoin",
          "KoboCoin",
          "Aurora Coin",
          "BlueCoin",
          "EnergyCoin",
          "BitBar",
          "CryptoBullion",
          "CasinoCoin",
          "Diamond",
          "Exclusive Coin",
          "FlutterCoin",
          "HoboNickels",
          "HyperStake",
          "IOCoin",
          "MaxCoin",
          "MintCoin",
          "MazaCoin",
          "Nautilus Coin",
          "NavCoin",
          "OpalCoin",
          "Orbitcoin",
          "PotCoin",
          "PhoenixCoin",
          "Reddcoin",
          "SuperCoin",
          "SyncCoin",
          "TeslaCoin",
          "TittieCoin",
          "TorCoin",
          "UnitaryStatus Dollar",
          "UltraCoin",
          "VeriCoin",
          "X11 Coin",
          "Crypti",
          "StealthCoin",
          "ZCC Coin",
          "BurstCoin",
          "StorjCoin",
          "Neutron",
          "FairCoin",
          "RubyCoin",
          "Kore",
          "Dnotes",
          "8BIT Coin",
          "Sativa Coin",
          "Ucoin",
          "Vtorrent",
          "IslaCoin",
          "Nexus",
          "Droidz",
          "Squall Coin",
          "Diggits",
          "Paycon",
          "Emercoin",
          "EverGreenCoin",
          "Decred",
          "EDRCoin",
          "Hitcoin",
          "DubaiCoin",
          "PWR Coin",
          "BillaryCoin",
          "GPU Coin",
          "EuropeCoin",
          "ZeitCoin",
          "SwingCoin",
          "SafeExchangeCoin",
          "Nebuchadnezzar",
          "Ratecoin",
          "Revenu",
          "Clockcoin",
          "VIP Tokens",
          "BitSend",
          "Let it Ride",
          "PutinCoin",
          "iBankCoin",
          "Frankywillcoin",
          "MudraCoin",
          "Lutetium Coin",
          "GoldBlocks",
          "CarterCoin",
          "BitTokens",
          "MustangCoin",
          "ZoneCoin",
          "RootCoin",
          "BitCurrency",
          "Swiscoin",
          "BuzzCoin",
          "Opair",
          "PesoBit",
          "Halloween Coin",
          "CoffeeCoin",
          "RoyalCoin",
          "GanjaCoin V2",
          "TeamUP",
          "LanaCoin",
          "ARK",
          "InsaneCoin",
          "EmberCoin",
          "XenixCoin",
          "FreeCoin",
          "PLNCoin",
          "AquariusCoin",
          "Creatio",
          "Eternity",
          "Eurocoin",
          "BitcoinFast",
          "Stakenet",
          "BitConnect Coin",
          "MoneyCoin",
          "Enigma",
          "Russiacoin",
          "PandaCoin",
          "GameUnits",
          "GAKHcoin",
          "Allsafe",
          "LiteCreed",
          "Klingon Empire Darsek",
          "Internet of People",
          "KushCoin",
          "Printerium",
          "Impeach",
          "Zilbercoin",
          "FirstCoin",
          "FindCoin",
          "OpenChat",
          "RenosCoin",
          "VirtacoinPlus",
          "TajCoin",
          "Impact",
          "Atmos",
          "HappyCoin",
          "MacronCoin",
          "Condensate",
          "Independent Money System",
          "ArgusCoin",
          "LomoCoin",
          "ProCurrency",
          "GoldReserve",
          "GrowthCoin",
          "Phreak",
          "Degas Coin",
          "HTML5 Coin",
          "Ultimate Secure Cash",
          "QTUM",
          "Espers",
          "Denarius",
          "Virta Unique Coin",
          "Bitcoin Planet",
          "BritCoin",
          "Linda",
          "DeepOnion",
          "Signatum",
          "Cream",
          "Monoeci",
          "Draftcoin",
          "Stakecoin",
          "CoinonatX",
          "Ethereum Dark",
          "Obsidian",
          "Cardano",
          "Regalcoin",
          "TrezarCoin",
          "TerraNovaCoin",
          "Rupee",
          "WomenCoin",
          "Theresa May Coin",
          "NamoCoin",
          "LUXCoin",
          "Xios",
          "Bitcloud 2.0",
          "KekCoin",
          "BlackholeCoin",
          "Infinity Economics",
          "Magnet",
          "Lamden Tau",
          "Electra",
          "Bitcoin Diamond",
          "Cash & Back Coin",
          "Bulwark",
          "Kalkulus",
          "GermanCoin",
          "LiteCoin Ultra",
          "PhantomX",
          "Digiwage",
          "Trollcoin",
          "Litecoin Plus",
          "Monkey Project",
          "TokenPay",
          "1717 Masonic Commemorative Token",
          "My Big Coin",
          "Unified Society USDEX",
          "Tokyo Coin",
          "LitecoinCash",
          "Stipend",
          "Pushi",
          "Ellerium",
          "Velox",
          "Ontology",
          "Bitspace",
          "Briacoin",
          "Ignition",
          "MedicCoin",
          "Bitcoin Green",
          "Deviant Coin",
          "Abjcoin",
          "Semux",
          "Carebit",
          "Zealium",
          "Proton",
          "iDealCash",
          "Bitcoin Incognito",
          "HollyWoodCoin",
          "Swisscoin",
          "Xt3ch",
          "TheVig",
          "EmaratCoin",
          "Dekado",
          "Lynx",
          "Poseidon Quark",
          "BitcoinWSpectrum",
          "Muse",
          "Trivechain",
          "Dystem",
          "Giant",
          "Peony Coin",
          "Absolute Coin",
          "Vitae",
          "TPCash",
          "ARENON",
          "EUNO",
          "MMOCoin",
          "Ketan",
          "XDNA",
          "PAXEX",
          "ThunderStake",
          "Kcash",
          "Acute Angle Cloud",
          "Bettex coin",
          "BitMoney",
          "Junson Ming Chan Coin",
          "HerbCoin",
          "PirateCash",
          "Oduwa",
          "Galilel",
          "Crypto Sports",
          "Credit",
          "Dash Platinum",
          "Nasdacoin",
          "Beetle Coin",
          "Titan Coin",
          "Award",
          "Insane Coin",
          "ALAX",
          "LiteDoge",
          "TruckCoin",
          "OrangeCoin",
          "BitstarCoin",
          "NeosCoin",
          "HyperCoin",
          "PinkCoin",
          "AudioCoin",
          "IncaKoin",
          "Piggy Coin",
          "Genstake",
          "XiaoMiCoin",
          "CapriCoin",
          " ClubCoin",
          "Radium",
          "Creditbit ",
          "OKCash",
          "Lisk",
          "HiCoin",
          "WhiteCoin",
          "FriendshipCoin",
          "Triangles Coin",
          "EOS",
          "Oxycoin",
          "TigerCash",
          "Waves",
          "Particl",
          "Nxt",
          "ZEPHYR",
          "Gapcoin",
          "BitcoinPlus"
         ],
         "legendgroup": "0",
         "marker": {
          "color": [
           0,
           0,
           0,
           0,
           0,
           0,
           0,
           0,
           0,
           0,
           0,
           0,
           0,
           0,
           0,
           0,
           0,
           0,
           0,
           0,
           0,
           0,
           0,
           0,
           0,
           0,
           0,
           0,
           0,
           0,
           0,
           0,
           0,
           0,
           0,
           0,
           0,
           0,
           0,
           0,
           0,
           0,
           0,
           0,
           0,
           0,
           0,
           0,
           0,
           0,
           0,
           0,
           0,
           0,
           0,
           0,
           0,
           0,
           0,
           0,
           0,
           0,
           0,
           0,
           0,
           0,
           0,
           0,
           0,
           0,
           0,
           0,
           0,
           0,
           0,
           0,
           0,
           0,
           0,
           0,
           0,
           0,
           0,
           0,
           0,
           0,
           0,
           0,
           0,
           0,
           0,
           0,
           0,
           0,
           0,
           0,
           0,
           0,
           0,
           0,
           0,
           0,
           0,
           0,
           0,
           0,
           0,
           0,
           0,
           0,
           0,
           0,
           0,
           0,
           0,
           0,
           0,
           0,
           0,
           0,
           0,
           0,
           0,
           0,
           0,
           0,
           0,
           0,
           0,
           0,
           0,
           0,
           0,
           0,
           0,
           0,
           0,
           0,
           0,
           0,
           0,
           0,
           0,
           0,
           0,
           0,
           0,
           0,
           0,
           0,
           0,
           0,
           0,
           0,
           0,
           0,
           0,
           0,
           0,
           0,
           0,
           0,
           0,
           0,
           0,
           0,
           0,
           0,
           0,
           0,
           0,
           0,
           0,
           0,
           0,
           0,
           0,
           0,
           0,
           0,
           0,
           0,
           0,
           0,
           0,
           0,
           0,
           0,
           0,
           0,
           0,
           0,
           0,
           0,
           0,
           0,
           0,
           0,
           0,
           0,
           0,
           0,
           0,
           0,
           0,
           0,
           0,
           0,
           0,
           0,
           0,
           0,
           0,
           0,
           0,
           0,
           0,
           0,
           0,
           0,
           0,
           0,
           0,
           0,
           0,
           0,
           0,
           0,
           0,
           0,
           0,
           0,
           0,
           0,
           0,
           0,
           0,
           0,
           0,
           0,
           0,
           0,
           0,
           0,
           0,
           0,
           0,
           0,
           0,
           0,
           0,
           0,
           0,
           0,
           0,
           0,
           0,
           0,
           0,
           0,
           0,
           0,
           0,
           0,
           0,
           0,
           0,
           0,
           0,
           0,
           0,
           0,
           0,
           0,
           0,
           0,
           0,
           0,
           0,
           0,
           0,
           0,
           0,
           0,
           0,
           0,
           0,
           0,
           0,
           0
          ],
          "coloraxis": "coloraxis",
          "symbol": "circle"
         },
         "mode": "markers",
         "name": "0",
         "scene": "scene",
         "showlegend": true,
         "type": "scatter3d",
         "x": [
          -0.33536604724800373,
          -0.3187093802677064,
          2.2984637052755814,
          -0.410580576403533,
          -0.25397977379648734,
          -0.30927330898953864,
          -0.2605295340358772,
          -0.26236868312974676,
          -0.33502570591018394,
          -0.3276072039098011,
          -0.3338633896058052,
          -0.33536198271755496,
          -0.3353462690750566,
          0.6739263047323942,
          -0.37508046140310186,
          -0.35667819699856407,
          -0.264414948409981,
          -0.3334251522318183,
          -0.34167087388457273,
          -0.4104753265300408,
          -0.4721969146858028,
          -0.026676144080574345,
          -0.27258511682271663,
          -0.2863733456017299,
          -0.285901605322478,
          -0.2865234950735895,
          -0.35310126347134363,
          -0.32966889111190356,
          -0.33376806508947,
          0.022591713366934423,
          -0.3615472791320846,
          -0.4108468302414979,
          -0.259548346893351,
          -0.32826097628879874,
          -0.4107584595988883,
          -0.310601928407697,
          -0.33404356609226193,
          -0.2662418972441957,
          -0.4107229789062821,
          -0.2600164021384666,
          -0.2863044709086585,
          -0.326468164394938,
          0.014750683603668038,
          -0.3541148284217933,
          -0.30848517211654003,
          -0.37450234544619043,
          -0.2863537051933723,
          -0.2865987763808906,
          -0.2810077005362182,
          -0.3353481249847006,
          -0.28655099748933965,
          -0.3619917841587635,
          -0.33508253161501345,
          -0.4108283686199422,
          -0.5403384024526673,
          -0.41786724025798705,
          -0.33899635839764986,
          -0.28475550647059583,
          -0.2860726577004895,
          -0.3018284149267483,
          -0.2648106773251141,
          -0.06496897775691977,
          -0.3092442378644018,
          -0.08831426537427596,
          -0.30930796357007656,
          -0.24110340279147383,
          -0.3349583532493643,
          -0.28462394570659105,
          -0.4079968878181506,
          0.8667456954404599,
          -0.30910796500405185,
          -0.05667831712653634,
          -0.3563615220481615,
          -0.40867205481041097,
          -0.3078511380719517,
          -0.3055188883547849,
          -0.36239927237597475,
          -0.40956343739843254,
          -0.3476503638224146,
          -0.3112560858298506,
          -0.3349964184175441,
          -0.33343591308951753,
          -0.2365489330074089,
          -0.3494854583379289,
          -0.4103022665817561,
          -0.3342007992942253,
          -0.3092888670025785,
          -0.41081754908871315,
          -0.3351856130883644,
          -0.3353423610421377,
          -0.2846147573741456,
          -0.25080280663495774,
          0.01677928059560433,
          -0.3553188363669224,
          -0.33495671595961124,
          -0.3969787220533273,
          -0.35464800899011184,
          -0.23797989948847012,
          -0.43244979277924767,
          -0.3543956285416699,
          -0.2976546257498364,
          3.7281098304164773,
          -0.4104101513065634,
          0.8450392110467063,
          -0.41077247729650673,
          -0.35578248155741937,
          -0.3348840941716107,
          -0.33503832184504956,
          -0.3563615220481615,
          -0.41034728936416187,
          -0.30915161599298974,
          -0.33488486038058124,
          -0.4325870920028324,
          -0.335032203123168,
          -0.3306190471037391,
          -0.41080144991947365,
          -0.3342426678167128,
          0.3567481409115757,
          -0.3352314601630132,
          -0.3353020488556666,
          -0.36673668741554716,
          -0.35181384199051485,
          -0.33152799450106013,
          -0.30926529280528353,
          -0.41071142349628903,
          -0.3350798818630394,
          -0.3352067590924735,
          -0.28625995817954064,
          -0.2494931074151959,
          -0.2377478060183826,
          -0.3160646983672496,
          -0.28600133586541926,
          -0.40997704307169663,
          -0.41223463710550073,
          -0.40871600588659013,
          -0.3546084748796428,
          -0.4098749807088786,
          -0.3490096531471334,
          -0.40581583122900927,
          -0.335150078743811,
          -0.3351492281739772,
          -0.3282690940891966,
          0.272276729147135,
          -0.41035354657873824,
          -0.268900192102774,
          -0.35639574321508494,
          -0.3343607077345742,
          0.8694810206189735,
          -0.2592195773085372,
          -0.3464289731815988,
          0.5710337801407167,
          -0.363934576836507,
          -0.3624369638733926,
          -0.41434132985085415,
          -0.2862361423553704,
          0.12961952596818022,
          -0.28630693991529593,
          -0.32192627480012265,
          -0.4138464694994943,
          -0.41062596009129726,
          -0.2863343306880109,
          -0.3562619110051907,
          -0.3347853122679955,
          -0.3352849823899547,
          -0.31203352996418593,
          0.6831369941588415,
          -0.41056672122149007,
          -0.3481008754608297,
          -0.3352405564296995,
          -0.3187868512749444,
          0.4336196054389072,
          -0.30761197405724966,
          -0.3487026437819731,
          -0.4125328855500387,
          -0.33519089146814574,
          -0.4138587108781136,
          -0.3255792993356021,
          -0.3350613917592557,
          -0.08705249159256293,
          -0.4093593455092049,
          3.732965427188723,
          0.19543689281267038,
          -0.2829784412546111,
          -0.3325218853385152,
          -0.3150177278570496,
          -0.36662262206238666,
          0.07914826670586354,
          -0.33419961563058426,
          -0.4099407094828645,
          -0.36578723280512737,
          -0.3217676003723962,
          -0.3353071036322638,
          -0.36196372250725434,
          -0.3479321827206175,
          -0.2822739497343024,
          -0.3100937635740049,
          -0.330853380599151,
          -0.22954341103322276,
          -0.3364112850575009,
          -0.380271878912248,
          -0.41064311023121924,
          -0.2728526972682151,
          -0.28549415352833624,
          -0.3101553954356164,
          -0.36353352093937497,
          -0.3353344498511579,
          -0.3353161591286024,
          -0.2798763785437061,
          -0.31630056820378477,
          -0.3558564302696773,
          -0.3350326767132705,
          3.9248812188611746,
          -0.41252742381668545,
          -0.35604504674359916,
          -0.3217236159263324,
          -0.2819015999327413,
          -0.20115473125891092,
          -0.2860286498384126,
          -0.13849228120628643,
          -0.28628047797349415,
          -0.36297734440145746,
          -0.33450667800818584,
          -0.21547399912418208,
          2.2339634180196746,
          -0.3623292587974068,
          -0.25934779328131435,
          1.0211038319227381,
          -0.3697407083439522,
          -0.3667360900400684,
          -0.4155430791421915,
          -0.16697939156936506,
          -0.36739542278437526,
          -0.3654558416117132,
          -0.32820921620405186,
          -0.3615411580357805,
          -0.41011657840450366,
          -0.2835261699588013,
          -0.3551445818615685,
          -0.3445878177834927,
          -0.36140235631439716,
          -0.19478820078721712,
          -0.268188813467922,
          -0.27104975450775437,
          -0.22416544108136632,
          0.6679328421261417,
          -0.15202465466494963,
          -0.41483779873032584,
          -0.27861190479789455,
          -0.33503669895431337,
          -0.41529387771277704,
          -0.36685304909653194,
          0.5714267980520334,
          -0.36201801680510376,
          -0.3345195333636253,
          -0.26730870898909764,
          -0.31769302163962754,
          -0.40768040645330383,
          -0.41034380985592006,
          3.745203622366112,
          0.09986494270481565,
          -0.4078849003563837,
          -0.33390468794134875,
          -0.3347300763627554,
          -0.2605620991964508,
          -0.33524844628177713,
          -0.4019733309884545,
          -0.24893690101060936,
          -0.08904475394421787,
          -0.39772107685197267,
          -0.33452705526952786,
          -0.32759280185324957,
          -0.4069131958546924,
          -0.33296623724391927,
          -0.35663707207867634,
          -0.43101776072328196,
          -0.3077886740328925,
          3.7285016382086567,
          -0.09360650473722931,
          -0.3301616792563338,
          -0.35272699763313375,
          -0.28670599200624686,
          3.738363632566088,
          3.739607122637234,
          -0.24146328900172992,
          -0.3370537112383994,
          -0.35657297390127773,
          -0.3750483301784923,
          2.482986886018958,
          -0.3334110203253238,
          -0.2866769836541044
         ],
         "y": [
          0.9805724345554903,
          0.9807077690607673,
          1.5439544524249678,
          1.1026254561954394,
          1.8206117613926789,
          0.7722383507379701,
          0.6267632859807858,
          1.6968435181983024,
          0.9805710937945761,
          0.980807983994208,
          0.9806180535133328,
          0.9805722099129085,
          0.9805723388945018,
          0.5449537934148165,
          0.8549059271086893,
          1.5833041496176898,
          0.35638226293681174,
          0.9805478219958487,
          0.9577713070696695,
          1.102628651458506,
          1.3832250644166413,
          0.8429824170047958,
          0.7716833926822233,
          0.8350870502699986,
          1.68419259697256,
          1.6841737171270403,
          0.4281006011324841,
          0.9804530179612977,
          0.9805527264760048,
          0.9914396135513034,
          0.9571678826525934,
          1.1026326872576462,
          0.08083550967916053,
          1.5486421973750493,
          1.102628409458833,
          0.9802104323818122,
          0.9805429703229085,
          0.48780958876410835,
          1.1026326192071012,
          0.08089091331234627,
          1.684180366444531,
          0.9801464314715399,
          1.0369413650727015,
          1.572349261973191,
          0.7722302555598886,
          0.8549265270930558,
          0.8350989099525465,
          1.6841630780854335,
          0.834913142186481,
          0.9805729786836864,
          1.684165920861562,
          0.9571404653512459,
          0.9805671191391642,
          1.1026332484270172,
          0.86601042600376,
          1.8591893285738443,
          1.0134765610327627,
          0.8350778161535952,
          1.684152597400906,
          0.7717835514978961,
          1.6969947215704564,
          0.9181351783575352,
          0.7722392333033297,
          1.0939420833871272,
          0.772245304188382,
          1.3969474116669942,
          0.9805555741356495,
          0.83499754152163,
          1.1024518940194394,
          0.8011885485720468,
          0.7722308400042496,
          0.5491238557635918,
          1.5832998408502166,
          1.102646501660117,
          0.7721417950016938,
          0.7720021759451141,
          1.3932023590079887,
          1.10257488785172,
          1.4447872083587587,
          0.9799121199554635,
          0.9805527942128905,
          0.9805614179573979,
          1.5385901778830133,
          0.9570767064184968,
          1.1026144136480902,
          0.9805451582310893,
          0.7722385745473201,
          1.102631488498041,
          0.9805632935737609,
          0.9805731536702409,
          0.8351517023745699,
          0.38131094832329543,
          1.8020563820144069,
          1.5832939044168044,
          0.9805848614039192,
          1.1020095088537913,
          1.5833379385250388,
          1.538684221482862,
          1.8471782702276047,
          1.5831639098649997,
          1.8012080149433611,
          2.079815278960615,
          1.1026250610426245,
          1.7179349249120424,
          1.1026322627964964,
          1.583296535869398,
          0.9805602371726098,
          0.9805531463826112,
          1.5832998408502166,
          1.1026060854847706,
          0.772243437459881,
          0.9805640704850643,
          0.4862358846330786,
          0.9805630779938739,
          0.9802636025465373,
          1.1026305849851306,
          0.9805062960004834,
          0.8319880417498006,
          0.980567470769636,
          0.9805720692728209,
          1.4615711294133966,
          0.5854831443361399,
          0.9803408871622825,
          0.7722392902323791,
          1.1026302871214473,
          0.9805671995825348,
          0.9805620018824377,
          0.8350634687185854,
          0.5644025556310702,
          1.538682896766406,
          0.9804622685328772,
          0.8350856421237282,
          1.102589480431985,
          1.833573913392209,
          1.10262080272179,
          1.583290207493988,
          1.1025925789259539,
          1.5832585046682792,
          1.1024373569847525,
          0.9805642246905955,
          0.9805591075707385,
          0.9800917573522804,
          0.5907374303844147,
          1.102619818171658,
          0.8342365133370309,
          1.5832918406113092,
          0.9805298616114068,
          1.6687968790949834,
          0.6266724712899712,
          1.444777995543541,
          1.8741559198960338,
          1.3932114395545807,
          1.3931803307653035,
          1.8293723193069904,
          1.6841615568465897,
          0.9598822312592513,
          1.6841671358471018,
          1.6201907435418081,
          1.829387342688499,
          1.1026327749935567,
          0.8350873813345312,
          1.5832739058402499,
          0.9805564752375123,
          0.9805719718628079,
          1.8212921723361297,
          1.6539238042167663,
          1.1026223961604125,
          0.42797657851151905,
          0.9805652918558735,
          0.6787208228545898,
          0.9865146288866091,
          0.7722344885939632,
          1.392845465635847,
          1.6946046194279154,
          0.9805631333283242,
          1.6069732574076503,
          1.4929396143879115,
          0.980571388970561,
          0.6257733558848191,
          1.1025776031806318,
          2.079701639538488,
          1.3893162915848372,
          1.684135153004565,
          0.9805125922036061,
          1.2477226830979504,
          1.4615711116419632,
          0.9583499828561731,
          0.9805034262199217,
          1.1026253900987573,
          1.4615268598397742,
          0.9803587483407883,
          0.9805714395142487,
          0.9571406211377365,
          1.4447845697922637,
          -0.09907736642065224,
          0.192436666730866,
          0.9805479311426472,
          1.538385177878803,
          4.347397541544823,
          0.7198422282429636,
          1.102621469344277,
          1.7025415899111147,
          0.835038684514474,
          1.5310731190250895,
          1.3931957698453603,
          0.9805713054474562,
          0.980570468467541,
          0.8349474877990476,
          1.494332136828972,
          1.5832678378406329,
          0.9805616713513721,
          1.945444988871319,
          1.6070136737258431,
          1.5832676807245207,
          0.6451778799503661,
          0.9786299963263662,
          1.6134079822561012,
          0.8350906788097732,
          0.979448741082222,
          0.835070503218372,
          1.8043804503805596,
          0.9805400489056515,
          1.55148669837628,
          0.38230428779763864,
          1.4612628896984128,
          0.6267380681309562,
          1.8019777409002176,
          0.7906554818167051,
          1.461566970754437,
          1.6070577626649778,
          0.8269722590796424,
          0.8241867657140419,
          1.4615508431374358,
          0.9800935751748439,
          0.9571297811982581,
          1.102620050923982,
          0.8350037561835052,
          1.583204520569285,
          0.8961308366867242,
          0.9571026690968266,
          0.9723098298485763,
          2.4250999184066986,
          5.646826841982472,
          1.5570651573764862,
          2.053274125469835,
          0.9635287444864539,
          1.6070451687803464,
          -0.004384467101327622,
          0.9805678144327095,
          1.6070556623308274,
          1.4615687315047126,
          0.9560308990600582,
          0.9571398777985123,
          0.9805396586320955,
          1.7024036006420735,
          1.802344180549891,
          1.1024364412560521,
          1.1026270750914766,
          2.0797251106159274,
          0.9694209033633481,
          1.1027226086809976,
          0.9804775732581281,
          0.9805539724730441,
          0.6267563802149405,
          0.9805760048125288,
          1.1025540107981,
          0.9758869318652392,
          0.7788072818549061,
          1.102335038045411,
          0.9805874634135126,
          0.9805299682517254,
          1.1026073129477423,
          0.9805339088209546,
          1.5832991329302877,
          0.4234375270455344,
          0.7722256435272096,
          2.0798028659563017,
          0.8339830144590115,
          0.9805215933811904,
          0.42807270282787624,
          1.6841680931977112,
          2.0802135889554254,
          2.080251339859673,
          0.6266546841064875,
          5.711246741313082,
          1.5833013335629997,
          1.802535033820266,
          0.9044001037566252,
          0.9804577538080776,
          0.8350883994641358
         ],
         "z": [
          -0.43893083785244164,
          -0.43943174472191543,
          -0.5162069406331834,
          -0.4179803204971653,
          -0.03339193822865811,
          -0.23726894853253538,
          -0.0792842301132212,
          -0.47859325771357264,
          -0.4389400039799304,
          -0.43920906848305014,
          -0.4389847228727726,
          -0.4389308930137126,
          -0.43893136590227383,
          -0.5010810790856979,
          -0.26330955232282244,
          -0.24378783201414406,
          -0.22933020431441817,
          -0.43897869407105883,
          -0.2607210133345585,
          -0.4179840947372937,
          -0.40160053886364516,
          -0.29026601598051516,
          -0.23815020918744634,
          -0.28095039270726074,
          -0.4804575212840099,
          -0.480435220437693,
          -0.25367984436751906,
          -0.43905903309588146,
          -0.4389703836656063,
          -0.4517671339933607,
          -0.2600082492827771,
          -0.41797475888814767,
          -0.0770250766976028,
          -0.3648210103292728,
          -0.4179761160310771,
          -0.4395289555866287,
          -0.4389601418543884,
          -0.1873982501650417,
          -0.41797820375845596,
          -0.07702641225134049,
          -0.48044307460192864,
          -0.43906871497605293,
          -0.8082634739067034,
          -0.24641483355378857,
          -0.2372888758033016,
          -0.2633310771020262,
          -0.2809540288122762,
          -0.48043034647363164,
          -0.28105513588439973,
          -0.43893148054895637,
          -0.48043242221393867,
          -0.2599886854335263,
          -0.4389373806909985,
          -0.41797542109952845,
          -0.15833474932982797,
          -0.4983714656062751,
          -0.27376703677587105,
          -0.280993219985289,
          -0.48044232741658816,
          -0.2373587081346156,
          -0.4785643428312098,
          -0.31070438624598107,
          -0.23726999101746574,
          -0.4247298746016486,
          -0.2372697896172779,
          -0.47169338257597404,
          -0.4389378473198321,
          -0.28097600308347376,
          -0.41800737694433393,
          -0.3043652253761372,
          -0.23727161614951744,
          -0.48174058585236795,
          -0.24379556393180107,
          -0.4180391561528144,
          -0.2372835760886208,
          -0.23731243811139927,
          -0.46732742819674694,
          -0.41799559459382496,
          -0.30401955200193137,
          -0.4394330179302941,
          -0.4389360595120799,
          -0.4389819321736603,
          -0.3224566765648267,
          -0.2603217359426895,
          -0.41798522705477165,
          -0.4389563154945847,
          -0.2372685718244375,
          -0.417975265488096,
          -0.4389335030100371,
          -0.43893168724282305,
          -0.28101638714508526,
          -0.339512758744778,
          -0.5604015795347957,
          -0.2438231696796976,
          -0.43894551640097085,
          -0.4182002678835829,
          -0.24385338621259292,
          -0.32244114921150424,
          -0.6619414805984437,
          -0.24381514350556469,
          -0.5513899437597489,
          -0.6928438519373987,
          -0.4179849823142632,
          -0.5208588210884004,
          -0.417976727131689,
          -0.24381089223460323,
          -0.43894113718539607,
          -0.4389349796614414,
          -0.24379556393180107,
          -0.4179818005540544,
          -0.2372736748183664,
          -0.43894211355310153,
          -0.18585636155100235,
          -0.4389377358670414,
          -0.4389831652982557,
          -0.41797548040270655,
          -0.43894502933828605,
          -0.2981238583994084,
          -0.4389333085367495,
          -0.4389325320115812,
          -0.28112413936464603,
          -0.10299204103728195,
          -0.43897787006803746,
          -0.23726941719059774,
          -0.41797791979133964,
          -0.43893747571059244,
          -0.4389325755991815,
          -0.28094742460366345,
          -0.2560129241982758,
          -0.3224472931669697,
          -0.43944178125771377,
          -0.28096042666647575,
          -0.41798782954480845,
          -0.6931609860062589,
          -0.41803123810217757,
          -0.24384206737938224,
          -0.41799148948141934,
          -0.24399034481742005,
          -0.4180645700999153,
          -0.4389347388286027,
          -0.4389334306517831,
          -0.4390041339851814,
          -0.08480288146190636,
          -0.4179852001564271,
          -0.28121750993160344,
          -0.24379252477492883,
          -0.43894786322015145,
          -0.5029366571835346,
          -0.07929721479314995,
          -0.3040513010846021,
          -0.5706850171538989,
          -0.46728686841494776,
          -0.4673206406096135,
          -0.48753612018424136,
          -0.48044008887333023,
          -0.4465451684779129,
          -0.4804395617265193,
          -0.220167537148713,
          -0.48755386578082727,
          -0.4179809567199405,
          -0.28095156964397044,
          -0.24379159808235032,
          -0.43894291967831667,
          -0.4389329837933794,
          -0.03194600279399945,
          -0.24851409754252266,
          -0.41797991134509704,
          -0.25378736073901365,
          -0.43893248706851096,
          -0.2127095956856057,
          -0.4619765336887934,
          -0.23731439014118838,
          -0.4676174554909978,
          -0.5219393044160415,
          -0.43893331372835814,
          -0.43913521301177677,
          -0.20839492167817367,
          -0.4389390831225916,
          -0.08387655513234878,
          -0.4180020072933196,
          -0.6929500229830126,
          -0.48191165591311547,
          -0.48052429354146486,
          -0.43899477711537654,
          -0.3093034248562106,
          -0.28112732372995136,
          -0.44473527887250586,
          -0.43894548598589916,
          -0.4179981924224802,
          -0.28113916070291495,
          -0.43925539621808074,
          -0.43893222676975346,
          -0.25998951051968355,
          -0.3040109862242675,
          0.023618522926023885,
          -0.23439496245678104,
          -0.4390506229895863,
          -0.32259917368290514,
          7.291965963118162,
          -0.4042560151300709,
          -0.4179775344484557,
          -0.4331867797804518,
          -0.2809623834626611,
          -0.31891140112970884,
          -0.4672940022321726,
          -0.4389314273388711,
          -0.4389317208421603,
          -0.281095704872464,
          -0.3147406020903427,
          -0.2438013548768008,
          -0.43893735648570337,
          -0.6024959216495198,
          -0.4391829527085764,
          -0.24379604072044045,
          -0.08421763333550732,
          -0.4399199689222506,
          -0.28898065542772755,
          -0.2809609740541582,
          -0.4441424607836004,
          -0.28094868195949996,
          -0.5503894452906317,
          -0.4389464339384661,
          -0.32058762166073196,
          -0.30414616488230195,
          -0.2811671273834262,
          -0.07931070466316023,
          -0.461838323133302,
          -0.2422233284339672,
          -0.2811230735909507,
          -0.43911011838274894,
          -0.28217612539667974,
          -0.37069571968867215,
          -0.2811546683119604,
          -0.43900628119457313,
          -0.25999850282569203,
          -0.4179918857969306,
          -0.2810083118760497,
          -0.2438047753154178,
          -0.3340794100724257,
          -0.25999532626262606,
          -0.44071034588198194,
          0.36480166352170273,
          6.576858184577793,
          -0.2752001252087021,
          -0.3165101602172363,
          -0.2675216901135242,
          -0.43912655820018204,
          0.07127378201901846,
          -0.4389388430421126,
          -0.4391165387465378,
          -0.28112026201201523,
          -0.4578945506423577,
          -0.2599877990956695,
          -0.43894597294790366,
          -0.433305858461641,
          -0.5511254560601019,
          -0.4180122027321479,
          -0.4179873613058653,
          -0.6932982826755255,
          -0.44819616352990804,
          -0.4180809733027413,
          -0.4389470020736548,
          -0.4389438124853829,
          -0.07928152213928093,
          -0.43893505500798374,
          -0.41820236141611805,
          -0.44012757828365606,
          -0.24513586049230449,
          -0.4182642468058975,
          -0.4389582059616418,
          -0.43913710524044725,
          -0.4180781289956894,
          -0.4389879027040997,
          -0.2437876759526304,
          -0.3475669730032932,
          -0.23730714771798314,
          -0.6928515749014449,
          -0.2860523127296324,
          -0.43906310571750623,
          -0.2536830461669314,
          -0.4804286543890397,
          -0.6932342012067987,
          -0.6932787925204918,
          -0.07978900772291307,
          1.875207045010617,
          -0.24379004079444225,
          -0.16474379965286057,
          -0.3112582555788067,
          -0.43895564493678574,
          -0.2809422549098922
         ]
        },
        {
         "customdata": [
          [
           "SHA-256"
          ],
          [
           "Ethash"
          ],
          [
           "Scrypt"
          ],
          [
           "CryptoNight-V7"
          ],
          [
           "Ethash"
          ],
          [
           "Equihash"
          ],
          [
           "Multiple"
          ],
          [
           "Scrypt"
          ],
          [
           "X11"
          ],
          [
           "Scrypt"
          ],
          [
           "Multiple"
          ],
          [
           "Scrypt"
          ],
          [
           "SHA-256"
          ],
          [
           "Scrypt"
          ],
          [
           "Scrypt"
          ],
          [
           "Quark"
          ],
          [
           "Groestl"
          ],
          [
           "Scrypt"
          ],
          [
           "Scrypt"
          ],
          [
           "Scrypt"
          ],
          [
           "X11"
          ],
          [
           "Multiple"
          ],
          [
           "SHA-256"
          ],
          [
           "Scrypt"
          ],
          [
           "Scrypt"
          ],
          [
           "Scrypt"
          ],
          [
           "Scrypt"
          ],
          [
           "Scrypt"
          ],
          [
           "NeoScrypt"
          ],
          [
           "Scrypt"
          ],
          [
           "Scrypt"
          ],
          [
           "Scrypt"
          ],
          [
           "Scrypt"
          ],
          [
           "SHA-256"
          ],
          [
           "Scrypt"
          ],
          [
           "Scrypt"
          ],
          [
           "Scrypt"
          ],
          [
           "Scrypt"
          ],
          [
           "HybridScryptHash256"
          ],
          [
           "Scrypt"
          ],
          [
           "Scrypt"
          ],
          [
           "SHA-256"
          ],
          [
           "Scrypt"
          ],
          [
           "Scrypt"
          ],
          [
           "Scrypt"
          ],
          [
           "Scrypt"
          ],
          [
           "SHA-256"
          ],
          [
           "SHA-256"
          ],
          [
           "SHA-256"
          ],
          [
           "SHA-256"
          ],
          [
           "SHA-256"
          ],
          [
           "X11"
          ],
          [
           "Scrypt"
          ],
          [
           "Lyra2REv2"
          ],
          [
           "Scrypt"
          ],
          [
           "SHA-256"
          ],
          [
           "CryptoNight"
          ],
          [
           "CryptoNight"
          ],
          [
           "Scrypt"
          ],
          [
           "Scrypt"
          ],
          [
           "Scrypt"
          ],
          [
           "Scrypt"
          ],
          [
           "Scrypt"
          ],
          [
           "Scrypt"
          ],
          [
           "Stanford Folding"
          ],
          [
           "Multiple"
          ],
          [
           "QuBit"
          ],
          [
           "Scrypt"
          ],
          [
           "Scrypt"
          ],
          [
           "M7 POW"
          ],
          [
           "Scrypt"
          ],
          [
           "SHA-256"
          ],
          [
           "Scrypt"
          ],
          [
           "X11"
          ],
          [
           "Lyra2RE"
          ],
          [
           "SHA-256"
          ],
          [
           "X11"
          ],
          [
           "Scrypt"
          ],
          [
           "Scrypt"
          ],
          [
           "Ethash"
          ],
          [
           "Blake2b"
          ],
          [
           "X11"
          ],
          [
           "SHA-256"
          ],
          [
           "Scrypt"
          ],
          [
           "1GB AES Pattern Search"
          ],
          [
           "Scrypt"
          ],
          [
           "SHA-256"
          ],
          [
           "X11"
          ],
          [
           "Dagger"
          ],
          [
           "Scrypt"
          ],
          [
           "X11GOST"
          ],
          [
           "Scrypt"
          ],
          [
           "X11"
          ],
          [
           "Scrypt"
          ],
          [
           "X11"
          ],
          [
           "Equihash"
          ],
          [
           "CryptoNight"
          ],
          [
           "SHA-256"
          ],
          [
           "Multiple"
          ],
          [
           "Scrypt"
          ],
          [
           "SHA-256"
          ],
          [
           "Scrypt"
          ],
          [
           "Lyra2Z"
          ],
          [
           "Ethash"
          ],
          [
           "Equihash"
          ],
          [
           "Scrypt"
          ],
          [
           "X11"
          ],
          [
           "X11"
          ],
          [
           "CryptoNight"
          ],
          [
           "Scrypt"
          ],
          [
           "CryptoNight"
          ],
          [
           "Lyra2RE"
          ],
          [
           "X11"
          ],
          [
           "CryptoNight-V7"
          ],
          [
           "Scrypt"
          ],
          [
           "X11"
          ],
          [
           "Equihash"
          ],
          [
           "Scrypt"
          ],
          [
           "Lyra2RE"
          ],
          [
           "Dagger-Hashimoto"
          ],
          [
           "Scrypt"
          ],
          [
           "NIST5"
          ],
          [
           "Scrypt"
          ],
          [
           "SHA-256"
          ],
          [
           "Scrypt"
          ],
          [
           "CryptoNight-V7"
          ],
          [
           "Argon2d"
          ],
          [
           "Blake2b"
          ],
          [
           "Cloverhash"
          ],
          [
           "CryptoNight"
          ],
          [
           "X11"
          ],
          [
           "Scrypt"
          ],
          [
           "Scrypt"
          ],
          [
           "X11"
          ],
          [
           "X11"
          ],
          [
           "CryptoNight"
          ],
          [
           "Time Travel"
          ],
          [
           "Scrypt"
          ],
          [
           "Keccak"
          ],
          [
           "X11"
          ],
          [
           "SHA-256"
          ],
          [
           "Scrypt"
          ],
          [
           "Scrypt"
          ],
          [
           "Scrypt"
          ],
          [
           "Scrypt"
          ],
          [
           "Scrypt"
          ],
          [
           "Scrypt"
          ],
          [
           "CryptoNight"
          ],
          [
           "Equihash"
          ],
          [
           "X11"
          ],
          [
           "NeoScrypt"
          ],
          [
           "Equihash"
          ],
          [
           "Dagger"
          ],
          [
           "Scrypt"
          ],
          [
           "X11"
          ],
          [
           "NeoScrypt"
          ],
          [
           "Ethash"
          ],
          [
           "NeoScrypt"
          ],
          [
           "Multiple"
          ],
          [
           "CryptoNight"
          ],
          [
           "CryptoNight"
          ],
          [
           "Ethash"
          ],
          [
           "X11"
          ],
          [
           "CryptoNight-V7"
          ],
          [
           "Scrypt"
          ],
          [
           "BLAKE256"
          ],
          [
           "X11"
          ],
          [
           "NeoScrypt"
          ],
          [
           "NeoScrypt"
          ],
          [
           "Scrypt"
          ],
          [
           "X11"
          ],
          [
           "SHA-256"
          ],
          [
           "C11"
          ],
          [
           "CryptoNight"
          ],
          [
           "SkunkHash"
          ],
          [
           "CryptoNight"
          ],
          [
           "Scrypt"
          ],
          [
           "Dagger"
          ],
          [
           "Lyra2REv2"
          ],
          [
           "Scrypt"
          ],
          [
           "Scrypt"
          ],
          [
           "X11"
          ],
          [
           "Ethash"
          ],
          [
           "CryptoNight"
          ],
          [
           "Scrypt"
          ],
          [
           "IMesh"
          ],
          [
           "Equihash"
          ],
          [
           "Lyra2Z"
          ],
          [
           "X11"
          ],
          [
           "CryptoNight"
          ],
          [
           "NIST5"
          ],
          [
           "Lyra2RE"
          ],
          [
           "Tribus"
          ],
          [
           "Lyra2Z"
          ],
          [
           "CryptoNight"
          ],
          [
           "CryptoNight Heavy"
          ],
          [
           "CryptoNight"
          ],
          [
           "Jump Consistent Hash"
          ],
          [
           "CryptoNight"
          ],
          [
           "X16R"
          ],
          [
           "HMQ1725"
          ],
          [
           "X11"
          ],
          [
           "Scrypt"
          ],
          [
           "CryptoNight-V7"
          ],
          [
           "Cryptonight-GPU"
          ],
          [
           "XEVAN"
          ],
          [
           "CryptoNight Heavy"
          ],
          [
           "SHA-256"
          ],
          [
           "X11"
          ],
          [
           "X16R"
          ],
          [
           "Equihash"
          ],
          [
           "Lyra2Z"
          ],
          [
           "SHA-256"
          ],
          [
           "CryptoNight"
          ],
          [
           "Blake"
          ],
          [
           "Blake"
          ],
          [
           "Exosis"
          ],
          [
           "Scrypt"
          ],
          [
           "Equihash"
          ],
          [
           "Equihash"
          ],
          [
           "QuBit"
          ],
          [
           "SHA-256"
          ],
          [
           "X13"
          ],
          [
           "SHA-256"
          ],
          [
           "Scrypt"
          ],
          [
           "NeoScrypt"
          ],
          [
           "Blake"
          ],
          [
           "Scrypt"
          ],
          [
           "SHA-256"
          ],
          [
           "Scrypt"
          ],
          [
           "Groestl"
          ],
          [
           "Scrypt"
          ],
          [
           "Scrypt"
          ],
          [
           "Multiple"
          ],
          [
           "Equihash+Scrypt"
          ],
          [
           "Ethash"
          ],
          [
           "CryptoNight"
          ],
          [
           "Equihash"
          ]
         ],
         "hovertemplate": "<b>%{hovertext}</b><br><br>Class=%{marker.color}<br>PC 1=%{x}<br>PC 2=%{y}<br>PC 3=%{z}<br>Algorithm=%{customdata[0]}<extra></extra>",
         "hovertext": [
          "Bitcoin",
          "Ethereum",
          "Litecoin",
          "Monero",
          "Ethereum Classic",
          "ZCash",
          "DigiByte",
          "ProsperCoin",
          "Spreadcoin",
          "Argentum",
          "MyriadCoin",
          "MoonCoin",
          "ZetaCoin",
          "SexCoin",
          "Quatloo",
          "QuarkCoin",
          "Riecoin",
          "Digitalcoin ",
          "Catcoin",
          "CannaCoin",
          "CryptCoin",
          "Verge",
          "DevCoin",
          "EarthCoin",
          "E-Gulden",
          "Einsteinium",
          "Emerald",
          "Franko",
          "FeatherCoin",
          "GrandCoin",
          "GlobalCoin",
          "GoldCoin",
          "Infinite Coin",
          "IXcoin",
          "KrugerCoin",
          "LuckyCoin",
          "Litebar ",
          "MegaCoin",
          "MediterraneanCoin",
          "MinCoin",
          "NobleCoin",
          "Namecoin",
          "NyanCoin",
          "RonPaulCoin",
          "StableCoin",
          "SmartCoin",
          "SysCoin",
          "TigerCoin",
          "TerraCoin",
          "UnbreakableCoin",
          "Unobtanium",
          "UroCoin",
          "ViaCoin",
          "Vertcoin",
          "WorldCoin",
          "JouleCoin",
          "ByteCoin",
          "DigitalNote ",
          "MonaCoin",
          "Gulden",
          "PesetaCoin",
          "Wild Beast Coin",
          "Flo",
          "ArtByte",
          "Folding Coin",
          "Unitus",
          "CypherPunkCoin",
          "OmniCron",
          "GreenCoin",
          "Cryptonite",
          "MasterCoin",
          "SoonCoin",
          "1Credit",
          "MarsCoin ",
          "Crypto",
          "Anarchists Prime",
          "BowsCoin",
          "Song Coin",
          "BitZeny",
          "Expanse",
          "Siacoin",
          "MindCoin",
          "I0coin",
          "Revolution VR",
          "HOdlcoin",
          "Gamecredits",
          "CarpeDiemCoin",
          "Adzcoin",
          "SoilCoin",
          "YoCoin",
          "SibCoin",
          "Francs",
          "BolivarCoin",
          "Omni",
          "PizzaCoin",
          "Komodo",
          "Karbo",
          "ZayedCoin",
          "Circuits of Value",
          "DopeCoin",
          "DollarCoin",
          "Shilling",
          "ZCoin",
          "Elementrem",
          "ZClassic",
          "KiloCoin",
          "ArtexCoin",
          "Kurrent",
          "Cannabis Industry Coin",
          "OsmiumCoin",
          "Bikercoins",
          "HexxCoin",
          "PacCoin",
          "Citadel",
          "BeaverCoin",
          "VaultCoin",
          "Zero",
          "Canada eCoin",
          "Zoin",
          "DubaiCoin",
          "EB3coin",
          "Coinonat",
          "BenjiRolls",
          "ILCoin",
          "EquiTrader",
          "Quantum Resistant Ledger",
          "Dynamic",
          "Nano",
          "ChanCoin",
          "Dinastycoin",
          "DigitalPrice",
          "Unify",
          "SocialCoin",
          "ArcticCoin",
          "DAS",
          "LeviarCoin",
          "Bitcore",
          "gCn Coin",
          "SmartCash",
          "Onix",
          "Bitcoin Cash",
          "Sojourn Coin",
          "NewYorkCoin",
          "FrazCoin",
          "Kronecoin",
          "AdCoin",
          "Linx",
          "Sumokoin",
          "BitcoinZ",
          "Elements",
          "VIVO Coin",
          "Bitcoin Gold",
          "Pirl",
          "eBoost",
          "Pura",
          "Innova",
          "Ellaism",
          "GoByte",
          "SHIELD",
          "UltraNote",
          "BitCoal",
          "DaxxCoin",
          "AC3",
          "Lethean",
          "PopularCoin",
          "Photon",
          "Sucre",
          "SparksPay",
          "GunCoin",
          "IrishCoin",
          "Pioneer Coin",
          "UnitedBitcoin",
          "Interzone",
          "TurtleCoin",
          "MUNcoin",
          "Niobio Cash",
          "ShareChain",
          "Travelflex",
          "KREDS",
          "BitFlip",
          "LottoCoin",
          "Crypto Improvement Fund",
          "Callisto Network",
          "BitTube",
          "Poseidon",
          "Aidos Kuneen",
          "Bitrolium",
          "Alpenschillling",
          "FuturoCoin",
          "Monero Classic",
          "Jumpcoin",
          "Infinex",
          "KEYCO",
          "GINcoin",
          "PlatinCoin",
          "Loki",
          "Newton Coin",
          "MassGrid",
          "PluraCoin",
          "Motion",
          "PlusOneCoin",
          "Axe",
          "HexCoin",
          "Webchain",
          "Ryo",
          "Urals Coin",
          "Qwertycoin",
          "Project Pai",
          "Azart",
          "Xchange",
          "CrypticCoin",
          "Actinium",
          "Bitcoin SV",
          "FREDEnergy",
          "Universal Molecule",
          "Lithium",
          "Exosis",
          "Block-Logic",
          "Beam",
          "Bithereum",
          "SLICE",
          "BLAST",
          "Bitcoin Rhodium",
          "GlobalToken",
          "SolarCoin",
          "UFO Coin",
          "BlakeCoin",
          "Crypto Escudo",
          "Crown Coin",
          "SmileyCoin",
          "Groestlcoin",
          "Bata",
          "Pakcoin",
          "JoinCoin",
          "Vollar",
          "Reality Clash",
          "Beldex",
          "Horizen"
         ],
         "legendgroup": "3",
         "marker": {
          "color": [
           3,
           3,
           3,
           3,
           3,
           3,
           3,
           3,
           3,
           3,
           3,
           3,
           3,
           3,
           3,
           3,
           3,
           3,
           3,
           3,
           3,
           3,
           3,
           3,
           3,
           3,
           3,
           3,
           3,
           3,
           3,
           3,
           3,
           3,
           3,
           3,
           3,
           3,
           3,
           3,
           3,
           3,
           3,
           3,
           3,
           3,
           3,
           3,
           3,
           3,
           3,
           3,
           3,
           3,
           3,
           3,
           3,
           3,
           3,
           3,
           3,
           3,
           3,
           3,
           3,
           3,
           3,
           3,
           3,
           3,
           3,
           3,
           3,
           3,
           3,
           3,
           3,
           3,
           3,
           3,
           3,
           3,
           3,
           3,
           3,
           3,
           3,
           3,
           3,
           3,
           3,
           3,
           3,
           3,
           3,
           3,
           3,
           3,
           3,
           3,
           3,
           3,
           3,
           3,
           3,
           3,
           3,
           3,
           3,
           3,
           3,
           3,
           3,
           3,
           3,
           3,
           3,
           3,
           3,
           3,
           3,
           3,
           3,
           3,
           3,
           3,
           3,
           3,
           3,
           3,
           3,
           3,
           3,
           3,
           3,
           3,
           3,
           3,
           3,
           3,
           3,
           3,
           3,
           3,
           3,
           3,
           3,
           3,
           3,
           3,
           3,
           3,
           3,
           3,
           3,
           3,
           3,
           3,
           3,
           3,
           3,
           3,
           3,
           3,
           3,
           3,
           3,
           3,
           3,
           3,
           3,
           3,
           3,
           3,
           3,
           3,
           3,
           3,
           3,
           3,
           3,
           3,
           3,
           3,
           3,
           3,
           3,
           3,
           3,
           3,
           3,
           3,
           3,
           3,
           3,
           3,
           3,
           3,
           3,
           3,
           3,
           3,
           3,
           3,
           3,
           3,
           3,
           3,
           3,
           3,
           3,
           3,
           3,
           3,
           3,
           3,
           3,
           3,
           3,
           3,
           3,
           3,
           3,
           3,
           3,
           3,
           3,
           3,
           3,
           3,
           3,
           3,
           3,
           3,
           3,
           3,
           3,
           3
          ],
          "coloraxis": "coloraxis",
          "symbol": "diamond"
         },
         "mode": "markers",
         "name": "3",
         "scene": "scene",
         "showlegend": true,
         "type": "scatter3d",
         "x": [
          -0.1345708310084509,
          -0.15516430157539857,
          -0.15949426933190716,
          -0.1457011591616446,
          -0.15360592288652755,
          -0.15345593293521365,
          0.1527720208495667,
          -0.16064029958795528,
          -0.23606248419916592,
          -0.16025678817075364,
          -0.10061532456259979,
          2.5620262677952748,
          -0.13165636292504845,
          -0.15751249557636707,
          -0.16006071413355183,
          -0.23622471469859174,
          -0.19944481773915848,
          -0.16010974790482393,
          -0.1606225742551695,
          -0.16070903088831898,
          -0.23615179402949965,
          0.17648509810645527,
          0.24320738973924405,
          0.08797447347230024,
          -0.1604554061210218,
          -0.1560613228940986,
          -0.16039466867871013,
          -0.16076601658368223,
          -0.17373043528381943,
          -0.13999069453924715,
          -0.15956138513841783,
          -0.15983868507470764,
          1.5877907829056082,
          -0.13453221927976128,
          -0.15712833095109288,
          -0.16048184035284022,
          -0.16083658412386065,
          -0.1600959706867051,
          -0.15617392486678144,
          -0.1607178606292998,
          -0.025606055653899285,
          -0.13460979196969142,
          -0.1543830580488,
          -0.1606972512275482,
          -0.1587912496861733,
          -0.1601840775593252,
          -0.12176334357151909,
          -0.13407367772751408,
          -0.13436077029796192,
          -0.1343435533690116,
          -0.1349344126735146,
          -0.23632570315143675,
          -0.160413867854052,
          -0.19220359549689917,
          -0.15751712195685827,
          -0.13414095081337002,
          3.864311095292587,
          0.46397356916055715,
          -0.15928156020475018,
          -0.14387926175003746,
          -0.15800066395801407,
          -0.16083878529038373,
          -0.15786580446952794,
          -0.14409151578512766,
          -0.11781063899597241,
          -0.1346163861245015,
          -0.17815781642679163,
          -0.16071192070273824,
          -0.033656585297324654,
          -0.10228657783144122,
          -0.16084768460441387,
          -0.13463755596259244,
          0.4914995179047686,
          -0.23571300543295448,
          -0.14875128107671742,
          -0.1343773638922448,
          -0.235997831785047,
          -0.15897122270392303,
          -0.158163638260394,
          -0.1562311465754937,
          0.36687746781596603,
          -0.23603323892663436,
          -0.13453334108454257,
          -0.15680635793072212,
          -0.1390467338661073,
          -0.15941127630656318,
          0.2838659895946171,
          -0.235193994063903,
          -0.16033237356336744,
          -0.15965811623926937,
          -0.16153783464632865,
          -0.16063759153825583,
          -0.2359964506057622,
          -0.1608477430875035,
          -0.23614634873652288,
          -0.28799600634901185,
          0.3088986115476012,
          -0.13479336170180037,
          -0.11469193272668678,
          -0.15801473285200474,
          -0.134752006517422,
          -0.16051114490193608,
          -0.1449511285193402,
          -0.15597337760913785,
          -0.153477539493,
          -0.08755425761037859,
          -0.2227335678505928,
          -0.23397443639462956,
          0.3088930387015955,
          -0.16082947826916966,
          0.30902371318812094,
          -0.14929177017981493,
          0.4793012470229607,
          -0.14446544584924045,
          -0.1607977772533839,
          -0.22887857362667216,
          -0.1534899302839353,
          -0.15893141845968878,
          -0.14901022653480112,
          -0.13205846241682606,
          -0.13171360158473994,
          -0.1890842563190914,
          -0.16036019025473472,
          -0.10112115969170915,
          -0.16018214111561094,
          -0.1443236902705653,
          -0.16503312214778473,
          -0.033229394903259435,
          -0.13374654851133774,
          0.34500838498516256,
          -0.23520229565106043,
          -0.1605015370981513,
          -0.16026472659033209,
          -0.23559700377271955,
          -0.23617440121852348,
          0.3092880157781508,
          -0.1390243214587582,
          3.248294529013181,
          -0.10991562746604437,
          -0.2270450225188351,
          -0.1345699956313385,
          -0.0863998051106541,
          1.5853234385794008,
          -0.16059933317726105,
          -0.16005089104945078,
          -0.15975192355262852,
          -0.1597388608205104,
          0.30947172801078604,
          0.0588485076495391,
          -0.1905736955443344,
          -0.17841859314994513,
          -0.15333603430392853,
          -0.15909137843984153,
          -0.15892962848355086,
          -0.23171917454301896,
          -0.17826398131742172,
          -0.15433798060825718,
          -0.17836421023845084,
          -0.12484932045585982,
          1.146895027470693,
          0.3088757701013866,
          -0.07921034310524892,
          -0.2314597770922534,
          -0.13343613510563768,
          -0.07700051457386636,
          1.1148483068885886,
          -0.23614840750354424,
          -0.17841618589640196,
          -0.17145480706035518,
          -0.15985045622971053,
          -0.2360738335895451,
          -0.13454940760144304,
          -0.20573140093936804,
          8.048444915766407,
          -0.1364779573784909,
          0.31275009493559536,
          0.03215385554817229,
          -0.15859514375048903,
          -0.177763079398937,
          -0.16042403430097207,
          0.1466040137319233,
          -0.2302149706314949,
          -0.10736519110974323,
          0.3168004753616617,
          -0.16066103421341255,
          -0.17459860164662128,
          -0.15232734604220716,
          -0.14273418934978882,
          -0.23524304836672222,
          0.30905823278789996,
          -0.18914383819892325,
          -0.1491369944983826,
          -0.1753413240147193,
          -0.14503552383555127,
          0.31298772948770043,
          0.5851730654862968,
          2.1176751283532966,
          -0.14767231577426967,
          0.32266196602348224,
          -0.19601472031724404,
          -0.13418463030227815,
          -0.23613056978208172,
          -0.16068559812434682,
          -0.13331196643972476,
          -0.1257354044332221,
          -0.0971077249133415,
          3.107517778846435,
          -0.09440580426736105,
          -0.23610192736900687,
          -0.19544229355914966,
          -0.04809170817166146,
          -0.1444331655459058,
          -0.13457003317862876,
          0.3888239202331674,
          -0.13537739558501707,
          -0.13576966720870542,
          -0.1486098255609763,
          -0.15957789544627637,
          -0.15139575403282185,
          -0.15316887990507191,
          -0.17736862449705051,
          -0.1338462903583096,
          -0.11217297454222783,
          -0.1327142076947016,
          0.5354310953848472,
          -0.10359619968230287,
          -0.08622091807641656,
          -0.14424202913588943,
          -0.13436014105317223,
          0.5549181249788545,
          -0.19900591517326613,
          -0.160762492883351,
          -0.15871822478816675,
          -0.13535090113205056,
          -0.1162337824402619,
          -0.15600652950969088,
          0.3306299628878716,
          -0.15345698937249472
         ],
         "y": [
          -1.2959033501989936,
          -2.0217020177614193,
          -1.0875929390303145,
          -2.1383221516587287,
          -2.0218008950173454,
          -1.9270110810106544,
          -1.847680771936369,
          -1.0875838748254592,
          -0.9655211463456301,
          -1.0876021655618633,
          -1.8421467992230378,
          -1.2722271365165183,
          -1.295918451790845,
          -1.0876483326802708,
          -1.0876212737508966,
          -0.4611128604219859,
          -1.2132635662060416,
          -1.087586679030459,
          -1.0875833367050864,
          -1.0875804898264527,
          -0.9655224654227672,
          -1.8438665619920442,
          -1.2990386074965115,
          -1.0894193901066183,
          -1.0875782616760434,
          -1.0876389389196328,
          -1.0875840752150618,
          -1.087580894279194,
          -1.6401313463617457,
          -1.087931290608615,
          -1.0875852307336835,
          -1.0875952125400343,
          -1.0975585314139362,
          -1.2959021779920714,
          -1.087647404810523,
          -1.0875783680559754,
          -1.0875761547921534,
          -1.0875819684176655,
          -2.137115844984888,
          -1.087578572031232,
          -1.0939117607792694,
          -1.295904533008213,
          -1.0876138901383607,
          -1.08758560381063,
          -1.087687154159491,
          -1.0875910476576314,
          -1.296118076676245,
          -1.2959063649813245,
          -1.295911591782534,
          -1.2959375221290539,
          -1.295899943365198,
          -0.9655152147165721,
          -1.0875783928876996,
          -1.243962703454277,
          -1.0876592080507512,
          -1.2959070067173597,
          -2.2844088212609663,
          -2.266186648218197,
          -1.0876011837469117,
          -1.088229913021075,
          -1.0876049464843873,
          -1.087577111274241,
          -1.0875964068063415,
          -1.0877629867528138,
          -2.107746762987002,
          -1.841786766826101,
          -1.4826361420654206,
          -1.0875737772747256,
          -1.0906755032928934,
          -2.1205205985113276,
          -1.0875759832497056,
          -1.2959053758905663,
          -1.1318152374658133,
          -0.9655195863006095,
          -2.096944791786677,
          -1.2959202820620284,
          -0.9655198797063813,
          -1.0876649397044,
          -1.0876681006106208,
          -2.0217461750191323,
          -2.181328977746762,
          -0.9655174739636386,
          -1.2959022120487518,
          -1.0875990498699972,
          -2.1197533759126976,
          -1.0875904194591295,
          -1.2982402337751133,
          -0.9655393324763886,
          -2.208622837144057,
          -1.0876566329062556,
          -2.0765976804078035,
          -1.0875830964798077,
          -0.9655226223051141,
          -1.0875759829159026,
          -0.9655271730370524,
          -1.0674331172035467,
          -2.2639401795874807,
          -1.295902264734894,
          -1.8420172426396018,
          -1.0876287733950634,
          -1.2959016373587622,
          -1.087586219032115,
          -2.204329771683797,
          -2.021744822889104,
          -1.9270117369604776,
          -1.0923117735888672,
          -0.9654506396004704,
          -0.9656025512018176,
          -2.2639480062293007,
          -1.0875768887904445,
          -2.2639468236344396,
          -2.0969223638012666,
          -1.013402860481948,
          -2.138413421347364,
          -1.0875763758871366,
          -0.9659852610040994,
          -1.9270093286006784,
          -1.0875869896549941,
          -2.0969214739229085,
          -2.076817557391199,
          -1.0894756050447107,
          -0.6749530976460397,
          -1.087585479155041,
          -1.2966135695929633,
          -1.0876054684240126,
          -2.138353427219369,
          -2.20143801679838,
          -2.1937126357492733,
          -1.9931027841258129,
          -2.264229232633793,
          -0.9655507226217492,
          -1.0875784625831537,
          -1.087610064019729,
          -0.9655348602014885,
          -0.9655237782697731,
          -2.2639589875573938,
          -2.180386575493574,
          -1.1233044675691706,
          -1.173416827734571,
          -0.9659992097798945,
          -1.295903324837924,
          -1.092624791976247,
          -1.03456383892702,
          -1.0875819350007123,
          -1.0876098374146685,
          -1.0876118992300023,
          -1.0876115026607331,
          -2.263977697555259,
          -1.9351699287458115,
          -0.9653792756487336,
          -1.6400585684306486,
          -1.9270074410284332,
          -2.20867308819629,
          -1.087586935313412,
          -0.965619012246103,
          -1.6400664049799814,
          -2.0218718487037224,
          -1.6400602588647233,
          -1.841949697539293,
          -2.297663883711518,
          -2.2639426133581497,
          -2.026357468715286,
          -0.9657503637289108,
          -2.138645571369477,
          -1.0885107121416624,
          -1.182130408638739,
          -0.9655236156501745,
          -1.6400543185546652,
          -1.6401764266688694,
          -1.0875898297993538,
          -0.9655235792971391,
          -1.2959021192349682,
          -1.3483076343884088,
          -2.7251020743589907,
          -2.1333129696120827,
          -2.2640501922285248,
          -1.0886775752767266,
          -2.2086188261488098,
          -1.2442315768233656,
          -1.0875905357804512,
          -1.091055373634794,
          -0.9656777662391032,
          -2.0247757534668427,
          -2.264389459349513,
          -1.0875845043044385,
          -2.3236682934306065,
          -1.9270109289215869,
          -2.204456410498458,
          -0.9655519598265347,
          -2.2639411811857224,
          -0.6749359354812406,
          -2.096928998029255,
          -2.3233095419730074,
          -2.204324745983405,
          -2.2642267572436117,
          -2.145190567499554,
          -2.337109245802866,
          -2.180424822465459,
          -2.264211511348264,
          -1.277474464616151,
          -2.058506157601374,
          -0.9655239094767287,
          -1.0875860194454636,
          -2.139164262010168,
          -2.2195314815184424,
          -0.3656735781128596,
          -2.1969262615156153,
          -1.2961312462840773,
          -0.965525824456287,
          -1.2775113320415805,
          -1.9290883340628344,
          -2.2043576248238317,
          -1.2959033259778163,
          -2.2671315294031977,
          -2.205816488541988,
          -2.2057727825934967,
          -2.2147405334799086,
          -1.08762053858883,
          -1.9271168612102558,
          -1.9270092483815826,
          -1.4826817963644425,
          -1.2959112876867351,
          -0.3839808268370047,
          -1.295949316753822,
          -1.1347279339773726,
          -1.6405527822178425,
          -2.209123904944513,
          -1.0877675561621116,
          -1.2959115726793977,
          -1.1006523606577199,
          -1.2132648604184888,
          -1.087576446352115,
          -1.0876376002037402,
          -1.841811015013491,
          -2.0767226668187417,
          -2.021744633668451,
          -2.264248220220463,
          -1.9270111130828529
         ],
         "z": [
          0.21564218808072202,
          0.3185018350699938,
          0.013953769819172134,
          0.33139637220618323,
          0.31848400375253716,
          0.366212225067362,
          0.21141799153303012,
          0.013983450690369997,
          0.034937246955170115,
          0.013977489612537424,
          0.21706162714708602,
          -0.014074141877654583,
          0.21556463746640608,
          0.013912782869706927,
          0.013976981608228876,
          0.013679497488997687,
          0.1895827294323879,
          0.013969347668183116,
          0.013982815063360892,
          0.0139844911554639,
          0.0349400871899421,
          0.20976221452505614,
          0.20589651301487177,
          0.00751055757303365,
          0.013976820446369673,
          0.013869766453450071,
          0.013976635605106558,
          0.01398618961424457,
          0.19912426713337172,
          0.013496568046952494,
          0.013953639789622925,
          0.013963990630902015,
          -0.032302103791800554,
          0.21564080347158673,
          0.013901801037771075,
          0.013977587173571239,
          0.013986928850759448,
          0.01396773634526532,
          0.17065853167351985,
          0.01398423882264356,
          0.01185533226806576,
          0.21564358521325952,
          0.013816326178840032,
          0.013985492965161817,
          0.013958638745012011,
          0.01397256287373797,
          0.2153400138002911,
          0.21562907360905428,
          0.21563846052834804,
          0.21564472870387139,
          0.21565146616466616,
          0.034943061951062566,
          0.013975693290629717,
          0.08220375792842975,
          0.013915743008118556,
          0.2156311214418345,
          0.2465020942145566,
          0.3368241725596694,
          0.013949969039014003,
          0.013683012657630928,
          0.013915137699970891,
          0.013987239356799443,
          0.013909144526398671,
          0.013567408560451908,
          0.5949821985466661,
          0.21791850015738073,
          0.3499425174780776,
          0.013982824709300767,
          0.011238026485997941,
          0.7423339329658211,
          0.013987194541813264,
          0.2156445808246805,
          0.0072643680941133024,
          0.0349270703043088,
          0.34560515681614445,
          0.21564118647454153,
          0.03493510973133542,
          0.013957888060716808,
          0.01393613272054649,
          0.3185431553519239,
          0.2479190663308324,
          0.03493547342837195,
          0.2156408436992895,
          0.013880212940412816,
          0.4275972101641135,
          0.013950793705330469,
          0.20455198494234056,
          0.03491769981833466,
          0.27635591419241984,
          0.013974929729408002,
          0.29836859244058417,
          0.013983172380986996,
          0.034935784999488705,
          0.013987196089971905,
          0.03494116031749541,
          0.5214283010782799,
          0.3405749501302836,
          0.21564812696010144,
          0.217421452200919,
          0.013921733039176246,
          0.21564680746689538,
          0.01398045002147906,
          0.4095986698233194,
          0.3185355968040947,
          0.3662129998743505,
          0.01317078660137449,
          0.03454625022732203,
          0.034900059407074614,
          0.3405771431631477,
          0.013986921243774975,
          0.3405731819982846,
          0.34561442970803147,
          0.02740074217892159,
          0.33138558162568305,
          0.01398590145436258,
          0.03485720856911369,
          0.36621271940874345,
          0.013936485283559374,
          0.3456063267991836,
          0.26429854630872096,
          0.01366713668057366,
          -0.014373920973760309,
          0.013976037109302843,
          0.21489188225591616,
          0.013976262377514143,
          0.33136600235850716,
          0.30195490348111687,
          0.2623284800294312,
          0.4693766437363616,
          0.33964064712712033,
          0.034920896699548974,
          0.013978162451759252,
          0.01397976747441289,
          0.034927802886771796,
          0.03494106095869201,
          0.340568958936547,
          0.2897237243301798,
          -0.07202425001008653,
          0.11752108273899262,
          0.03480957770504605,
          0.21564215812425547,
          0.013219987779751245,
          -0.04863027680029603,
          0.01398180044355386,
          0.013973730166427972,
          0.013965908437659408,
          0.013965440010609537,
          0.34056869289150704,
          0.36240040778635707,
          0.033628562437246164,
          0.1992363930022629,
          0.36620792552561127,
          0.2763342990315368,
          0.013936421095360814,
          0.03484129246058182,
          0.1992341102382123,
          0.31852293914806873,
          0.1992353125979349,
          0.2176878465706229,
          0.3259246843085884,
          0.3405762222182412,
          0.3175901332338198,
          0.03486823036690063,
          0.3311376561083189,
          0.011886335195423196,
          0.12246783557032623,
          0.0349402919084146,
          0.19923521948315234,
          0.19907238022096416,
          0.013962918627640401,
          0.034938197539847934,
          0.21564126872131165,
          0.04866177505301932,
          0.24423374697676464,
          0.2866561964178672,
          0.340495907633668,
          0.008878076792757964,
          0.27630630141406126,
          0.08187002224308705,
          0.013979138244598597,
          0.006297254624301935,
          0.034814531885535634,
          0.3179655632896321,
          0.3404709780721423,
          0.01398419423003269,
          0.1578295228338723,
          0.3661806329223905,
          0.4095696529223991,
          0.03492235808405854,
          0.3405707482170963,
          -0.01437672242085704,
          0.3456118294058723,
          0.42234639776123273,
          0.40959972115129345,
          0.34053522279880044,
          0.27463456609125575,
          0.3090514226072176,
          0.19740418561410644,
          0.34026078614953,
          0.21071204884478584,
          0.4898112852915032,
          0.034939869690262255,
          0.013985275359952575,
          0.33126919682580047,
          0.40931526964895026,
          0.01971433427181317,
          0.21758241666140266,
          0.21457859121032902,
          0.034939567375839184,
          0.2107056415560845,
          0.36380719339483764,
          0.40959143884383936,
          0.2156421594706939,
          0.33917112190193327,
          0.4146781944510209,
          0.414677785010357,
          0.3777640382445879,
          0.013963291808268571,
          0.36618216142715815,
          0.36620372273689,
          0.34993233713235194,
          0.21562399776048297,
          -0.02751090098064006,
          0.2156022462162678,
          0.006794305601783685,
          0.1972731810253267,
          0.4141647997079382,
          0.01357280594012899,
          0.21563843796375162,
          -0.0026201791469313306,
          0.18957079565529925,
          0.013984933330430585,
          0.013943698537692135,
          0.21794534708151636,
          0.47495543869199375,
          0.31853647439792704,
          0.3400475753558313,
          0.36621226295099985
         ]
        },
        {
         "customdata": [
          [
           "VeChainThor Authority"
          ],
          [
           "Proof-of-BibleHash"
          ],
          [
           "Proof-of-Authority"
          ]
         ],
         "hovertemplate": "<b>%{hovertext}</b><br><br>Class=%{marker.color}<br>PC 1=%{x}<br>PC 2=%{y}<br>PC 3=%{z}<br>Algorithm=%{customdata[0]}<extra></extra>",
         "hovertext": [
          "Vechain",
          "BiblePay",
          "Poa Network"
         ],
         "legendgroup": "2",
         "marker": {
          "color": [
           2,
           2,
           2
          ],
          "coloraxis": "coloraxis",
          "symbol": "square"
         },
         "mode": "markers",
         "name": "2",
         "scene": "scene",
         "showlegend": true,
         "type": "scatter3d",
         "x": [
          4.307429822072096,
          -0.1908895775794427,
          -0.41367411213940325
         ],
         "y": [
          -0.14839829651354952,
          3.4891149796695804,
          3.3363013896947686
         ],
         "z": [
          15.002949591072436,
          21.466263223544942,
          14.938700045804884
         ]
        },
        {
         "customdata": [
          [
           "TRC10"
          ]
         ],
         "hovertemplate": "<b>%{hovertext}</b><br><br>Class=%{marker.color}<br>PC 1=%{x}<br>PC 2=%{y}<br>PC 3=%{z}<br>Algorithm=%{customdata[0]}<extra></extra>",
         "hovertext": [
          "BitTorrent"
         ],
         "legendgroup": "1",
         "marker": {
          "color": [
           1
          ],
          "coloraxis": "coloraxis",
          "symbol": "x"
         },
         "mode": "markers",
         "name": "1",
         "scene": "scene",
         "showlegend": true,
         "type": "scatter3d",
         "x": [
          34.05179917011518
         ],
         "y": [
          1.8112640044522021
         ],
         "z": [
          -1.6913905592148264
         ]
        }
       ],
       "layout": {
        "coloraxis": {
         "colorbar": {
          "title": {
           "text": "Class"
          }
         },
         "colorscale": [
          [
           0,
           "#0d0887"
          ],
          [
           0.1111111111111111,
           "#46039f"
          ],
          [
           0.2222222222222222,
           "#7201a8"
          ],
          [
           0.3333333333333333,
           "#9c179e"
          ],
          [
           0.4444444444444444,
           "#bd3786"
          ],
          [
           0.5555555555555556,
           "#d8576b"
          ],
          [
           0.6666666666666666,
           "#ed7953"
          ],
          [
           0.7777777777777778,
           "#fb9f3a"
          ],
          [
           0.8888888888888888,
           "#fdca26"
          ],
          [
           1,
           "#f0f921"
          ]
         ]
        },
        "legend": {
         "title": {
          "text": "Class"
         },
         "tracegroupgap": 0,
         "x": 0,
         "y": 1
        },
        "margin": {
         "t": 60
        },
        "scene": {
         "domain": {
          "x": [
           0,
           1
          ],
          "y": [
           0,
           1
          ]
         },
         "xaxis": {
          "title": {
           "text": "PC 1"
          }
         },
         "yaxis": {
          "title": {
           "text": "PC 2"
          }
         },
         "zaxis": {
          "title": {
           "text": "PC 3"
          }
         }
        },
        "template": {
         "data": {
          "bar": [
           {
            "error_x": {
             "color": "#2a3f5f"
            },
            "error_y": {
             "color": "#2a3f5f"
            },
            "marker": {
             "line": {
              "color": "#E5ECF6",
              "width": 0.5
             },
             "pattern": {
              "fillmode": "overlay",
              "size": 10,
              "solidity": 0.2
             }
            },
            "type": "bar"
           }
          ],
          "barpolar": [
           {
            "marker": {
             "line": {
              "color": "#E5ECF6",
              "width": 0.5
             },
             "pattern": {
              "fillmode": "overlay",
              "size": 10,
              "solidity": 0.2
             }
            },
            "type": "barpolar"
           }
          ],
          "carpet": [
           {
            "aaxis": {
             "endlinecolor": "#2a3f5f",
             "gridcolor": "white",
             "linecolor": "white",
             "minorgridcolor": "white",
             "startlinecolor": "#2a3f5f"
            },
            "baxis": {
             "endlinecolor": "#2a3f5f",
             "gridcolor": "white",
             "linecolor": "white",
             "minorgridcolor": "white",
             "startlinecolor": "#2a3f5f"
            },
            "type": "carpet"
           }
          ],
          "choropleth": [
           {
            "colorbar": {
             "outlinewidth": 0,
             "ticks": ""
            },
            "type": "choropleth"
           }
          ],
          "contour": [
           {
            "colorbar": {
             "outlinewidth": 0,
             "ticks": ""
            },
            "colorscale": [
             [
              0,
              "#0d0887"
             ],
             [
              0.1111111111111111,
              "#46039f"
             ],
             [
              0.2222222222222222,
              "#7201a8"
             ],
             [
              0.3333333333333333,
              "#9c179e"
             ],
             [
              0.4444444444444444,
              "#bd3786"
             ],
             [
              0.5555555555555556,
              "#d8576b"
             ],
             [
              0.6666666666666666,
              "#ed7953"
             ],
             [
              0.7777777777777778,
              "#fb9f3a"
             ],
             [
              0.8888888888888888,
              "#fdca26"
             ],
             [
              1,
              "#f0f921"
             ]
            ],
            "type": "contour"
           }
          ],
          "contourcarpet": [
           {
            "colorbar": {
             "outlinewidth": 0,
             "ticks": ""
            },
            "type": "contourcarpet"
           }
          ],
          "heatmap": [
           {
            "colorbar": {
             "outlinewidth": 0,
             "ticks": ""
            },
            "colorscale": [
             [
              0,
              "#0d0887"
             ],
             [
              0.1111111111111111,
              "#46039f"
             ],
             [
              0.2222222222222222,
              "#7201a8"
             ],
             [
              0.3333333333333333,
              "#9c179e"
             ],
             [
              0.4444444444444444,
              "#bd3786"
             ],
             [
              0.5555555555555556,
              "#d8576b"
             ],
             [
              0.6666666666666666,
              "#ed7953"
             ],
             [
              0.7777777777777778,
              "#fb9f3a"
             ],
             [
              0.8888888888888888,
              "#fdca26"
             ],
             [
              1,
              "#f0f921"
             ]
            ],
            "type": "heatmap"
           }
          ],
          "heatmapgl": [
           {
            "colorbar": {
             "outlinewidth": 0,
             "ticks": ""
            },
            "colorscale": [
             [
              0,
              "#0d0887"
             ],
             [
              0.1111111111111111,
              "#46039f"
             ],
             [
              0.2222222222222222,
              "#7201a8"
             ],
             [
              0.3333333333333333,
              "#9c179e"
             ],
             [
              0.4444444444444444,
              "#bd3786"
             ],
             [
              0.5555555555555556,
              "#d8576b"
             ],
             [
              0.6666666666666666,
              "#ed7953"
             ],
             [
              0.7777777777777778,
              "#fb9f3a"
             ],
             [
              0.8888888888888888,
              "#fdca26"
             ],
             [
              1,
              "#f0f921"
             ]
            ],
            "type": "heatmapgl"
           }
          ],
          "histogram": [
           {
            "marker": {
             "pattern": {
              "fillmode": "overlay",
              "size": 10,
              "solidity": 0.2
             }
            },
            "type": "histogram"
           }
          ],
          "histogram2d": [
           {
            "colorbar": {
             "outlinewidth": 0,
             "ticks": ""
            },
            "colorscale": [
             [
              0,
              "#0d0887"
             ],
             [
              0.1111111111111111,
              "#46039f"
             ],
             [
              0.2222222222222222,
              "#7201a8"
             ],
             [
              0.3333333333333333,
              "#9c179e"
             ],
             [
              0.4444444444444444,
              "#bd3786"
             ],
             [
              0.5555555555555556,
              "#d8576b"
             ],
             [
              0.6666666666666666,
              "#ed7953"
             ],
             [
              0.7777777777777778,
              "#fb9f3a"
             ],
             [
              0.8888888888888888,
              "#fdca26"
             ],
             [
              1,
              "#f0f921"
             ]
            ],
            "type": "histogram2d"
           }
          ],
          "histogram2dcontour": [
           {
            "colorbar": {
             "outlinewidth": 0,
             "ticks": ""
            },
            "colorscale": [
             [
              0,
              "#0d0887"
             ],
             [
              0.1111111111111111,
              "#46039f"
             ],
             [
              0.2222222222222222,
              "#7201a8"
             ],
             [
              0.3333333333333333,
              "#9c179e"
             ],
             [
              0.4444444444444444,
              "#bd3786"
             ],
             [
              0.5555555555555556,
              "#d8576b"
             ],
             [
              0.6666666666666666,
              "#ed7953"
             ],
             [
              0.7777777777777778,
              "#fb9f3a"
             ],
             [
              0.8888888888888888,
              "#fdca26"
             ],
             [
              1,
              "#f0f921"
             ]
            ],
            "type": "histogram2dcontour"
           }
          ],
          "mesh3d": [
           {
            "colorbar": {
             "outlinewidth": 0,
             "ticks": ""
            },
            "type": "mesh3d"
           }
          ],
          "parcoords": [
           {
            "line": {
             "colorbar": {
              "outlinewidth": 0,
              "ticks": ""
             }
            },
            "type": "parcoords"
           }
          ],
          "pie": [
           {
            "automargin": true,
            "type": "pie"
           }
          ],
          "scatter": [
           {
            "fillpattern": {
             "fillmode": "overlay",
             "size": 10,
             "solidity": 0.2
            },
            "type": "scatter"
           }
          ],
          "scatter3d": [
           {
            "line": {
             "colorbar": {
              "outlinewidth": 0,
              "ticks": ""
             }
            },
            "marker": {
             "colorbar": {
              "outlinewidth": 0,
              "ticks": ""
             }
            },
            "type": "scatter3d"
           }
          ],
          "scattercarpet": [
           {
            "marker": {
             "colorbar": {
              "outlinewidth": 0,
              "ticks": ""
             }
            },
            "type": "scattercarpet"
           }
          ],
          "scattergeo": [
           {
            "marker": {
             "colorbar": {
              "outlinewidth": 0,
              "ticks": ""
             }
            },
            "type": "scattergeo"
           }
          ],
          "scattergl": [
           {
            "marker": {
             "colorbar": {
              "outlinewidth": 0,
              "ticks": ""
             }
            },
            "type": "scattergl"
           }
          ],
          "scattermapbox": [
           {
            "marker": {
             "colorbar": {
              "outlinewidth": 0,
              "ticks": ""
             }
            },
            "type": "scattermapbox"
           }
          ],
          "scatterpolar": [
           {
            "marker": {
             "colorbar": {
              "outlinewidth": 0,
              "ticks": ""
             }
            },
            "type": "scatterpolar"
           }
          ],
          "scatterpolargl": [
           {
            "marker": {
             "colorbar": {
              "outlinewidth": 0,
              "ticks": ""
             }
            },
            "type": "scatterpolargl"
           }
          ],
          "scatterternary": [
           {
            "marker": {
             "colorbar": {
              "outlinewidth": 0,
              "ticks": ""
             }
            },
            "type": "scatterternary"
           }
          ],
          "surface": [
           {
            "colorbar": {
             "outlinewidth": 0,
             "ticks": ""
            },
            "colorscale": [
             [
              0,
              "#0d0887"
             ],
             [
              0.1111111111111111,
              "#46039f"
             ],
             [
              0.2222222222222222,
              "#7201a8"
             ],
             [
              0.3333333333333333,
              "#9c179e"
             ],
             [
              0.4444444444444444,
              "#bd3786"
             ],
             [
              0.5555555555555556,
              "#d8576b"
             ],
             [
              0.6666666666666666,
              "#ed7953"
             ],
             [
              0.7777777777777778,
              "#fb9f3a"
             ],
             [
              0.8888888888888888,
              "#fdca26"
             ],
             [
              1,
              "#f0f921"
             ]
            ],
            "type": "surface"
           }
          ],
          "table": [
           {
            "cells": {
             "fill": {
              "color": "#EBF0F8"
             },
             "line": {
              "color": "white"
             }
            },
            "header": {
             "fill": {
              "color": "#C8D4E3"
             },
             "line": {
              "color": "white"
             }
            },
            "type": "table"
           }
          ]
         },
         "layout": {
          "annotationdefaults": {
           "arrowcolor": "#2a3f5f",
           "arrowhead": 0,
           "arrowwidth": 1
          },
          "autotypenumbers": "strict",
          "coloraxis": {
           "colorbar": {
            "outlinewidth": 0,
            "ticks": ""
           }
          },
          "colorscale": {
           "diverging": [
            [
             0,
             "#8e0152"
            ],
            [
             0.1,
             "#c51b7d"
            ],
            [
             0.2,
             "#de77ae"
            ],
            [
             0.3,
             "#f1b6da"
            ],
            [
             0.4,
             "#fde0ef"
            ],
            [
             0.5,
             "#f7f7f7"
            ],
            [
             0.6,
             "#e6f5d0"
            ],
            [
             0.7,
             "#b8e186"
            ],
            [
             0.8,
             "#7fbc41"
            ],
            [
             0.9,
             "#4d9221"
            ],
            [
             1,
             "#276419"
            ]
           ],
           "sequential": [
            [
             0,
             "#0d0887"
            ],
            [
             0.1111111111111111,
             "#46039f"
            ],
            [
             0.2222222222222222,
             "#7201a8"
            ],
            [
             0.3333333333333333,
             "#9c179e"
            ],
            [
             0.4444444444444444,
             "#bd3786"
            ],
            [
             0.5555555555555556,
             "#d8576b"
            ],
            [
             0.6666666666666666,
             "#ed7953"
            ],
            [
             0.7777777777777778,
             "#fb9f3a"
            ],
            [
             0.8888888888888888,
             "#fdca26"
            ],
            [
             1,
             "#f0f921"
            ]
           ],
           "sequentialminus": [
            [
             0,
             "#0d0887"
            ],
            [
             0.1111111111111111,
             "#46039f"
            ],
            [
             0.2222222222222222,
             "#7201a8"
            ],
            [
             0.3333333333333333,
             "#9c179e"
            ],
            [
             0.4444444444444444,
             "#bd3786"
            ],
            [
             0.5555555555555556,
             "#d8576b"
            ],
            [
             0.6666666666666666,
             "#ed7953"
            ],
            [
             0.7777777777777778,
             "#fb9f3a"
            ],
            [
             0.8888888888888888,
             "#fdca26"
            ],
            [
             1,
             "#f0f921"
            ]
           ]
          },
          "colorway": [
           "#636efa",
           "#EF553B",
           "#00cc96",
           "#ab63fa",
           "#FFA15A",
           "#19d3f3",
           "#FF6692",
           "#B6E880",
           "#FF97FF",
           "#FECB52"
          ],
          "font": {
           "color": "#2a3f5f"
          },
          "geo": {
           "bgcolor": "white",
           "lakecolor": "white",
           "landcolor": "#E5ECF6",
           "showlakes": true,
           "showland": true,
           "subunitcolor": "white"
          },
          "hoverlabel": {
           "align": "left"
          },
          "hovermode": "closest",
          "mapbox": {
           "style": "light"
          },
          "paper_bgcolor": "white",
          "plot_bgcolor": "#E5ECF6",
          "polar": {
           "angularaxis": {
            "gridcolor": "white",
            "linecolor": "white",
            "ticks": ""
           },
           "bgcolor": "#E5ECF6",
           "radialaxis": {
            "gridcolor": "white",
            "linecolor": "white",
            "ticks": ""
           }
          },
          "scene": {
           "xaxis": {
            "backgroundcolor": "#E5ECF6",
            "gridcolor": "white",
            "gridwidth": 2,
            "linecolor": "white",
            "showbackground": true,
            "ticks": "",
            "zerolinecolor": "white"
           },
           "yaxis": {
            "backgroundcolor": "#E5ECF6",
            "gridcolor": "white",
            "gridwidth": 2,
            "linecolor": "white",
            "showbackground": true,
            "ticks": "",
            "zerolinecolor": "white"
           },
           "zaxis": {
            "backgroundcolor": "#E5ECF6",
            "gridcolor": "white",
            "gridwidth": 2,
            "linecolor": "white",
            "showbackground": true,
            "ticks": "",
            "zerolinecolor": "white"
           }
          },
          "shapedefaults": {
           "line": {
            "color": "#2a3f5f"
           }
          },
          "ternary": {
           "aaxis": {
            "gridcolor": "white",
            "linecolor": "white",
            "ticks": ""
           },
           "baxis": {
            "gridcolor": "white",
            "linecolor": "white",
            "ticks": ""
           },
           "bgcolor": "#E5ECF6",
           "caxis": {
            "gridcolor": "white",
            "linecolor": "white",
            "ticks": ""
           }
          },
          "title": {
           "x": 0.05
          },
          "xaxis": {
           "automargin": true,
           "gridcolor": "white",
           "linecolor": "white",
           "ticks": "",
           "title": {
            "standoff": 15
           },
           "zerolinecolor": "white",
           "zerolinewidth": 2
          },
          "yaxis": {
           "automargin": true,
           "gridcolor": "white",
           "linecolor": "white",
           "ticks": "",
           "title": {
            "standoff": 15
           },
           "zerolinecolor": "white",
           "zerolinewidth": 2
          }
         }
        },
        "width": 800
       }
      },
      "text/html": [
       "<div>                            <div id=\"67f7c831-9f71-4388-af88-d44539019c9b\" class=\"plotly-graph-div\" style=\"height:525px; width:800px;\"></div>            <script type=\"text/javascript\">                require([\"plotly\"], function(Plotly) {                    window.PLOTLYENV=window.PLOTLYENV || {};                                    if (document.getElementById(\"67f7c831-9f71-4388-af88-d44539019c9b\")) {                    Plotly.newPlot(                        \"67f7c831-9f71-4388-af88-d44539019c9b\",                        [{\"customdata\":[[\"Scrypt\"],[\"Scrypt\"],[\"X13\"],[\"X11\"],[\"SHA-512\"],[\"SHA-256\"],[\"SHA-256\"],[\"X15\"],[\"Scrypt\"],[\"Scrypt\"],[\"Scrypt\"],[\"Scrypt\"],[\"Scrypt\"],[\"Scrypt\"],[\"Groestl\"],[\"PoS\"],[\"Scrypt\"],[\"Scrypt\"],[\"X11\"],[\"X11\"],[\"SHA3\"],[\"Scrypt\"],[\"SHA-256\"],[\"Scrypt\"],[\"X13\"],[\"X13\"],[\"NeoScrypt\"],[\"Scrypt\"],[\"Scrypt\"],[\"Scrypt\"],[\"X11\"],[\"X11\"],[\"Multiple\"],[\"PHI1612\"],[\"X11\"],[\"Scrypt\"],[\"Scrypt\"],[\"Scrypt\"],[\"X11\"],[\"Multiple\"],[\"X13\"],[\"Scrypt\"],[\"Shabal256\"],[\"Counterparty\"],[\"SHA-256\"],[\"Groestl\"],[\"Scrypt\"],[\"X13\"],[\"Scrypt\"],[\"Scrypt\"],[\"X13\"],[\"X11\"],[\"Scrypt\"],[\"X11\"],[\"SHA3\"],[\"QUAIT\"],[\"X11\"],[\"Scrypt\"],[\"X13\"],[\"SHA-256\"],[\"X15\"],[\"BLAKE256\"],[\"SHA-256\"],[\"X11\"],[\"SHA-256\"],[\"NIST5\"],[\"Scrypt\"],[\"Scrypt\"],[\"X11\"],[\"Scrypt\"],[\"SHA-256\"],[\"Scrypt\"],[\"PoS\"],[\"X11\"],[\"SHA-256\"],[\"SHA-256\"],[\"NIST5\"],[\"X11\"],[\"POS 3.0\"],[\"Scrypt\"],[\"Scrypt\"],[\"Scrypt\"],[\"X13\"],[\"X11\"],[\"X11\"],[\"Scrypt\"],[\"SHA-256\"],[\"X11\"],[\"Scrypt\"],[\"Scrypt\"],[\"Scrypt\"],[\"Scrypt\"],[\"SHA-256D\"],[\"PoS\"],[\"Scrypt\"],[\"X11\"],[\"PoS\"],[\"X13\"],[\"X14\"],[\"PoS\"],[\"SHA-256D\"],[\"DPoS\"],[\"X11\"],[\"X13\"],[\"X11\"],[\"PoS\"],[\"Scrypt\"],[\"Scrypt\"],[\"PoS\"],[\"X11\"],[\"SHA-256\"],[\"Scrypt\"],[\"X11\"],[\"Scrypt\"],[\"Scrypt\"],[\"X11\"],[\"Scrypt\"],[\"Scrypt\"],[\"Scrypt\"],[\"Scrypt\"],[\"Quark\"],[\"QuBit\"],[\"Scrypt\"],[\"SHA-256\"],[\"X11\"],[\"Scrypt\"],[\"Scrypt\"],[\"Scrypt\"],[\"Scrypt\"],[\"X13\"],[\"Scrypt\"],[\"Scrypt\"],[\"X11\"],[\"Blake2S\"],[\"X11\"],[\"PoS\"],[\"X11\"],[\"PoS\"],[\"X11\"],[\"Scrypt\"],[\"Scrypt\"],[\"Scrypt\"],[\"SHA-256\"],[\"X11\"],[\"Scrypt\"],[\"PoS\"],[\"Scrypt\"],[\"X15\"],[\"SHA-256\"],[\"POS 3.0\"],[\"536\"],[\"NIST5\"],[\"NIST5\"],[\"Skein\"],[\"X13\"],[\"Scrypt\"],[\"X13\"],[\"SkunkHash v2 Raptor\"],[\"Skein\"],[\"X11\"],[\"Scrypt\"],[\"PoS\"],[\"Scrypt\"],[\"Scrypt\"],[\"SHA-512\"],[\"Ouroboros\"],[\"X11\"],[\"NeoScrypt\"],[\"Scrypt\"],[\"Lyra2REv2\"],[\"Scrypt\"],[\"SHA-256\"],[\"NIST5\"],[\"PHI1612\"],[\"Scrypt\"],[\"Quark\"],[\"POS 2.0\"],[\"Scrypt\"],[\"SHA-256\"],[\"X11\"],[\"DPoS\"],[\"NIST5\"],[\"X13\"],[\"Scrypt\"],[\"NIST5\"],[\"Quark\"],[\"Scrypt\"],[\"Scrypt\"],[\"X11\"],[\"Quark\"],[\"Scrypt\"],[\"Scrypt\"],[\"X11\"],[\"POS 3.0\"],[\"Ethash\"],[\"Scrypt\"],[\"Scrypt\"],[\"X13\"],[\"SHA-256 + Hive\"],[\"C11\"],[\"X11\"],[\"XEVAN\"],[\"Scrypt\"],[\"VBFT\"],[\"NIST5\"],[\"Scrypt\"],[\"Scrypt\"],[\"Scrypt\"],[\"Green Protocol\"],[\"PoS\"],[\"Scrypt\"],[\"Semux BFT consensus\"],[\"Quark\"],[\"PoS\"],[\"X16R\"],[\"Scrypt\"],[\"XEVAN\"],[\"Scrypt\"],[\"Scrypt\"],[\"Scrypt\"],[\"SHA-256D\"],[\"Scrypt\"],[\"X15\"],[\"Scrypt\"],[\"Quark\"],[\"SHA-256\"],[\"DPoS\"],[\"X16R\"],[\"Quark\"],[\"Quark\"],[\"Scrypt\"],[\"Lyra2REv2\"],[\"Quark\"],[\"Scrypt\"],[\"X11\"],[\"X11\"],[\"Scrypt\"],[\"PoS\"],[\"Keccak\"],[\"X11\"],[\"Scrypt\"],[\"SHA-512\"],[\"ECC 256K1\"],[\"XEVAN\"],[\"XEVAN\"],[\"X11\"],[\"Quark\"],[\"Equihash\"],[\"Scrypt\"],[\"Quark\"],[\"Quark\"],[\"Scrypt\"],[\"X11\"],[\"Scrypt\"],[\"XEVAN\"],[\"SHA-256D\"],[\"X11\"],[\"X11\"],[\"DPoS\"],[\"Scrypt\"],[\"X11\"],[\"Scrypt\"],[\"Scrypt\"],[\"SHA-256\"],[\"Scrypt\"],[\"X11\"],[\"Scrypt\"],[\"SHA-256\"],[\"X11\"],[\"Scrypt\"],[\"Scrypt\"],[\"X11\"],[\"Scrypt\"],[\"PoS\"],[\"X11\"],[\"SHA-256\"],[\"DPoS\"],[\"Scrypt\"],[\"Scrypt\"],[\"NeoScrypt\"],[\"X13\"],[\"DPoS\"],[\"DPoS\"],[\"SHA-256\"],[\"Leased POS\"],[\"PoS\"],[\"PoS\"],[\"SHA-256\"],[\"Scrypt\"],[\"Scrypt\"]],\"hovertemplate\":\"<b>%{hovertext}</b><br><br>Class=%{marker.color}<br>PC 1=%{x}<br>PC 2=%{y}<br>PC 3=%{z}<br>Algorithm=%{customdata[0]}<extra></extra>\",\"hovertext\":[\"42 Coin\",\"404Coin\",\"EliteCoin\",\"Dash\",\"Bitshares\",\"BitcoinDark\",\"PayCoin\",\"KoboCoin\",\"Aurora Coin\",\"BlueCoin\",\"EnergyCoin\",\"BitBar\",\"CryptoBullion\",\"CasinoCoin\",\"Diamond\",\"Exclusive Coin\",\"FlutterCoin\",\"HoboNickels\",\"HyperStake\",\"IOCoin\",\"MaxCoin\",\"MintCoin\",\"MazaCoin\",\"Nautilus Coin\",\"NavCoin\",\"OpalCoin\",\"Orbitcoin\",\"PotCoin\",\"PhoenixCoin\",\"Reddcoin\",\"SuperCoin\",\"SyncCoin\",\"TeslaCoin\",\"TittieCoin\",\"TorCoin\",\"UnitaryStatus Dollar\",\"UltraCoin\",\"VeriCoin\",\"X11 Coin\",\"Crypti\",\"StealthCoin\",\"ZCC Coin\",\"BurstCoin\",\"StorjCoin\",\"Neutron\",\"FairCoin\",\"RubyCoin\",\"Kore\",\"Dnotes\",\"8BIT Coin\",\"Sativa Coin\",\"Ucoin\",\"Vtorrent\",\"IslaCoin\",\"Nexus\",\"Droidz\",\"Squall Coin\",\"Diggits\",\"Paycon\",\"Emercoin\",\"EverGreenCoin\",\"Decred\",\"EDRCoin\",\"Hitcoin\",\"DubaiCoin\",\"PWR Coin\",\"BillaryCoin\",\"GPU Coin\",\"EuropeCoin\",\"ZeitCoin\",\"SwingCoin\",\"SafeExchangeCoin\",\"Nebuchadnezzar\",\"Ratecoin\",\"Revenu\",\"Clockcoin\",\"VIP Tokens\",\"BitSend\",\"Let it Ride\",\"PutinCoin\",\"iBankCoin\",\"Frankywillcoin\",\"MudraCoin\",\"Lutetium Coin\",\"GoldBlocks\",\"CarterCoin\",\"BitTokens\",\"MustangCoin\",\"ZoneCoin\",\"RootCoin\",\"BitCurrency\",\"Swiscoin\",\"BuzzCoin\",\"Opair\",\"PesoBit\",\"Halloween Coin\",\"CoffeeCoin\",\"RoyalCoin\",\"GanjaCoin V2\",\"TeamUP\",\"LanaCoin\",\"ARK\",\"InsaneCoin\",\"EmberCoin\",\"XenixCoin\",\"FreeCoin\",\"PLNCoin\",\"AquariusCoin\",\"Creatio\",\"Eternity\",\"Eurocoin\",\"BitcoinFast\",\"Stakenet\",\"BitConnect Coin\",\"MoneyCoin\",\"Enigma\",\"Russiacoin\",\"PandaCoin\",\"GameUnits\",\"GAKHcoin\",\"Allsafe\",\"LiteCreed\",\"Klingon Empire Darsek\",\"Internet of People\",\"KushCoin\",\"Printerium\",\"Impeach\",\"Zilbercoin\",\"FirstCoin\",\"FindCoin\",\"OpenChat\",\"RenosCoin\",\"VirtacoinPlus\",\"TajCoin\",\"Impact\",\"Atmos\",\"HappyCoin\",\"MacronCoin\",\"Condensate\",\"Independent Money System\",\"ArgusCoin\",\"LomoCoin\",\"ProCurrency\",\"GoldReserve\",\"GrowthCoin\",\"Phreak\",\"Degas Coin\",\"HTML5 Coin\",\"Ultimate Secure Cash\",\"QTUM\",\"Espers\",\"Denarius\",\"Virta Unique Coin\",\"Bitcoin Planet\",\"BritCoin\",\"Linda\",\"DeepOnion\",\"Signatum\",\"Cream\",\"Monoeci\",\"Draftcoin\",\"Stakecoin\",\"CoinonatX\",\"Ethereum Dark\",\"Obsidian\",\"Cardano\",\"Regalcoin\",\"TrezarCoin\",\"TerraNovaCoin\",\"Rupee\",\"WomenCoin\",\"Theresa May Coin\",\"NamoCoin\",\"LUXCoin\",\"Xios\",\"Bitcloud 2.0\",\"KekCoin\",\"BlackholeCoin\",\"Infinity Economics\",\"Magnet\",\"Lamden Tau\",\"Electra\",\"Bitcoin Diamond\",\"Cash & Back Coin\",\"Bulwark\",\"Kalkulus\",\"GermanCoin\",\"LiteCoin Ultra\",\"PhantomX\",\"Digiwage\",\"Trollcoin\",\"Litecoin Plus\",\"Monkey Project\",\"TokenPay\",\"1717 Masonic Commemorative Token\",\"My Big Coin\",\"Unified Society USDEX\",\"Tokyo Coin\",\"LitecoinCash\",\"Stipend\",\"Pushi\",\"Ellerium\",\"Velox\",\"Ontology\",\"Bitspace\",\"Briacoin\",\"Ignition\",\"MedicCoin\",\"Bitcoin Green\",\"Deviant Coin\",\"Abjcoin\",\"Semux\",\"Carebit\",\"Zealium\",\"Proton\",\"iDealCash\",\"Bitcoin Incognito\",\"HollyWoodCoin\",\"Swisscoin\",\"Xt3ch\",\"TheVig\",\"EmaratCoin\",\"Dekado\",\"Lynx\",\"Poseidon Quark\",\"BitcoinWSpectrum\",\"Muse\",\"Trivechain\",\"Dystem\",\"Giant\",\"Peony Coin\",\"Absolute Coin\",\"Vitae\",\"TPCash\",\"ARENON\",\"EUNO\",\"MMOCoin\",\"Ketan\",\"XDNA\",\"PAXEX\",\"ThunderStake\",\"Kcash\",\"Acute Angle Cloud\",\"Bettex coin\",\"BitMoney\",\"Junson Ming Chan Coin\",\"HerbCoin\",\"PirateCash\",\"Oduwa\",\"Galilel\",\"Crypto Sports\",\"Credit\",\"Dash Platinum\",\"Nasdacoin\",\"Beetle Coin\",\"Titan Coin\",\"Award\",\"Insane Coin\",\"ALAX\",\"LiteDoge\",\"TruckCoin\",\"OrangeCoin\",\"BitstarCoin\",\"NeosCoin\",\"HyperCoin\",\"PinkCoin\",\"AudioCoin\",\"IncaKoin\",\"Piggy Coin\",\"Genstake\",\"XiaoMiCoin\",\"CapriCoin\",\" ClubCoin\",\"Radium\",\"Creditbit \",\"OKCash\",\"Lisk\",\"HiCoin\",\"WhiteCoin\",\"FriendshipCoin\",\"Triangles Coin\",\"EOS\",\"Oxycoin\",\"TigerCash\",\"Waves\",\"Particl\",\"Nxt\",\"ZEPHYR\",\"Gapcoin\",\"BitcoinPlus\"],\"legendgroup\":\"0\",\"marker\":{\"color\":[0,0,0,0,0,0,0,0,0,0,0,0,0,0,0,0,0,0,0,0,0,0,0,0,0,0,0,0,0,0,0,0,0,0,0,0,0,0,0,0,0,0,0,0,0,0,0,0,0,0,0,0,0,0,0,0,0,0,0,0,0,0,0,0,0,0,0,0,0,0,0,0,0,0,0,0,0,0,0,0,0,0,0,0,0,0,0,0,0,0,0,0,0,0,0,0,0,0,0,0,0,0,0,0,0,0,0,0,0,0,0,0,0,0,0,0,0,0,0,0,0,0,0,0,0,0,0,0,0,0,0,0,0,0,0,0,0,0,0,0,0,0,0,0,0,0,0,0,0,0,0,0,0,0,0,0,0,0,0,0,0,0,0,0,0,0,0,0,0,0,0,0,0,0,0,0,0,0,0,0,0,0,0,0,0,0,0,0,0,0,0,0,0,0,0,0,0,0,0,0,0,0,0,0,0,0,0,0,0,0,0,0,0,0,0,0,0,0,0,0,0,0,0,0,0,0,0,0,0,0,0,0,0,0,0,0,0,0,0,0,0,0,0,0,0,0,0,0,0,0,0,0,0,0,0,0,0,0,0,0,0,0,0,0,0,0,0,0,0,0,0,0,0,0,0,0,0,0,0,0,0,0,0,0,0,0,0,0,0,0],\"coloraxis\":\"coloraxis\",\"symbol\":\"circle\"},\"mode\":\"markers\",\"name\":\"0\",\"scene\":\"scene\",\"showlegend\":true,\"x\":[-0.33536604724800373,-0.3187093802677064,2.2984637052755814,-0.410580576403533,-0.25397977379648734,-0.30927330898953864,-0.2605295340358772,-0.26236868312974676,-0.33502570591018394,-0.3276072039098011,-0.3338633896058052,-0.33536198271755496,-0.3353462690750566,0.6739263047323942,-0.37508046140310186,-0.35667819699856407,-0.264414948409981,-0.3334251522318183,-0.34167087388457273,-0.4104753265300408,-0.4721969146858028,-0.026676144080574345,-0.27258511682271663,-0.2863733456017299,-0.285901605322478,-0.2865234950735895,-0.35310126347134363,-0.32966889111190356,-0.33376806508947,0.022591713366934423,-0.3615472791320846,-0.4108468302414979,-0.259548346893351,-0.32826097628879874,-0.4107584595988883,-0.310601928407697,-0.33404356609226193,-0.2662418972441957,-0.4107229789062821,-0.2600164021384666,-0.2863044709086585,-0.326468164394938,0.014750683603668038,-0.3541148284217933,-0.30848517211654003,-0.37450234544619043,-0.2863537051933723,-0.2865987763808906,-0.2810077005362182,-0.3353481249847006,-0.28655099748933965,-0.3619917841587635,-0.33508253161501345,-0.4108283686199422,-0.5403384024526673,-0.41786724025798705,-0.33899635839764986,-0.28475550647059583,-0.2860726577004895,-0.3018284149267483,-0.2648106773251141,-0.06496897775691977,-0.3092442378644018,-0.08831426537427596,-0.30930796357007656,-0.24110340279147383,-0.3349583532493643,-0.28462394570659105,-0.4079968878181506,0.8667456954404599,-0.30910796500405185,-0.05667831712653634,-0.3563615220481615,-0.40867205481041097,-0.3078511380719517,-0.3055188883547849,-0.36239927237597475,-0.40956343739843254,-0.3476503638224146,-0.3112560858298506,-0.3349964184175441,-0.33343591308951753,-0.2365489330074089,-0.3494854583379289,-0.4103022665817561,-0.3342007992942253,-0.3092888670025785,-0.41081754908871315,-0.3351856130883644,-0.3353423610421377,-0.2846147573741456,-0.25080280663495774,0.01677928059560433,-0.3553188363669224,-0.33495671595961124,-0.3969787220533273,-0.35464800899011184,-0.23797989948847012,-0.43244979277924767,-0.3543956285416699,-0.2976546257498364,3.7281098304164773,-0.4104101513065634,0.8450392110467063,-0.41077247729650673,-0.35578248155741937,-0.3348840941716107,-0.33503832184504956,-0.3563615220481615,-0.41034728936416187,-0.30915161599298974,-0.33488486038058124,-0.4325870920028324,-0.335032203123168,-0.3306190471037391,-0.41080144991947365,-0.3342426678167128,0.3567481409115757,-0.3352314601630132,-0.3353020488556666,-0.36673668741554716,-0.35181384199051485,-0.33152799450106013,-0.30926529280528353,-0.41071142349628903,-0.3350798818630394,-0.3352067590924735,-0.28625995817954064,-0.2494931074151959,-0.2377478060183826,-0.3160646983672496,-0.28600133586541926,-0.40997704307169663,-0.41223463710550073,-0.40871600588659013,-0.3546084748796428,-0.4098749807088786,-0.3490096531471334,-0.40581583122900927,-0.335150078743811,-0.3351492281739772,-0.3282690940891966,0.272276729147135,-0.41035354657873824,-0.268900192102774,-0.35639574321508494,-0.3343607077345742,0.8694810206189735,-0.2592195773085372,-0.3464289731815988,0.5710337801407167,-0.363934576836507,-0.3624369638733926,-0.41434132985085415,-0.2862361423553704,0.12961952596818022,-0.28630693991529593,-0.32192627480012265,-0.4138464694994943,-0.41062596009129726,-0.2863343306880109,-0.3562619110051907,-0.3347853122679955,-0.3352849823899547,-0.31203352996418593,0.6831369941588415,-0.41056672122149007,-0.3481008754608297,-0.3352405564296995,-0.3187868512749444,0.4336196054389072,-0.30761197405724966,-0.3487026437819731,-0.4125328855500387,-0.33519089146814574,-0.4138587108781136,-0.3255792993356021,-0.3350613917592557,-0.08705249159256293,-0.4093593455092049,3.732965427188723,0.19543689281267038,-0.2829784412546111,-0.3325218853385152,-0.3150177278570496,-0.36662262206238666,0.07914826670586354,-0.33419961563058426,-0.4099407094828645,-0.36578723280512737,-0.3217676003723962,-0.3353071036322638,-0.36196372250725434,-0.3479321827206175,-0.2822739497343024,-0.3100937635740049,-0.330853380599151,-0.22954341103322276,-0.3364112850575009,-0.380271878912248,-0.41064311023121924,-0.2728526972682151,-0.28549415352833624,-0.3101553954356164,-0.36353352093937497,-0.3353344498511579,-0.3353161591286024,-0.2798763785437061,-0.31630056820378477,-0.3558564302696773,-0.3350326767132705,3.9248812188611746,-0.41252742381668545,-0.35604504674359916,-0.3217236159263324,-0.2819015999327413,-0.20115473125891092,-0.2860286498384126,-0.13849228120628643,-0.28628047797349415,-0.36297734440145746,-0.33450667800818584,-0.21547399912418208,2.2339634180196746,-0.3623292587974068,-0.25934779328131435,1.0211038319227381,-0.3697407083439522,-0.3667360900400684,-0.4155430791421915,-0.16697939156936506,-0.36739542278437526,-0.3654558416117132,-0.32820921620405186,-0.3615411580357805,-0.41011657840450366,-0.2835261699588013,-0.3551445818615685,-0.3445878177834927,-0.36140235631439716,-0.19478820078721712,-0.268188813467922,-0.27104975450775437,-0.22416544108136632,0.6679328421261417,-0.15202465466494963,-0.41483779873032584,-0.27861190479789455,-0.33503669895431337,-0.41529387771277704,-0.36685304909653194,0.5714267980520334,-0.36201801680510376,-0.3345195333636253,-0.26730870898909764,-0.31769302163962754,-0.40768040645330383,-0.41034380985592006,3.745203622366112,0.09986494270481565,-0.4078849003563837,-0.33390468794134875,-0.3347300763627554,-0.2605620991964508,-0.33524844628177713,-0.4019733309884545,-0.24893690101060936,-0.08904475394421787,-0.39772107685197267,-0.33452705526952786,-0.32759280185324957,-0.4069131958546924,-0.33296623724391927,-0.35663707207867634,-0.43101776072328196,-0.3077886740328925,3.7285016382086567,-0.09360650473722931,-0.3301616792563338,-0.35272699763313375,-0.28670599200624686,3.738363632566088,3.739607122637234,-0.24146328900172992,-0.3370537112383994,-0.35657297390127773,-0.3750483301784923,2.482986886018958,-0.3334110203253238,-0.2866769836541044],\"y\":[0.9805724345554903,0.9807077690607673,1.5439544524249678,1.1026254561954394,1.8206117613926789,0.7722383507379701,0.6267632859807858,1.6968435181983024,0.9805710937945761,0.980807983994208,0.9806180535133328,0.9805722099129085,0.9805723388945018,0.5449537934148165,0.8549059271086893,1.5833041496176898,0.35638226293681174,0.9805478219958487,0.9577713070696695,1.102628651458506,1.3832250644166413,0.8429824170047958,0.7716833926822233,0.8350870502699986,1.68419259697256,1.6841737171270403,0.4281006011324841,0.9804530179612977,0.9805527264760048,0.9914396135513034,0.9571678826525934,1.1026326872576462,0.08083550967916053,1.5486421973750493,1.102628409458833,0.9802104323818122,0.9805429703229085,0.48780958876410835,1.1026326192071012,0.08089091331234627,1.684180366444531,0.9801464314715399,1.0369413650727015,1.572349261973191,0.7722302555598886,0.8549265270930558,0.8350989099525465,1.6841630780854335,0.834913142186481,0.9805729786836864,1.684165920861562,0.9571404653512459,0.9805671191391642,1.1026332484270172,0.86601042600376,1.8591893285738443,1.0134765610327627,0.8350778161535952,1.684152597400906,0.7717835514978961,1.6969947215704564,0.9181351783575352,0.7722392333033297,1.0939420833871272,0.772245304188382,1.3969474116669942,0.9805555741356495,0.83499754152163,1.1024518940194394,0.8011885485720468,0.7722308400042496,0.5491238557635918,1.5832998408502166,1.102646501660117,0.7721417950016938,0.7720021759451141,1.3932023590079887,1.10257488785172,1.4447872083587587,0.9799121199554635,0.9805527942128905,0.9805614179573979,1.5385901778830133,0.9570767064184968,1.1026144136480902,0.9805451582310893,0.7722385745473201,1.102631488498041,0.9805632935737609,0.9805731536702409,0.8351517023745699,0.38131094832329543,1.8020563820144069,1.5832939044168044,0.9805848614039192,1.1020095088537913,1.5833379385250388,1.538684221482862,1.8471782702276047,1.5831639098649997,1.8012080149433611,2.079815278960615,1.1026250610426245,1.7179349249120424,1.1026322627964964,1.583296535869398,0.9805602371726098,0.9805531463826112,1.5832998408502166,1.1026060854847706,0.772243437459881,0.9805640704850643,0.4862358846330786,0.9805630779938739,0.9802636025465373,1.1026305849851306,0.9805062960004834,0.8319880417498006,0.980567470769636,0.9805720692728209,1.4615711294133966,0.5854831443361399,0.9803408871622825,0.7722392902323791,1.1026302871214473,0.9805671995825348,0.9805620018824377,0.8350634687185854,0.5644025556310702,1.538682896766406,0.9804622685328772,0.8350856421237282,1.102589480431985,1.833573913392209,1.10262080272179,1.583290207493988,1.1025925789259539,1.5832585046682792,1.1024373569847525,0.9805642246905955,0.9805591075707385,0.9800917573522804,0.5907374303844147,1.102619818171658,0.8342365133370309,1.5832918406113092,0.9805298616114068,1.6687968790949834,0.6266724712899712,1.444777995543541,1.8741559198960338,1.3932114395545807,1.3931803307653035,1.8293723193069904,1.6841615568465897,0.9598822312592513,1.6841671358471018,1.6201907435418081,1.829387342688499,1.1026327749935567,0.8350873813345312,1.5832739058402499,0.9805564752375123,0.9805719718628079,1.8212921723361297,1.6539238042167663,1.1026223961604125,0.42797657851151905,0.9805652918558735,0.6787208228545898,0.9865146288866091,0.7722344885939632,1.392845465635847,1.6946046194279154,0.9805631333283242,1.6069732574076503,1.4929396143879115,0.980571388970561,0.6257733558848191,1.1025776031806318,2.079701639538488,1.3893162915848372,1.684135153004565,0.9805125922036061,1.2477226830979504,1.4615711116419632,0.9583499828561731,0.9805034262199217,1.1026253900987573,1.4615268598397742,0.9803587483407883,0.9805714395142487,0.9571406211377365,1.4447845697922637,-0.09907736642065224,0.192436666730866,0.9805479311426472,1.538385177878803,4.347397541544823,0.7198422282429636,1.102621469344277,1.7025415899111147,0.835038684514474,1.5310731190250895,1.3931957698453603,0.9805713054474562,0.980570468467541,0.8349474877990476,1.494332136828972,1.5832678378406329,0.9805616713513721,1.945444988871319,1.6070136737258431,1.5832676807245207,0.6451778799503661,0.9786299963263662,1.6134079822561012,0.8350906788097732,0.979448741082222,0.835070503218372,1.8043804503805596,0.9805400489056515,1.55148669837628,0.38230428779763864,1.4612628896984128,0.6267380681309562,1.8019777409002176,0.7906554818167051,1.461566970754437,1.6070577626649778,0.8269722590796424,0.8241867657140419,1.4615508431374358,0.9800935751748439,0.9571297811982581,1.102620050923982,0.8350037561835052,1.583204520569285,0.8961308366867242,0.9571026690968266,0.9723098298485763,2.4250999184066986,5.646826841982472,1.5570651573764862,2.053274125469835,0.9635287444864539,1.6070451687803464,-0.004384467101327622,0.9805678144327095,1.6070556623308274,1.4615687315047126,0.9560308990600582,0.9571398777985123,0.9805396586320955,1.7024036006420735,1.802344180549891,1.1024364412560521,1.1026270750914766,2.0797251106159274,0.9694209033633481,1.1027226086809976,0.9804775732581281,0.9805539724730441,0.6267563802149405,0.9805760048125288,1.1025540107981,0.9758869318652392,0.7788072818549061,1.102335038045411,0.9805874634135126,0.9805299682517254,1.1026073129477423,0.9805339088209546,1.5832991329302877,0.4234375270455344,0.7722256435272096,2.0798028659563017,0.8339830144590115,0.9805215933811904,0.42807270282787624,1.6841680931977112,2.0802135889554254,2.080251339859673,0.6266546841064875,5.711246741313082,1.5833013335629997,1.802535033820266,0.9044001037566252,0.9804577538080776,0.8350883994641358],\"z\":[-0.43893083785244164,-0.43943174472191543,-0.5162069406331834,-0.4179803204971653,-0.03339193822865811,-0.23726894853253538,-0.0792842301132212,-0.47859325771357264,-0.4389400039799304,-0.43920906848305014,-0.4389847228727726,-0.4389308930137126,-0.43893136590227383,-0.5010810790856979,-0.26330955232282244,-0.24378783201414406,-0.22933020431441817,-0.43897869407105883,-0.2607210133345585,-0.4179840947372937,-0.40160053886364516,-0.29026601598051516,-0.23815020918744634,-0.28095039270726074,-0.4804575212840099,-0.480435220437693,-0.25367984436751906,-0.43905903309588146,-0.4389703836656063,-0.4517671339933607,-0.2600082492827771,-0.41797475888814767,-0.0770250766976028,-0.3648210103292728,-0.4179761160310771,-0.4395289555866287,-0.4389601418543884,-0.1873982501650417,-0.41797820375845596,-0.07702641225134049,-0.48044307460192864,-0.43906871497605293,-0.8082634739067034,-0.24641483355378857,-0.2372888758033016,-0.2633310771020262,-0.2809540288122762,-0.48043034647363164,-0.28105513588439973,-0.43893148054895637,-0.48043242221393867,-0.2599886854335263,-0.4389373806909985,-0.41797542109952845,-0.15833474932982797,-0.4983714656062751,-0.27376703677587105,-0.280993219985289,-0.48044232741658816,-0.2373587081346156,-0.4785643428312098,-0.31070438624598107,-0.23726999101746574,-0.4247298746016486,-0.2372697896172779,-0.47169338257597404,-0.4389378473198321,-0.28097600308347376,-0.41800737694433393,-0.3043652253761372,-0.23727161614951744,-0.48174058585236795,-0.24379556393180107,-0.4180391561528144,-0.2372835760886208,-0.23731243811139927,-0.46732742819674694,-0.41799559459382496,-0.30401955200193137,-0.4394330179302941,-0.4389360595120799,-0.4389819321736603,-0.3224566765648267,-0.2603217359426895,-0.41798522705477165,-0.4389563154945847,-0.2372685718244375,-0.417975265488096,-0.4389335030100371,-0.43893168724282305,-0.28101638714508526,-0.339512758744778,-0.5604015795347957,-0.2438231696796976,-0.43894551640097085,-0.4182002678835829,-0.24385338621259292,-0.32244114921150424,-0.6619414805984437,-0.24381514350556469,-0.5513899437597489,-0.6928438519373987,-0.4179849823142632,-0.5208588210884004,-0.417976727131689,-0.24381089223460323,-0.43894113718539607,-0.4389349796614414,-0.24379556393180107,-0.4179818005540544,-0.2372736748183664,-0.43894211355310153,-0.18585636155100235,-0.4389377358670414,-0.4389831652982557,-0.41797548040270655,-0.43894502933828605,-0.2981238583994084,-0.4389333085367495,-0.4389325320115812,-0.28112413936464603,-0.10299204103728195,-0.43897787006803746,-0.23726941719059774,-0.41797791979133964,-0.43893747571059244,-0.4389325755991815,-0.28094742460366345,-0.2560129241982758,-0.3224472931669697,-0.43944178125771377,-0.28096042666647575,-0.41798782954480845,-0.6931609860062589,-0.41803123810217757,-0.24384206737938224,-0.41799148948141934,-0.24399034481742005,-0.4180645700999153,-0.4389347388286027,-0.4389334306517831,-0.4390041339851814,-0.08480288146190636,-0.4179852001564271,-0.28121750993160344,-0.24379252477492883,-0.43894786322015145,-0.5029366571835346,-0.07929721479314995,-0.3040513010846021,-0.5706850171538989,-0.46728686841494776,-0.4673206406096135,-0.48753612018424136,-0.48044008887333023,-0.4465451684779129,-0.4804395617265193,-0.220167537148713,-0.48755386578082727,-0.4179809567199405,-0.28095156964397044,-0.24379159808235032,-0.43894291967831667,-0.4389329837933794,-0.03194600279399945,-0.24851409754252266,-0.41797991134509704,-0.25378736073901365,-0.43893248706851096,-0.2127095956856057,-0.4619765336887934,-0.23731439014118838,-0.4676174554909978,-0.5219393044160415,-0.43893331372835814,-0.43913521301177677,-0.20839492167817367,-0.4389390831225916,-0.08387655513234878,-0.4180020072933196,-0.6929500229830126,-0.48191165591311547,-0.48052429354146486,-0.43899477711537654,-0.3093034248562106,-0.28112732372995136,-0.44473527887250586,-0.43894548598589916,-0.4179981924224802,-0.28113916070291495,-0.43925539621808074,-0.43893222676975346,-0.25998951051968355,-0.3040109862242675,0.023618522926023885,-0.23439496245678104,-0.4390506229895863,-0.32259917368290514,7.291965963118162,-0.4042560151300709,-0.4179775344484557,-0.4331867797804518,-0.2809623834626611,-0.31891140112970884,-0.4672940022321726,-0.4389314273388711,-0.4389317208421603,-0.281095704872464,-0.3147406020903427,-0.2438013548768008,-0.43893735648570337,-0.6024959216495198,-0.4391829527085764,-0.24379604072044045,-0.08421763333550732,-0.4399199689222506,-0.28898065542772755,-0.2809609740541582,-0.4441424607836004,-0.28094868195949996,-0.5503894452906317,-0.4389464339384661,-0.32058762166073196,-0.30414616488230195,-0.2811671273834262,-0.07931070466316023,-0.461838323133302,-0.2422233284339672,-0.2811230735909507,-0.43911011838274894,-0.28217612539667974,-0.37069571968867215,-0.2811546683119604,-0.43900628119457313,-0.25999850282569203,-0.4179918857969306,-0.2810083118760497,-0.2438047753154178,-0.3340794100724257,-0.25999532626262606,-0.44071034588198194,0.36480166352170273,6.576858184577793,-0.2752001252087021,-0.3165101602172363,-0.2675216901135242,-0.43912655820018204,0.07127378201901846,-0.4389388430421126,-0.4391165387465378,-0.28112026201201523,-0.4578945506423577,-0.2599877990956695,-0.43894597294790366,-0.433305858461641,-0.5511254560601019,-0.4180122027321479,-0.4179873613058653,-0.6932982826755255,-0.44819616352990804,-0.4180809733027413,-0.4389470020736548,-0.4389438124853829,-0.07928152213928093,-0.43893505500798374,-0.41820236141611805,-0.44012757828365606,-0.24513586049230449,-0.4182642468058975,-0.4389582059616418,-0.43913710524044725,-0.4180781289956894,-0.4389879027040997,-0.2437876759526304,-0.3475669730032932,-0.23730714771798314,-0.6928515749014449,-0.2860523127296324,-0.43906310571750623,-0.2536830461669314,-0.4804286543890397,-0.6932342012067987,-0.6932787925204918,-0.07978900772291307,1.875207045010617,-0.24379004079444225,-0.16474379965286057,-0.3112582555788067,-0.43895564493678574,-0.2809422549098922],\"type\":\"scatter3d\"},{\"customdata\":[[\"SHA-256\"],[\"Ethash\"],[\"Scrypt\"],[\"CryptoNight-V7\"],[\"Ethash\"],[\"Equihash\"],[\"Multiple\"],[\"Scrypt\"],[\"X11\"],[\"Scrypt\"],[\"Multiple\"],[\"Scrypt\"],[\"SHA-256\"],[\"Scrypt\"],[\"Scrypt\"],[\"Quark\"],[\"Groestl\"],[\"Scrypt\"],[\"Scrypt\"],[\"Scrypt\"],[\"X11\"],[\"Multiple\"],[\"SHA-256\"],[\"Scrypt\"],[\"Scrypt\"],[\"Scrypt\"],[\"Scrypt\"],[\"Scrypt\"],[\"NeoScrypt\"],[\"Scrypt\"],[\"Scrypt\"],[\"Scrypt\"],[\"Scrypt\"],[\"SHA-256\"],[\"Scrypt\"],[\"Scrypt\"],[\"Scrypt\"],[\"Scrypt\"],[\"HybridScryptHash256\"],[\"Scrypt\"],[\"Scrypt\"],[\"SHA-256\"],[\"Scrypt\"],[\"Scrypt\"],[\"Scrypt\"],[\"Scrypt\"],[\"SHA-256\"],[\"SHA-256\"],[\"SHA-256\"],[\"SHA-256\"],[\"SHA-256\"],[\"X11\"],[\"Scrypt\"],[\"Lyra2REv2\"],[\"Scrypt\"],[\"SHA-256\"],[\"CryptoNight\"],[\"CryptoNight\"],[\"Scrypt\"],[\"Scrypt\"],[\"Scrypt\"],[\"Scrypt\"],[\"Scrypt\"],[\"Scrypt\"],[\"Stanford Folding\"],[\"Multiple\"],[\"QuBit\"],[\"Scrypt\"],[\"Scrypt\"],[\"M7 POW\"],[\"Scrypt\"],[\"SHA-256\"],[\"Scrypt\"],[\"X11\"],[\"Lyra2RE\"],[\"SHA-256\"],[\"X11\"],[\"Scrypt\"],[\"Scrypt\"],[\"Ethash\"],[\"Blake2b\"],[\"X11\"],[\"SHA-256\"],[\"Scrypt\"],[\"1GB AES Pattern Search\"],[\"Scrypt\"],[\"SHA-256\"],[\"X11\"],[\"Dagger\"],[\"Scrypt\"],[\"X11GOST\"],[\"Scrypt\"],[\"X11\"],[\"Scrypt\"],[\"X11\"],[\"Equihash\"],[\"CryptoNight\"],[\"SHA-256\"],[\"Multiple\"],[\"Scrypt\"],[\"SHA-256\"],[\"Scrypt\"],[\"Lyra2Z\"],[\"Ethash\"],[\"Equihash\"],[\"Scrypt\"],[\"X11\"],[\"X11\"],[\"CryptoNight\"],[\"Scrypt\"],[\"CryptoNight\"],[\"Lyra2RE\"],[\"X11\"],[\"CryptoNight-V7\"],[\"Scrypt\"],[\"X11\"],[\"Equihash\"],[\"Scrypt\"],[\"Lyra2RE\"],[\"Dagger-Hashimoto\"],[\"Scrypt\"],[\"NIST5\"],[\"Scrypt\"],[\"SHA-256\"],[\"Scrypt\"],[\"CryptoNight-V7\"],[\"Argon2d\"],[\"Blake2b\"],[\"Cloverhash\"],[\"CryptoNight\"],[\"X11\"],[\"Scrypt\"],[\"Scrypt\"],[\"X11\"],[\"X11\"],[\"CryptoNight\"],[\"Time Travel\"],[\"Scrypt\"],[\"Keccak\"],[\"X11\"],[\"SHA-256\"],[\"Scrypt\"],[\"Scrypt\"],[\"Scrypt\"],[\"Scrypt\"],[\"Scrypt\"],[\"Scrypt\"],[\"CryptoNight\"],[\"Equihash\"],[\"X11\"],[\"NeoScrypt\"],[\"Equihash\"],[\"Dagger\"],[\"Scrypt\"],[\"X11\"],[\"NeoScrypt\"],[\"Ethash\"],[\"NeoScrypt\"],[\"Multiple\"],[\"CryptoNight\"],[\"CryptoNight\"],[\"Ethash\"],[\"X11\"],[\"CryptoNight-V7\"],[\"Scrypt\"],[\"BLAKE256\"],[\"X11\"],[\"NeoScrypt\"],[\"NeoScrypt\"],[\"Scrypt\"],[\"X11\"],[\"SHA-256\"],[\"C11\"],[\"CryptoNight\"],[\"SkunkHash\"],[\"CryptoNight\"],[\"Scrypt\"],[\"Dagger\"],[\"Lyra2REv2\"],[\"Scrypt\"],[\"Scrypt\"],[\"X11\"],[\"Ethash\"],[\"CryptoNight\"],[\"Scrypt\"],[\"IMesh\"],[\"Equihash\"],[\"Lyra2Z\"],[\"X11\"],[\"CryptoNight\"],[\"NIST5\"],[\"Lyra2RE\"],[\"Tribus\"],[\"Lyra2Z\"],[\"CryptoNight\"],[\"CryptoNight Heavy\"],[\"CryptoNight\"],[\"Jump Consistent Hash\"],[\"CryptoNight\"],[\"X16R\"],[\"HMQ1725\"],[\"X11\"],[\"Scrypt\"],[\"CryptoNight-V7\"],[\"Cryptonight-GPU\"],[\"XEVAN\"],[\"CryptoNight Heavy\"],[\"SHA-256\"],[\"X11\"],[\"X16R\"],[\"Equihash\"],[\"Lyra2Z\"],[\"SHA-256\"],[\"CryptoNight\"],[\"Blake\"],[\"Blake\"],[\"Exosis\"],[\"Scrypt\"],[\"Equihash\"],[\"Equihash\"],[\"QuBit\"],[\"SHA-256\"],[\"X13\"],[\"SHA-256\"],[\"Scrypt\"],[\"NeoScrypt\"],[\"Blake\"],[\"Scrypt\"],[\"SHA-256\"],[\"Scrypt\"],[\"Groestl\"],[\"Scrypt\"],[\"Scrypt\"],[\"Multiple\"],[\"Equihash+Scrypt\"],[\"Ethash\"],[\"CryptoNight\"],[\"Equihash\"]],\"hovertemplate\":\"<b>%{hovertext}</b><br><br>Class=%{marker.color}<br>PC 1=%{x}<br>PC 2=%{y}<br>PC 3=%{z}<br>Algorithm=%{customdata[0]}<extra></extra>\",\"hovertext\":[\"Bitcoin\",\"Ethereum\",\"Litecoin\",\"Monero\",\"Ethereum Classic\",\"ZCash\",\"DigiByte\",\"ProsperCoin\",\"Spreadcoin\",\"Argentum\",\"MyriadCoin\",\"MoonCoin\",\"ZetaCoin\",\"SexCoin\",\"Quatloo\",\"QuarkCoin\",\"Riecoin\",\"Digitalcoin \",\"Catcoin\",\"CannaCoin\",\"CryptCoin\",\"Verge\",\"DevCoin\",\"EarthCoin\",\"E-Gulden\",\"Einsteinium\",\"Emerald\",\"Franko\",\"FeatherCoin\",\"GrandCoin\",\"GlobalCoin\",\"GoldCoin\",\"Infinite Coin\",\"IXcoin\",\"KrugerCoin\",\"LuckyCoin\",\"Litebar \",\"MegaCoin\",\"MediterraneanCoin\",\"MinCoin\",\"NobleCoin\",\"Namecoin\",\"NyanCoin\",\"RonPaulCoin\",\"StableCoin\",\"SmartCoin\",\"SysCoin\",\"TigerCoin\",\"TerraCoin\",\"UnbreakableCoin\",\"Unobtanium\",\"UroCoin\",\"ViaCoin\",\"Vertcoin\",\"WorldCoin\",\"JouleCoin\",\"ByteCoin\",\"DigitalNote \",\"MonaCoin\",\"Gulden\",\"PesetaCoin\",\"Wild Beast Coin\",\"Flo\",\"ArtByte\",\"Folding Coin\",\"Unitus\",\"CypherPunkCoin\",\"OmniCron\",\"GreenCoin\",\"Cryptonite\",\"MasterCoin\",\"SoonCoin\",\"1Credit\",\"MarsCoin \",\"Crypto\",\"Anarchists Prime\",\"BowsCoin\",\"Song Coin\",\"BitZeny\",\"Expanse\",\"Siacoin\",\"MindCoin\",\"I0coin\",\"Revolution VR\",\"HOdlcoin\",\"Gamecredits\",\"CarpeDiemCoin\",\"Adzcoin\",\"SoilCoin\",\"YoCoin\",\"SibCoin\",\"Francs\",\"BolivarCoin\",\"Omni\",\"PizzaCoin\",\"Komodo\",\"Karbo\",\"ZayedCoin\",\"Circuits of Value\",\"DopeCoin\",\"DollarCoin\",\"Shilling\",\"ZCoin\",\"Elementrem\",\"ZClassic\",\"KiloCoin\",\"ArtexCoin\",\"Kurrent\",\"Cannabis Industry Coin\",\"OsmiumCoin\",\"Bikercoins\",\"HexxCoin\",\"PacCoin\",\"Citadel\",\"BeaverCoin\",\"VaultCoin\",\"Zero\",\"Canada eCoin\",\"Zoin\",\"DubaiCoin\",\"EB3coin\",\"Coinonat\",\"BenjiRolls\",\"ILCoin\",\"EquiTrader\",\"Quantum Resistant Ledger\",\"Dynamic\",\"Nano\",\"ChanCoin\",\"Dinastycoin\",\"DigitalPrice\",\"Unify\",\"SocialCoin\",\"ArcticCoin\",\"DAS\",\"LeviarCoin\",\"Bitcore\",\"gCn Coin\",\"SmartCash\",\"Onix\",\"Bitcoin Cash\",\"Sojourn Coin\",\"NewYorkCoin\",\"FrazCoin\",\"Kronecoin\",\"AdCoin\",\"Linx\",\"Sumokoin\",\"BitcoinZ\",\"Elements\",\"VIVO Coin\",\"Bitcoin Gold\",\"Pirl\",\"eBoost\",\"Pura\",\"Innova\",\"Ellaism\",\"GoByte\",\"SHIELD\",\"UltraNote\",\"BitCoal\",\"DaxxCoin\",\"AC3\",\"Lethean\",\"PopularCoin\",\"Photon\",\"Sucre\",\"SparksPay\",\"GunCoin\",\"IrishCoin\",\"Pioneer Coin\",\"UnitedBitcoin\",\"Interzone\",\"TurtleCoin\",\"MUNcoin\",\"Niobio Cash\",\"ShareChain\",\"Travelflex\",\"KREDS\",\"BitFlip\",\"LottoCoin\",\"Crypto Improvement Fund\",\"Callisto Network\",\"BitTube\",\"Poseidon\",\"Aidos Kuneen\",\"Bitrolium\",\"Alpenschillling\",\"FuturoCoin\",\"Monero Classic\",\"Jumpcoin\",\"Infinex\",\"KEYCO\",\"GINcoin\",\"PlatinCoin\",\"Loki\",\"Newton Coin\",\"MassGrid\",\"PluraCoin\",\"Motion\",\"PlusOneCoin\",\"Axe\",\"HexCoin\",\"Webchain\",\"Ryo\",\"Urals Coin\",\"Qwertycoin\",\"Project Pai\",\"Azart\",\"Xchange\",\"CrypticCoin\",\"Actinium\",\"Bitcoin SV\",\"FREDEnergy\",\"Universal Molecule\",\"Lithium\",\"Exosis\",\"Block-Logic\",\"Beam\",\"Bithereum\",\"SLICE\",\"BLAST\",\"Bitcoin Rhodium\",\"GlobalToken\",\"SolarCoin\",\"UFO Coin\",\"BlakeCoin\",\"Crypto Escudo\",\"Crown Coin\",\"SmileyCoin\",\"Groestlcoin\",\"Bata\",\"Pakcoin\",\"JoinCoin\",\"Vollar\",\"Reality Clash\",\"Beldex\",\"Horizen\"],\"legendgroup\":\"3\",\"marker\":{\"color\":[3,3,3,3,3,3,3,3,3,3,3,3,3,3,3,3,3,3,3,3,3,3,3,3,3,3,3,3,3,3,3,3,3,3,3,3,3,3,3,3,3,3,3,3,3,3,3,3,3,3,3,3,3,3,3,3,3,3,3,3,3,3,3,3,3,3,3,3,3,3,3,3,3,3,3,3,3,3,3,3,3,3,3,3,3,3,3,3,3,3,3,3,3,3,3,3,3,3,3,3,3,3,3,3,3,3,3,3,3,3,3,3,3,3,3,3,3,3,3,3,3,3,3,3,3,3,3,3,3,3,3,3,3,3,3,3,3,3,3,3,3,3,3,3,3,3,3,3,3,3,3,3,3,3,3,3,3,3,3,3,3,3,3,3,3,3,3,3,3,3,3,3,3,3,3,3,3,3,3,3,3,3,3,3,3,3,3,3,3,3,3,3,3,3,3,3,3,3,3,3,3,3,3,3,3,3,3,3,3,3,3,3,3,3,3,3,3,3,3,3,3,3,3,3,3,3,3,3,3,3,3,3,3,3,3,3,3,3],\"coloraxis\":\"coloraxis\",\"symbol\":\"diamond\"},\"mode\":\"markers\",\"name\":\"3\",\"scene\":\"scene\",\"showlegend\":true,\"x\":[-0.1345708310084509,-0.15516430157539857,-0.15949426933190716,-0.1457011591616446,-0.15360592288652755,-0.15345593293521365,0.1527720208495667,-0.16064029958795528,-0.23606248419916592,-0.16025678817075364,-0.10061532456259979,2.5620262677952748,-0.13165636292504845,-0.15751249557636707,-0.16006071413355183,-0.23622471469859174,-0.19944481773915848,-0.16010974790482393,-0.1606225742551695,-0.16070903088831898,-0.23615179402949965,0.17648509810645527,0.24320738973924405,0.08797447347230024,-0.1604554061210218,-0.1560613228940986,-0.16039466867871013,-0.16076601658368223,-0.17373043528381943,-0.13999069453924715,-0.15956138513841783,-0.15983868507470764,1.5877907829056082,-0.13453221927976128,-0.15712833095109288,-0.16048184035284022,-0.16083658412386065,-0.1600959706867051,-0.15617392486678144,-0.1607178606292998,-0.025606055653899285,-0.13460979196969142,-0.1543830580488,-0.1606972512275482,-0.1587912496861733,-0.1601840775593252,-0.12176334357151909,-0.13407367772751408,-0.13436077029796192,-0.1343435533690116,-0.1349344126735146,-0.23632570315143675,-0.160413867854052,-0.19220359549689917,-0.15751712195685827,-0.13414095081337002,3.864311095292587,0.46397356916055715,-0.15928156020475018,-0.14387926175003746,-0.15800066395801407,-0.16083878529038373,-0.15786580446952794,-0.14409151578512766,-0.11781063899597241,-0.1346163861245015,-0.17815781642679163,-0.16071192070273824,-0.033656585297324654,-0.10228657783144122,-0.16084768460441387,-0.13463755596259244,0.4914995179047686,-0.23571300543295448,-0.14875128107671742,-0.1343773638922448,-0.235997831785047,-0.15897122270392303,-0.158163638260394,-0.1562311465754937,0.36687746781596603,-0.23603323892663436,-0.13453334108454257,-0.15680635793072212,-0.1390467338661073,-0.15941127630656318,0.2838659895946171,-0.235193994063903,-0.16033237356336744,-0.15965811623926937,-0.16153783464632865,-0.16063759153825583,-0.2359964506057622,-0.1608477430875035,-0.23614634873652288,-0.28799600634901185,0.3088986115476012,-0.13479336170180037,-0.11469193272668678,-0.15801473285200474,-0.134752006517422,-0.16051114490193608,-0.1449511285193402,-0.15597337760913785,-0.153477539493,-0.08755425761037859,-0.2227335678505928,-0.23397443639462956,0.3088930387015955,-0.16082947826916966,0.30902371318812094,-0.14929177017981493,0.4793012470229607,-0.14446544584924045,-0.1607977772533839,-0.22887857362667216,-0.1534899302839353,-0.15893141845968878,-0.14901022653480112,-0.13205846241682606,-0.13171360158473994,-0.1890842563190914,-0.16036019025473472,-0.10112115969170915,-0.16018214111561094,-0.1443236902705653,-0.16503312214778473,-0.033229394903259435,-0.13374654851133774,0.34500838498516256,-0.23520229565106043,-0.1605015370981513,-0.16026472659033209,-0.23559700377271955,-0.23617440121852348,0.3092880157781508,-0.1390243214587582,3.248294529013181,-0.10991562746604437,-0.2270450225188351,-0.1345699956313385,-0.0863998051106541,1.5853234385794008,-0.16059933317726105,-0.16005089104945078,-0.15975192355262852,-0.1597388608205104,0.30947172801078604,0.0588485076495391,-0.1905736955443344,-0.17841859314994513,-0.15333603430392853,-0.15909137843984153,-0.15892962848355086,-0.23171917454301896,-0.17826398131742172,-0.15433798060825718,-0.17836421023845084,-0.12484932045585982,1.146895027470693,0.3088757701013866,-0.07921034310524892,-0.2314597770922534,-0.13343613510563768,-0.07700051457386636,1.1148483068885886,-0.23614840750354424,-0.17841618589640196,-0.17145480706035518,-0.15985045622971053,-0.2360738335895451,-0.13454940760144304,-0.20573140093936804,8.048444915766407,-0.1364779573784909,0.31275009493559536,0.03215385554817229,-0.15859514375048903,-0.177763079398937,-0.16042403430097207,0.1466040137319233,-0.2302149706314949,-0.10736519110974323,0.3168004753616617,-0.16066103421341255,-0.17459860164662128,-0.15232734604220716,-0.14273418934978882,-0.23524304836672222,0.30905823278789996,-0.18914383819892325,-0.1491369944983826,-0.1753413240147193,-0.14503552383555127,0.31298772948770043,0.5851730654862968,2.1176751283532966,-0.14767231577426967,0.32266196602348224,-0.19601472031724404,-0.13418463030227815,-0.23613056978208172,-0.16068559812434682,-0.13331196643972476,-0.1257354044332221,-0.0971077249133415,3.107517778846435,-0.09440580426736105,-0.23610192736900687,-0.19544229355914966,-0.04809170817166146,-0.1444331655459058,-0.13457003317862876,0.3888239202331674,-0.13537739558501707,-0.13576966720870542,-0.1486098255609763,-0.15957789544627637,-0.15139575403282185,-0.15316887990507191,-0.17736862449705051,-0.1338462903583096,-0.11217297454222783,-0.1327142076947016,0.5354310953848472,-0.10359619968230287,-0.08622091807641656,-0.14424202913588943,-0.13436014105317223,0.5549181249788545,-0.19900591517326613,-0.160762492883351,-0.15871822478816675,-0.13535090113205056,-0.1162337824402619,-0.15600652950969088,0.3306299628878716,-0.15345698937249472],\"y\":[-1.2959033501989936,-2.0217020177614193,-1.0875929390303145,-2.1383221516587287,-2.0218008950173454,-1.9270110810106544,-1.847680771936369,-1.0875838748254592,-0.9655211463456301,-1.0876021655618633,-1.8421467992230378,-1.2722271365165183,-1.295918451790845,-1.0876483326802708,-1.0876212737508966,-0.4611128604219859,-1.2132635662060416,-1.087586679030459,-1.0875833367050864,-1.0875804898264527,-0.9655224654227672,-1.8438665619920442,-1.2990386074965115,-1.0894193901066183,-1.0875782616760434,-1.0876389389196328,-1.0875840752150618,-1.087580894279194,-1.6401313463617457,-1.087931290608615,-1.0875852307336835,-1.0875952125400343,-1.0975585314139362,-1.2959021779920714,-1.087647404810523,-1.0875783680559754,-1.0875761547921534,-1.0875819684176655,-2.137115844984888,-1.087578572031232,-1.0939117607792694,-1.295904533008213,-1.0876138901383607,-1.08758560381063,-1.087687154159491,-1.0875910476576314,-1.296118076676245,-1.2959063649813245,-1.295911591782534,-1.2959375221290539,-1.295899943365198,-0.9655152147165721,-1.0875783928876996,-1.243962703454277,-1.0876592080507512,-1.2959070067173597,-2.2844088212609663,-2.266186648218197,-1.0876011837469117,-1.088229913021075,-1.0876049464843873,-1.087577111274241,-1.0875964068063415,-1.0877629867528138,-2.107746762987002,-1.841786766826101,-1.4826361420654206,-1.0875737772747256,-1.0906755032928934,-2.1205205985113276,-1.0875759832497056,-1.2959053758905663,-1.1318152374658133,-0.9655195863006095,-2.096944791786677,-1.2959202820620284,-0.9655198797063813,-1.0876649397044,-1.0876681006106208,-2.0217461750191323,-2.181328977746762,-0.9655174739636386,-1.2959022120487518,-1.0875990498699972,-2.1197533759126976,-1.0875904194591295,-1.2982402337751133,-0.9655393324763886,-2.208622837144057,-1.0876566329062556,-2.0765976804078035,-1.0875830964798077,-0.9655226223051141,-1.0875759829159026,-0.9655271730370524,-1.0674331172035467,-2.2639401795874807,-1.295902264734894,-1.8420172426396018,-1.0876287733950634,-1.2959016373587622,-1.087586219032115,-2.204329771683797,-2.021744822889104,-1.9270117369604776,-1.0923117735888672,-0.9654506396004704,-0.9656025512018176,-2.2639480062293007,-1.0875768887904445,-2.2639468236344396,-2.0969223638012666,-1.013402860481948,-2.138413421347364,-1.0875763758871366,-0.9659852610040994,-1.9270093286006784,-1.0875869896549941,-2.0969214739229085,-2.076817557391199,-1.0894756050447107,-0.6749530976460397,-1.087585479155041,-1.2966135695929633,-1.0876054684240126,-2.138353427219369,-2.20143801679838,-2.1937126357492733,-1.9931027841258129,-2.264229232633793,-0.9655507226217492,-1.0875784625831537,-1.087610064019729,-0.9655348602014885,-0.9655237782697731,-2.2639589875573938,-2.180386575493574,-1.1233044675691706,-1.173416827734571,-0.9659992097798945,-1.295903324837924,-1.092624791976247,-1.03456383892702,-1.0875819350007123,-1.0876098374146685,-1.0876118992300023,-1.0876115026607331,-2.263977697555259,-1.9351699287458115,-0.9653792756487336,-1.6400585684306486,-1.9270074410284332,-2.20867308819629,-1.087586935313412,-0.965619012246103,-1.6400664049799814,-2.0218718487037224,-1.6400602588647233,-1.841949697539293,-2.297663883711518,-2.2639426133581497,-2.026357468715286,-0.9657503637289108,-2.138645571369477,-1.0885107121416624,-1.182130408638739,-0.9655236156501745,-1.6400543185546652,-1.6401764266688694,-1.0875898297993538,-0.9655235792971391,-1.2959021192349682,-1.3483076343884088,-2.7251020743589907,-2.1333129696120827,-2.2640501922285248,-1.0886775752767266,-2.2086188261488098,-1.2442315768233656,-1.0875905357804512,-1.091055373634794,-0.9656777662391032,-2.0247757534668427,-2.264389459349513,-1.0875845043044385,-2.3236682934306065,-1.9270109289215869,-2.204456410498458,-0.9655519598265347,-2.2639411811857224,-0.6749359354812406,-2.096928998029255,-2.3233095419730074,-2.204324745983405,-2.2642267572436117,-2.145190567499554,-2.337109245802866,-2.180424822465459,-2.264211511348264,-1.277474464616151,-2.058506157601374,-0.9655239094767287,-1.0875860194454636,-2.139164262010168,-2.2195314815184424,-0.3656735781128596,-2.1969262615156153,-1.2961312462840773,-0.965525824456287,-1.2775113320415805,-1.9290883340628344,-2.2043576248238317,-1.2959033259778163,-2.2671315294031977,-2.205816488541988,-2.2057727825934967,-2.2147405334799086,-1.08762053858883,-1.9271168612102558,-1.9270092483815826,-1.4826817963644425,-1.2959112876867351,-0.3839808268370047,-1.295949316753822,-1.1347279339773726,-1.6405527822178425,-2.209123904944513,-1.0877675561621116,-1.2959115726793977,-1.1006523606577199,-1.2132648604184888,-1.087576446352115,-1.0876376002037402,-1.841811015013491,-2.0767226668187417,-2.021744633668451,-2.264248220220463,-1.9270111130828529],\"z\":[0.21564218808072202,0.3185018350699938,0.013953769819172134,0.33139637220618323,0.31848400375253716,0.366212225067362,0.21141799153303012,0.013983450690369997,0.034937246955170115,0.013977489612537424,0.21706162714708602,-0.014074141877654583,0.21556463746640608,0.013912782869706927,0.013976981608228876,0.013679497488997687,0.1895827294323879,0.013969347668183116,0.013982815063360892,0.0139844911554639,0.0349400871899421,0.20976221452505614,0.20589651301487177,0.00751055757303365,0.013976820446369673,0.013869766453450071,0.013976635605106558,0.01398618961424457,0.19912426713337172,0.013496568046952494,0.013953639789622925,0.013963990630902015,-0.032302103791800554,0.21564080347158673,0.013901801037771075,0.013977587173571239,0.013986928850759448,0.01396773634526532,0.17065853167351985,0.01398423882264356,0.01185533226806576,0.21564358521325952,0.013816326178840032,0.013985492965161817,0.013958638745012011,0.01397256287373797,0.2153400138002911,0.21562907360905428,0.21563846052834804,0.21564472870387139,0.21565146616466616,0.034943061951062566,0.013975693290629717,0.08220375792842975,0.013915743008118556,0.2156311214418345,0.2465020942145566,0.3368241725596694,0.013949969039014003,0.013683012657630928,0.013915137699970891,0.013987239356799443,0.013909144526398671,0.013567408560451908,0.5949821985466661,0.21791850015738073,0.3499425174780776,0.013982824709300767,0.011238026485997941,0.7423339329658211,0.013987194541813264,0.2156445808246805,0.0072643680941133024,0.0349270703043088,0.34560515681614445,0.21564118647454153,0.03493510973133542,0.013957888060716808,0.01393613272054649,0.3185431553519239,0.2479190663308324,0.03493547342837195,0.2156408436992895,0.013880212940412816,0.4275972101641135,0.013950793705330469,0.20455198494234056,0.03491769981833466,0.27635591419241984,0.013974929729408002,0.29836859244058417,0.013983172380986996,0.034935784999488705,0.013987196089971905,0.03494116031749541,0.5214283010782799,0.3405749501302836,0.21564812696010144,0.217421452200919,0.013921733039176246,0.21564680746689538,0.01398045002147906,0.4095986698233194,0.3185355968040947,0.3662129998743505,0.01317078660137449,0.03454625022732203,0.034900059407074614,0.3405771431631477,0.013986921243774975,0.3405731819982846,0.34561442970803147,0.02740074217892159,0.33138558162568305,0.01398590145436258,0.03485720856911369,0.36621271940874345,0.013936485283559374,0.3456063267991836,0.26429854630872096,0.01366713668057366,-0.014373920973760309,0.013976037109302843,0.21489188225591616,0.013976262377514143,0.33136600235850716,0.30195490348111687,0.2623284800294312,0.4693766437363616,0.33964064712712033,0.034920896699548974,0.013978162451759252,0.01397976747441289,0.034927802886771796,0.03494106095869201,0.340568958936547,0.2897237243301798,-0.07202425001008653,0.11752108273899262,0.03480957770504605,0.21564215812425547,0.013219987779751245,-0.04863027680029603,0.01398180044355386,0.013973730166427972,0.013965908437659408,0.013965440010609537,0.34056869289150704,0.36240040778635707,0.033628562437246164,0.1992363930022629,0.36620792552561127,0.2763342990315368,0.013936421095360814,0.03484129246058182,0.1992341102382123,0.31852293914806873,0.1992353125979349,0.2176878465706229,0.3259246843085884,0.3405762222182412,0.3175901332338198,0.03486823036690063,0.3311376561083189,0.011886335195423196,0.12246783557032623,0.0349402919084146,0.19923521948315234,0.19907238022096416,0.013962918627640401,0.034938197539847934,0.21564126872131165,0.04866177505301932,0.24423374697676464,0.2866561964178672,0.340495907633668,0.008878076792757964,0.27630630141406126,0.08187002224308705,0.013979138244598597,0.006297254624301935,0.034814531885535634,0.3179655632896321,0.3404709780721423,0.01398419423003269,0.1578295228338723,0.3661806329223905,0.4095696529223991,0.03492235808405854,0.3405707482170963,-0.01437672242085704,0.3456118294058723,0.42234639776123273,0.40959972115129345,0.34053522279880044,0.27463456609125575,0.3090514226072176,0.19740418561410644,0.34026078614953,0.21071204884478584,0.4898112852915032,0.034939869690262255,0.013985275359952575,0.33126919682580047,0.40931526964895026,0.01971433427181317,0.21758241666140266,0.21457859121032902,0.034939567375839184,0.2107056415560845,0.36380719339483764,0.40959143884383936,0.2156421594706939,0.33917112190193327,0.4146781944510209,0.414677785010357,0.3777640382445879,0.013963291808268571,0.36618216142715815,0.36620372273689,0.34993233713235194,0.21562399776048297,-0.02751090098064006,0.2156022462162678,0.006794305601783685,0.1972731810253267,0.4141647997079382,0.01357280594012899,0.21563843796375162,-0.0026201791469313306,0.18957079565529925,0.013984933330430585,0.013943698537692135,0.21794534708151636,0.47495543869199375,0.31853647439792704,0.3400475753558313,0.36621226295099985],\"type\":\"scatter3d\"},{\"customdata\":[[\"VeChainThor Authority\"],[\"Proof-of-BibleHash\"],[\"Proof-of-Authority\"]],\"hovertemplate\":\"<b>%{hovertext}</b><br><br>Class=%{marker.color}<br>PC 1=%{x}<br>PC 2=%{y}<br>PC 3=%{z}<br>Algorithm=%{customdata[0]}<extra></extra>\",\"hovertext\":[\"Vechain\",\"BiblePay\",\"Poa Network\"],\"legendgroup\":\"2\",\"marker\":{\"color\":[2,2,2],\"coloraxis\":\"coloraxis\",\"symbol\":\"square\"},\"mode\":\"markers\",\"name\":\"2\",\"scene\":\"scene\",\"showlegend\":true,\"x\":[4.307429822072096,-0.1908895775794427,-0.41367411213940325],\"y\":[-0.14839829651354952,3.4891149796695804,3.3363013896947686],\"z\":[15.002949591072436,21.466263223544942,14.938700045804884],\"type\":\"scatter3d\"},{\"customdata\":[[\"TRC10\"]],\"hovertemplate\":\"<b>%{hovertext}</b><br><br>Class=%{marker.color}<br>PC 1=%{x}<br>PC 2=%{y}<br>PC 3=%{z}<br>Algorithm=%{customdata[0]}<extra></extra>\",\"hovertext\":[\"BitTorrent\"],\"legendgroup\":\"1\",\"marker\":{\"color\":[1],\"coloraxis\":\"coloraxis\",\"symbol\":\"x\"},\"mode\":\"markers\",\"name\":\"1\",\"scene\":\"scene\",\"showlegend\":true,\"x\":[34.05179917011518],\"y\":[1.8112640044522021],\"z\":[-1.6913905592148264],\"type\":\"scatter3d\"}],                        {\"template\":{\"data\":{\"histogram2dcontour\":[{\"type\":\"histogram2dcontour\",\"colorbar\":{\"outlinewidth\":0,\"ticks\":\"\"},\"colorscale\":[[0.0,\"#0d0887\"],[0.1111111111111111,\"#46039f\"],[0.2222222222222222,\"#7201a8\"],[0.3333333333333333,\"#9c179e\"],[0.4444444444444444,\"#bd3786\"],[0.5555555555555556,\"#d8576b\"],[0.6666666666666666,\"#ed7953\"],[0.7777777777777778,\"#fb9f3a\"],[0.8888888888888888,\"#fdca26\"],[1.0,\"#f0f921\"]]}],\"choropleth\":[{\"type\":\"choropleth\",\"colorbar\":{\"outlinewidth\":0,\"ticks\":\"\"}}],\"histogram2d\":[{\"type\":\"histogram2d\",\"colorbar\":{\"outlinewidth\":0,\"ticks\":\"\"},\"colorscale\":[[0.0,\"#0d0887\"],[0.1111111111111111,\"#46039f\"],[0.2222222222222222,\"#7201a8\"],[0.3333333333333333,\"#9c179e\"],[0.4444444444444444,\"#bd3786\"],[0.5555555555555556,\"#d8576b\"],[0.6666666666666666,\"#ed7953\"],[0.7777777777777778,\"#fb9f3a\"],[0.8888888888888888,\"#fdca26\"],[1.0,\"#f0f921\"]]}],\"heatmap\":[{\"type\":\"heatmap\",\"colorbar\":{\"outlinewidth\":0,\"ticks\":\"\"},\"colorscale\":[[0.0,\"#0d0887\"],[0.1111111111111111,\"#46039f\"],[0.2222222222222222,\"#7201a8\"],[0.3333333333333333,\"#9c179e\"],[0.4444444444444444,\"#bd3786\"],[0.5555555555555556,\"#d8576b\"],[0.6666666666666666,\"#ed7953\"],[0.7777777777777778,\"#fb9f3a\"],[0.8888888888888888,\"#fdca26\"],[1.0,\"#f0f921\"]]}],\"heatmapgl\":[{\"type\":\"heatmapgl\",\"colorbar\":{\"outlinewidth\":0,\"ticks\":\"\"},\"colorscale\":[[0.0,\"#0d0887\"],[0.1111111111111111,\"#46039f\"],[0.2222222222222222,\"#7201a8\"],[0.3333333333333333,\"#9c179e\"],[0.4444444444444444,\"#bd3786\"],[0.5555555555555556,\"#d8576b\"],[0.6666666666666666,\"#ed7953\"],[0.7777777777777778,\"#fb9f3a\"],[0.8888888888888888,\"#fdca26\"],[1.0,\"#f0f921\"]]}],\"contourcarpet\":[{\"type\":\"contourcarpet\",\"colorbar\":{\"outlinewidth\":0,\"ticks\":\"\"}}],\"contour\":[{\"type\":\"contour\",\"colorbar\":{\"outlinewidth\":0,\"ticks\":\"\"},\"colorscale\":[[0.0,\"#0d0887\"],[0.1111111111111111,\"#46039f\"],[0.2222222222222222,\"#7201a8\"],[0.3333333333333333,\"#9c179e\"],[0.4444444444444444,\"#bd3786\"],[0.5555555555555556,\"#d8576b\"],[0.6666666666666666,\"#ed7953\"],[0.7777777777777778,\"#fb9f3a\"],[0.8888888888888888,\"#fdca26\"],[1.0,\"#f0f921\"]]}],\"surface\":[{\"type\":\"surface\",\"colorbar\":{\"outlinewidth\":0,\"ticks\":\"\"},\"colorscale\":[[0.0,\"#0d0887\"],[0.1111111111111111,\"#46039f\"],[0.2222222222222222,\"#7201a8\"],[0.3333333333333333,\"#9c179e\"],[0.4444444444444444,\"#bd3786\"],[0.5555555555555556,\"#d8576b\"],[0.6666666666666666,\"#ed7953\"],[0.7777777777777778,\"#fb9f3a\"],[0.8888888888888888,\"#fdca26\"],[1.0,\"#f0f921\"]]}],\"mesh3d\":[{\"type\":\"mesh3d\",\"colorbar\":{\"outlinewidth\":0,\"ticks\":\"\"}}],\"scatter\":[{\"fillpattern\":{\"fillmode\":\"overlay\",\"size\":10,\"solidity\":0.2},\"type\":\"scatter\"}],\"parcoords\":[{\"type\":\"parcoords\",\"line\":{\"colorbar\":{\"outlinewidth\":0,\"ticks\":\"\"}}}],\"scatterpolargl\":[{\"type\":\"scatterpolargl\",\"marker\":{\"colorbar\":{\"outlinewidth\":0,\"ticks\":\"\"}}}],\"bar\":[{\"error_x\":{\"color\":\"#2a3f5f\"},\"error_y\":{\"color\":\"#2a3f5f\"},\"marker\":{\"line\":{\"color\":\"#E5ECF6\",\"width\":0.5},\"pattern\":{\"fillmode\":\"overlay\",\"size\":10,\"solidity\":0.2}},\"type\":\"bar\"}],\"scattergeo\":[{\"type\":\"scattergeo\",\"marker\":{\"colorbar\":{\"outlinewidth\":0,\"ticks\":\"\"}}}],\"scatterpolar\":[{\"type\":\"scatterpolar\",\"marker\":{\"colorbar\":{\"outlinewidth\":0,\"ticks\":\"\"}}}],\"histogram\":[{\"marker\":{\"pattern\":{\"fillmode\":\"overlay\",\"size\":10,\"solidity\":0.2}},\"type\":\"histogram\"}],\"scattergl\":[{\"type\":\"scattergl\",\"marker\":{\"colorbar\":{\"outlinewidth\":0,\"ticks\":\"\"}}}],\"scatter3d\":[{\"type\":\"scatter3d\",\"line\":{\"colorbar\":{\"outlinewidth\":0,\"ticks\":\"\"}},\"marker\":{\"colorbar\":{\"outlinewidth\":0,\"ticks\":\"\"}}}],\"scattermapbox\":[{\"type\":\"scattermapbox\",\"marker\":{\"colorbar\":{\"outlinewidth\":0,\"ticks\":\"\"}}}],\"scatterternary\":[{\"type\":\"scatterternary\",\"marker\":{\"colorbar\":{\"outlinewidth\":0,\"ticks\":\"\"}}}],\"scattercarpet\":[{\"type\":\"scattercarpet\",\"marker\":{\"colorbar\":{\"outlinewidth\":0,\"ticks\":\"\"}}}],\"carpet\":[{\"aaxis\":{\"endlinecolor\":\"#2a3f5f\",\"gridcolor\":\"white\",\"linecolor\":\"white\",\"minorgridcolor\":\"white\",\"startlinecolor\":\"#2a3f5f\"},\"baxis\":{\"endlinecolor\":\"#2a3f5f\",\"gridcolor\":\"white\",\"linecolor\":\"white\",\"minorgridcolor\":\"white\",\"startlinecolor\":\"#2a3f5f\"},\"type\":\"carpet\"}],\"table\":[{\"cells\":{\"fill\":{\"color\":\"#EBF0F8\"},\"line\":{\"color\":\"white\"}},\"header\":{\"fill\":{\"color\":\"#C8D4E3\"},\"line\":{\"color\":\"white\"}},\"type\":\"table\"}],\"barpolar\":[{\"marker\":{\"line\":{\"color\":\"#E5ECF6\",\"width\":0.5},\"pattern\":{\"fillmode\":\"overlay\",\"size\":10,\"solidity\":0.2}},\"type\":\"barpolar\"}],\"pie\":[{\"automargin\":true,\"type\":\"pie\"}]},\"layout\":{\"autotypenumbers\":\"strict\",\"colorway\":[\"#636efa\",\"#EF553B\",\"#00cc96\",\"#ab63fa\",\"#FFA15A\",\"#19d3f3\",\"#FF6692\",\"#B6E880\",\"#FF97FF\",\"#FECB52\"],\"font\":{\"color\":\"#2a3f5f\"},\"hovermode\":\"closest\",\"hoverlabel\":{\"align\":\"left\"},\"paper_bgcolor\":\"white\",\"plot_bgcolor\":\"#E5ECF6\",\"polar\":{\"bgcolor\":\"#E5ECF6\",\"angularaxis\":{\"gridcolor\":\"white\",\"linecolor\":\"white\",\"ticks\":\"\"},\"radialaxis\":{\"gridcolor\":\"white\",\"linecolor\":\"white\",\"ticks\":\"\"}},\"ternary\":{\"bgcolor\":\"#E5ECF6\",\"aaxis\":{\"gridcolor\":\"white\",\"linecolor\":\"white\",\"ticks\":\"\"},\"baxis\":{\"gridcolor\":\"white\",\"linecolor\":\"white\",\"ticks\":\"\"},\"caxis\":{\"gridcolor\":\"white\",\"linecolor\":\"white\",\"ticks\":\"\"}},\"coloraxis\":{\"colorbar\":{\"outlinewidth\":0,\"ticks\":\"\"}},\"colorscale\":{\"sequential\":[[0.0,\"#0d0887\"],[0.1111111111111111,\"#46039f\"],[0.2222222222222222,\"#7201a8\"],[0.3333333333333333,\"#9c179e\"],[0.4444444444444444,\"#bd3786\"],[0.5555555555555556,\"#d8576b\"],[0.6666666666666666,\"#ed7953\"],[0.7777777777777778,\"#fb9f3a\"],[0.8888888888888888,\"#fdca26\"],[1.0,\"#f0f921\"]],\"sequentialminus\":[[0.0,\"#0d0887\"],[0.1111111111111111,\"#46039f\"],[0.2222222222222222,\"#7201a8\"],[0.3333333333333333,\"#9c179e\"],[0.4444444444444444,\"#bd3786\"],[0.5555555555555556,\"#d8576b\"],[0.6666666666666666,\"#ed7953\"],[0.7777777777777778,\"#fb9f3a\"],[0.8888888888888888,\"#fdca26\"],[1.0,\"#f0f921\"]],\"diverging\":[[0,\"#8e0152\"],[0.1,\"#c51b7d\"],[0.2,\"#de77ae\"],[0.3,\"#f1b6da\"],[0.4,\"#fde0ef\"],[0.5,\"#f7f7f7\"],[0.6,\"#e6f5d0\"],[0.7,\"#b8e186\"],[0.8,\"#7fbc41\"],[0.9,\"#4d9221\"],[1,\"#276419\"]]},\"xaxis\":{\"gridcolor\":\"white\",\"linecolor\":\"white\",\"ticks\":\"\",\"title\":{\"standoff\":15},\"zerolinecolor\":\"white\",\"automargin\":true,\"zerolinewidth\":2},\"yaxis\":{\"gridcolor\":\"white\",\"linecolor\":\"white\",\"ticks\":\"\",\"title\":{\"standoff\":15},\"zerolinecolor\":\"white\",\"automargin\":true,\"zerolinewidth\":2},\"scene\":{\"xaxis\":{\"backgroundcolor\":\"#E5ECF6\",\"gridcolor\":\"white\",\"linecolor\":\"white\",\"showbackground\":true,\"ticks\":\"\",\"zerolinecolor\":\"white\",\"gridwidth\":2},\"yaxis\":{\"backgroundcolor\":\"#E5ECF6\",\"gridcolor\":\"white\",\"linecolor\":\"white\",\"showbackground\":true,\"ticks\":\"\",\"zerolinecolor\":\"white\",\"gridwidth\":2},\"zaxis\":{\"backgroundcolor\":\"#E5ECF6\",\"gridcolor\":\"white\",\"linecolor\":\"white\",\"showbackground\":true,\"ticks\":\"\",\"zerolinecolor\":\"white\",\"gridwidth\":2}},\"shapedefaults\":{\"line\":{\"color\":\"#2a3f5f\"}},\"annotationdefaults\":{\"arrowcolor\":\"#2a3f5f\",\"arrowhead\":0,\"arrowwidth\":1},\"geo\":{\"bgcolor\":\"white\",\"landcolor\":\"#E5ECF6\",\"subunitcolor\":\"white\",\"showland\":true,\"showlakes\":true,\"lakecolor\":\"white\"},\"title\":{\"x\":0.05},\"mapbox\":{\"style\":\"light\"}}},\"scene\":{\"domain\":{\"x\":[0.0,1.0],\"y\":[0.0,1.0]},\"xaxis\":{\"title\":{\"text\":\"PC 1\"}},\"yaxis\":{\"title\":{\"text\":\"PC 2\"}},\"zaxis\":{\"title\":{\"text\":\"PC 3\"}}},\"coloraxis\":{\"colorbar\":{\"title\":{\"text\":\"Class\"}},\"colorscale\":[[0.0,\"#0d0887\"],[0.1111111111111111,\"#46039f\"],[0.2222222222222222,\"#7201a8\"],[0.3333333333333333,\"#9c179e\"],[0.4444444444444444,\"#bd3786\"],[0.5555555555555556,\"#d8576b\"],[0.6666666666666666,\"#ed7953\"],[0.7777777777777778,\"#fb9f3a\"],[0.8888888888888888,\"#fdca26\"],[1.0,\"#f0f921\"]]},\"legend\":{\"title\":{\"text\":\"Class\"},\"tracegroupgap\":0,\"x\":0,\"y\":1},\"margin\":{\"t\":60},\"width\":800},                        {\"responsive\": true}                    ).then(function(){\n",
       "                            \n",
       "var gd = document.getElementById('67f7c831-9f71-4388-af88-d44539019c9b');\n",
       "var x = new MutationObserver(function (mutations, observer) {{\n",
       "        var display = window.getComputedStyle(gd).display;\n",
       "        if (!display || display === 'none') {{\n",
       "            console.log([gd, 'removed!']);\n",
       "            Plotly.purge(gd);\n",
       "            observer.disconnect();\n",
       "        }}\n",
       "}});\n",
       "\n",
       "// Listen for the removal of the full notebook cells\n",
       "var notebookContainer = gd.closest('#notebook-container');\n",
       "if (notebookContainer) {{\n",
       "    x.observe(notebookContainer, {childList: true});\n",
       "}}\n",
       "\n",
       "// Listen for the clearing of the current output cell\n",
       "var outputEl = gd.closest('.output');\n",
       "if (outputEl) {{\n",
       "    x.observe(outputEl, {childList: true});\n",
       "}}\n",
       "\n",
       "                        })                };                });            </script>        </div>"
      ]
     },
     "metadata": {},
     "output_type": "display_data"
    }
   ],
   "source": [
    "# Creating a 3D-Scatter with the PCA data and the clusters\n",
    "fig = px.scatter_3d(\n",
    "    clustered_df,\n",
    "    hover_name=\"CoinName\",\n",
    "    hover_data=[\"Algorithm\"],\n",
    "    x=\"PC 1\",\n",
    "    y=\"PC 2\",\n",
    "    z=\"PC 3\",\n",
    "    color=\"Class\",\n",
    "    symbol=\"Class\",\n",
    "    width=800,\n",
    ")\n",
    "fig.update_layout(legend=dict(x=0, y=1))\n",
    "fig.show()"
   ]
  },
  {
   "cell_type": "code",
   "execution_count": 41,
   "metadata": {},
   "outputs": [
    {
     "data": {},
     "metadata": {},
     "output_type": "display_data"
    },
    {
     "data": {
      "application/vnd.holoviews_exec.v0+json": "",
      "text/html": [
       "<div id='1669'>\n",
       "\n",
       "\n",
       "\n",
       "\n",
       "\n",
       "  <div class=\"bk-root\" id=\"edae80a9-0f99-42e0-bf60-ace0a83d00a0\" data-root-id=\"1669\"></div>\n",
       "</div>\n",
       "<script type=\"application/javascript\">(function(root) {\n",
       "  function embed_document(root) {\n",
       "    var docs_json = {\"323561bd-7be1-4807-8cb3-725b2a7a3ec1\":{\"defs\":[{\"extends\":null,\"module\":null,\"name\":\"ReactiveHTML1\",\"overrides\":[],\"properties\":[]},{\"extends\":null,\"module\":null,\"name\":\"FlexBox1\",\"overrides\":[],\"properties\":[{\"default\":\"flex-start\",\"kind\":null,\"name\":\"align_content\"},{\"default\":\"flex-start\",\"kind\":null,\"name\":\"align_items\"},{\"default\":\"row\",\"kind\":null,\"name\":\"flex_direction\"},{\"default\":\"wrap\",\"kind\":null,\"name\":\"flex_wrap\"},{\"default\":\"flex-start\",\"kind\":null,\"name\":\"justify_content\"}]},{\"extends\":null,\"module\":null,\"name\":\"GridStack1\",\"overrides\":[],\"properties\":[{\"default\":\"warn\",\"kind\":null,\"name\":\"mode\"},{\"default\":null,\"kind\":null,\"name\":\"ncols\"},{\"default\":null,\"kind\":null,\"name\":\"nrows\"},{\"default\":true,\"kind\":null,\"name\":\"allow_resize\"},{\"default\":true,\"kind\":null,\"name\":\"allow_drag\"},{\"default\":[],\"kind\":null,\"name\":\"state\"}]},{\"extends\":null,\"module\":null,\"name\":\"click1\",\"overrides\":[],\"properties\":[{\"default\":\"\",\"kind\":null,\"name\":\"terminal_output\"},{\"default\":\"\",\"kind\":null,\"name\":\"debug_name\"},{\"default\":0,\"kind\":null,\"name\":\"clears\"}]},{\"extends\":null,\"module\":null,\"name\":\"TemplateActions1\",\"overrides\":[],\"properties\":[{\"default\":0,\"kind\":null,\"name\":\"open_modal\"},{\"default\":0,\"kind\":null,\"name\":\"close_modal\"}]},{\"extends\":null,\"module\":null,\"name\":\"MaterialTemplateActions1\",\"overrides\":[],\"properties\":[{\"default\":0,\"kind\":null,\"name\":\"open_modal\"},{\"default\":0,\"kind\":null,\"name\":\"close_modal\"}]}],\"roots\":{\"references\":[{\"attributes\":{},\"id\":\"1672\",\"type\":\"Selection\"},{\"attributes\":{\"format\":\"0,0.0[00000]\"},\"id\":\"1698\",\"type\":\"NumberFormatter\"},{\"attributes\":{},\"id\":\"1694\",\"type\":\"NumberEditor\"},{\"attributes\":{},\"id\":\"1673\",\"type\":\"StringFormatter\"},{\"attributes\":{\"columns\":[{\"id\":\"1675\"},{\"id\":\"1680\"},{\"id\":\"1685\"},{\"id\":\"1690\"},{\"id\":\"1695\"},{\"id\":\"1700\"},{\"id\":\"1705\"},{\"id\":\"1710\"},{\"id\":\"1715\"}],\"height\":300,\"reorderable\":false,\"source\":{\"id\":\"1671\"},\"view\":{\"id\":\"1720\"},\"width\":700},\"id\":\"1718\",\"type\":\"DataTable\"},{\"attributes\":{\"editor\":{\"id\":\"1674\"},\"field\":\"Algorithm\",\"formatter\":{\"id\":\"1673\"},\"title\":\"Algorithm\"},\"id\":\"1675\",\"type\":\"TableColumn\"},{\"attributes\":{},\"id\":\"1674\",\"type\":\"StringEditor\"},{\"attributes\":{},\"id\":\"1709\",\"type\":\"StringEditor\"},{\"attributes\":{},\"id\":\"1678\",\"type\":\"StringFormatter\"},{\"attributes\":{},\"id\":\"1714\",\"type\":\"IntEditor\"},{\"attributes\":{\"editor\":{\"id\":\"1699\"},\"field\":\"PC_2\",\"formatter\":{\"id\":\"1698\"},\"title\":\"PC 2\"},\"id\":\"1700\",\"type\":\"TableColumn\"},{\"attributes\":{\"editor\":{\"id\":\"1709\"},\"field\":\"CoinName\",\"formatter\":{\"id\":\"1708\"},\"title\":\"CoinName\"},\"id\":\"1710\",\"type\":\"TableColumn\"},{\"attributes\":{\"data\":{\"Algorithm\":[\"Scrypt\",\"Scrypt\",\"X13\",\"SHA-256\",\"Ethash\",\"Scrypt\",\"X11\",\"CryptoNight-V7\",\"Ethash\",\"Equihash\",\"SHA-512\",\"Multiple\",\"SHA-256\",\"SHA-256\",\"Scrypt\",\"X15\",\"X11\",\"Scrypt\",\"Scrypt\",\"Scrypt\",\"Multiple\",\"Scrypt\",\"SHA-256\",\"Scrypt\",\"Scrypt\",\"Scrypt\",\"Quark\",\"Groestl\",\"Scrypt\",\"Scrypt\",\"Scrypt\",\"Scrypt\",\"Scrypt\",\"X11\",\"Scrypt\",\"Groestl\",\"Multiple\",\"SHA-256\",\"Scrypt\",\"Scrypt\",\"Scrypt\",\"Scrypt\",\"PoS\",\"Scrypt\",\"Scrypt\",\"NeoScrypt\",\"Scrypt\",\"Scrypt\",\"Scrypt\",\"Scrypt\",\"X11\",\"Scrypt\",\"X11\",\"SHA-256\",\"Scrypt\",\"Scrypt\",\"Scrypt\",\"SHA3\",\"Scrypt\",\"HybridScryptHash256\",\"Scrypt\",\"Scrypt\",\"SHA-256\",\"Scrypt\",\"X13\",\"Scrypt\",\"SHA-256\",\"Scrypt\",\"X13\",\"NeoScrypt\",\"Scrypt\",\"Scrypt\",\"Scrypt\",\"Scrypt\",\"Scrypt\",\"Scrypt\",\"X11\",\"X11\",\"SHA-256\",\"Multiple\",\"SHA-256\",\"PHI1612\",\"X11\",\"SHA-256\",\"SHA-256\",\"SHA-256\",\"X11\",\"Scrypt\",\"Scrypt\",\"Scrypt\",\"Scrypt\",\"Lyra2REv2\",\"Scrypt\",\"X11\",\"Multiple\",\"SHA-256\",\"X13\",\"Scrypt\",\"CryptoNight\",\"CryptoNight\",\"Shabal256\",\"Counterparty\",\"Scrypt\",\"SHA-256\",\"Groestl\",\"Scrypt\",\"Scrypt\",\"Scrypt\",\"X13\",\"Scrypt\",\"Scrypt\",\"Scrypt\",\"Scrypt\",\"X13\",\"Scrypt\",\"Stanford Folding\",\"X11\",\"Multiple\",\"QuBit\",\"Scrypt\",\"Scrypt\",\"Scrypt\",\"M7 POW\",\"Scrypt\",\"SHA-256\",\"Scrypt\",\"X11\",\"SHA3\",\"X11\",\"Lyra2RE\",\"SHA-256\",\"QUAIT\",\"X11\",\"X11\",\"Scrypt\",\"Scrypt\",\"Scrypt\",\"Ethash\",\"X13\",\"Blake2b\",\"SHA-256\",\"X15\",\"X11\",\"SHA-256\",\"BLAKE256\",\"Scrypt\",\"1GB AES Pattern Search\",\"SHA-256\",\"X11\",\"Scrypt\",\"SHA-256\",\"SHA-256\",\"NIST5\",\"Scrypt\",\"Scrypt\",\"X11\",\"Dagger\",\"Scrypt\",\"X11GOST\",\"X11\",\"Scrypt\",\"SHA-256\",\"Scrypt\",\"PoS\",\"Scrypt\",\"X11\",\"X11\",\"SHA-256\",\"SHA-256\",\"NIST5\",\"X11\",\"Scrypt\",\"POS 3.0\",\"Scrypt\",\"Scrypt\",\"Scrypt\",\"X13\",\"X11\",\"X11\",\"Equihash\",\"X11\",\"Scrypt\",\"CryptoNight\",\"SHA-256\",\"SHA-256\",\"X11\",\"Scrypt\",\"Multiple\",\"Scrypt\",\"Scrypt\",\"Scrypt\",\"SHA-256\",\"Scrypt\",\"Scrypt\",\"SHA-256D\",\"PoS\",\"Scrypt\",\"X11\",\"Lyra2Z\",\"PoS\",\"X13\",\"X14\",\"PoS\",\"SHA-256D\",\"Ethash\",\"Equihash\",\"DPoS\",\"X11\",\"Scrypt\",\"X11\",\"X13\",\"X11\",\"PoS\",\"Scrypt\",\"Scrypt\",\"X11\",\"PoS\",\"X11\",\"SHA-256\",\"Scrypt\",\"X11\",\"Scrypt\",\"Scrypt\",\"X11\",\"CryptoNight\",\"Scrypt\",\"Scrypt\",\"Scrypt\",\"Scrypt\",\"Quark\",\"QuBit\",\"Scrypt\",\"CryptoNight\",\"Lyra2RE\",\"Scrypt\",\"SHA-256\",\"X11\",\"Scrypt\",\"X11\",\"Scrypt\",\"CryptoNight-V7\",\"Scrypt\",\"Scrypt\",\"Scrypt\",\"X13\",\"X11\",\"Equihash\",\"Scrypt\",\"Scrypt\",\"Lyra2RE\",\"Scrypt\",\"Dagger-Hashimoto\",\"X11\",\"Blake2S\",\"X11\",\"Scrypt\",\"PoS\",\"X11\",\"NIST5\",\"PoS\",\"X11\",\"Scrypt\",\"Scrypt\",\"Scrypt\",\"SHA-256\",\"X11\",\"Scrypt\",\"Scrypt\",\"SHA-256\",\"PoS\",\"Scrypt\",\"X15\",\"SHA-256\",\"Scrypt\",\"POS 3.0\",\"CryptoNight-V7\",\"536\",\"Argon2d\",\"Blake2b\",\"Cloverhash\",\"CryptoNight\",\"NIST5\",\"X11\",\"NIST5\",\"Skein\",\"Scrypt\",\"X13\",\"Scrypt\",\"X11\",\"X11\",\"Scrypt\",\"CryptoNight\",\"X13\",\"Time Travel\",\"Scrypt\",\"Keccak\",\"SkunkHash v2 Raptor\",\"X11\",\"Skein\",\"SHA-256\",\"X11\",\"Scrypt\",\"VeChainThor Authority\",\"Scrypt\",\"PoS\",\"Scrypt\",\"Scrypt\",\"Scrypt\",\"Scrypt\",\"Scrypt\",\"Scrypt\",\"Scrypt\",\"CryptoNight\",\"SHA-512\",\"Ouroboros\",\"X11\",\"Equihash\",\"NeoScrypt\",\"X11\",\"Scrypt\",\"NeoScrypt\",\"Lyra2REv2\",\"Equihash\",\"Scrypt\",\"SHA-256\",\"NIST5\",\"PHI1612\",\"Dagger\",\"Scrypt\",\"Quark\",\"Scrypt\",\"POS 2.0\",\"Scrypt\",\"SHA-256\",\"X11\",\"NeoScrypt\",\"Ethash\",\"NeoScrypt\",\"X11\",\"DPoS\",\"NIST5\",\"X13\",\"Multiple\",\"Scrypt\",\"CryptoNight\",\"CryptoNight\",\"Ethash\",\"NIST5\",\"Quark\",\"X11\",\"CryptoNight-V7\",\"Scrypt\",\"Scrypt\",\"Scrypt\",\"X11\",\"BLAKE256\",\"X11\",\"NeoScrypt\",\"Quark\",\"NeoScrypt\",\"Scrypt\",\"Scrypt\",\"Scrypt\",\"X11\",\"X11\",\"SHA-256\",\"C11\",\"POS 3.0\",\"Ethash\",\"Scrypt\",\"CryptoNight\",\"SkunkHash\",\"Scrypt\",\"CryptoNight\",\"Scrypt\",\"Dagger\",\"Lyra2REv2\",\"X13\",\"Proof-of-BibleHash\",\"SHA-256 + Hive\",\"Scrypt\",\"Scrypt\",\"X11\",\"C11\",\"Proof-of-Authority\",\"X11\",\"XEVAN\",\"Scrypt\",\"VBFT\",\"Ethash\",\"CryptoNight\",\"Scrypt\",\"IMesh\",\"NIST5\",\"Scrypt\",\"Scrypt\",\"Equihash\",\"Scrypt\",\"Lyra2Z\",\"Green Protocol\",\"PoS\",\"Scrypt\",\"Semux BFT consensus\",\"X11\",\"Quark\",\"PoS\",\"CryptoNight\",\"X16R\",\"Scrypt\",\"NIST5\",\"Lyra2RE\",\"XEVAN\",\"Tribus\",\"Scrypt\",\"Lyra2Z\",\"CryptoNight\",\"CryptoNight Heavy\",\"CryptoNight\",\"Scrypt\",\"Scrypt\",\"Jump Consistent Hash\",\"SHA-256D\",\"CryptoNight\",\"Scrypt\",\"X15\",\"Scrypt\",\"Quark\",\"SHA-256\",\"DPoS\",\"X16R\",\"HMQ1725\",\"X11\",\"X16R\",\"Quark\",\"Quark\",\"Scrypt\",\"Lyra2REv2\",\"Quark\",\"Scrypt\",\"Scrypt\",\"CryptoNight-V7\",\"Cryptonight-GPU\",\"XEVAN\",\"CryptoNight Heavy\",\"X11\",\"X11\",\"Scrypt\",\"PoS\",\"SHA-256\",\"Keccak\",\"X11\",\"X11\",\"Scrypt\",\"SHA-512\",\"X16R\",\"ECC 256K1\",\"Equihash\",\"XEVAN\",\"Lyra2Z\",\"SHA-256\",\"XEVAN\",\"X11\",\"CryptoNight\",\"Quark\",\"Blake\",\"Blake\",\"Equihash\",\"Exosis\",\"Scrypt\",\"Scrypt\",\"Equihash\",\"Quark\",\"Equihash\",\"Quark\",\"Scrypt\",\"QuBit\",\"X11\",\"Scrypt\",\"XEVAN\",\"SHA-256D\",\"X11\",\"SHA-256\",\"X13\",\"SHA-256\",\"X11\",\"DPoS\",\"Scrypt\",\"Scrypt\",\"X11\",\"NeoScrypt\",\"Scrypt\",\"Blake\",\"Scrypt\",\"SHA-256\",\"Scrypt\",\"X11\",\"Scrypt\",\"Scrypt\",\"SHA-256\",\"X11\",\"SHA-256\",\"Scrypt\",\"Scrypt\",\"Scrypt\",\"Groestl\",\"X11\",\"Scrypt\",\"PoS\",\"Scrypt\",\"Scrypt\",\"X11\",\"SHA-256\",\"DPoS\",\"Scrypt\",\"Scrypt\",\"NeoScrypt\",\"Multiple\",\"X13\",\"Equihash+Scrypt\",\"DPoS\",\"Ethash\",\"DPoS\",\"SHA-256\",\"Leased POS\",\"PoS\",\"TRC10\",\"PoS\",\"SHA-256\",\"Scrypt\",\"CryptoNight\",\"Equihash\",\"Scrypt\"],\"Class\":{\"__ndarray__\":\"AAAAAAAAAAAAAAAAAwAAAAMAAAADAAAAAAAAAAMAAAADAAAAAwAAAAAAAAADAAAAAAAAAAAAAAADAAAAAAAAAAMAAAADAAAAAAAAAAAAAAADAAAAAwAAAAMAAAADAAAAAwAAAAAAAAADAAAAAwAAAAMAAAAAAAAAAwAAAAAAAAADAAAAAwAAAAAAAAAAAAAAAwAAAAMAAAADAAAAAwAAAAMAAAADAAAAAAAAAAAAAAADAAAAAwAAAAMAAAADAAAAAwAAAAAAAAAAAAAAAwAAAAAAAAADAAAAAwAAAAMAAAADAAAAAAAAAAMAAAADAAAAAAAAAAMAAAAAAAAAAAAAAAAAAAADAAAAAwAAAAMAAAAAAAAAAAAAAAAAAAAAAAAAAAAAAAMAAAADAAAAAwAAAAAAAAAAAAAAAwAAAAAAAAADAAAAAAAAAAAAAAADAAAAAwAAAAMAAAADAAAAAAAAAAAAAAADAAAAAAAAAAMAAAADAAAAAAAAAAAAAAADAAAAAAAAAAAAAAADAAAAAwAAAAAAAAAAAAAAAwAAAAAAAAAAAAAAAwAAAAAAAAADAAAAAAAAAAMAAAAAAAAAAwAAAAAAAAAAAAAAAwAAAAMAAAAAAAAAAwAAAAMAAAADAAAAAAAAAAMAAAADAAAAAwAAAAMAAAADAAAAAAAAAAAAAAADAAAAAwAAAAMAAAAAAAAAAwAAAAAAAAADAAAAAwAAAAAAAAADAAAAAAAAAAMAAAAAAAAAAAAAAAMAAAADAAAAAAAAAAMAAAADAAAAAAAAAAAAAAADAAAAAAAAAAMAAAAAAAAAAAAAAAAAAAADAAAAAwAAAAMAAAADAAAAAAAAAAAAAAAAAAAAAAAAAAAAAAADAAAAAwAAAAAAAAAAAAAAAAAAAAAAAAAAAAAAAwAAAAAAAAAAAAAAAAAAAAAAAAAAAAAAAwAAAAAAAAADAAAAAAAAAAAAAAADAAAAAAAAAAMAAAAAAAAAAAAAAAMAAAAAAAAAAwAAAAAAAAADAAAAAAAAAAMAAAAAAAAAAAAAAAAAAAAAAAAAAwAAAAAAAAAAAAAAAAAAAAAAAAAAAAAAAwAAAAMAAAAAAAAAAAAAAAMAAAADAAAAAAAAAAAAAAAAAAAAAAAAAAAAAAADAAAAAAAAAAAAAAAAAAAAAAAAAAAAAAAAAAAAAAAAAAAAAAADAAAAAAAAAAAAAAAAAAAAAAAAAAAAAAAAAAAAAwAAAAMAAAADAAAAAAAAAAAAAAAAAAAAAAAAAAMAAAAAAAAAAwAAAAAAAAAAAAAAAwAAAAAAAAADAAAAAwAAAAAAAAADAAAAAwAAAAAAAAADAAAAAAAAAAAAAAAAAAAAAwAAAAAAAAAAAAAAAwAAAAAAAAAAAAAAAAAAAAAAAAAAAAAAAAAAAAAAAAADAAAAAAAAAAMAAAAAAAAAAAAAAAAAAAAAAAAAAwAAAAAAAAADAAAAAAAAAAMAAAADAAAAAwAAAAMAAAAAAAAAAwAAAAAAAAAAAAAAAwAAAAAAAAADAAAAAwAAAAMAAAAAAAAAAwAAAAAAAAADAAAAAwAAAAMAAAAAAAAAAwAAAAAAAAADAAAAAAAAAAAAAAACAAAAAwAAAAAAAAADAAAAAwAAAAMAAAADAAAAAwAAAAAAAAAAAAAAAwAAAAAAAAAAAAAAAAAAAAMAAAAAAAAAAwAAAAAAAAADAAAAAAAAAAMAAAAAAAAAAAAAAAAAAAAAAAAAAwAAAAAAAAAAAAAAAwAAAAAAAAAAAAAAAAAAAAMAAAADAAAAAwAAAAMAAAAAAAAAAAAAAAAAAAAAAAAAAwAAAAAAAAADAAAAAwAAAAMAAAAAAAAAAAAAAAMAAAADAAAAAAAAAAAAAAADAAAAAAAAAAMAAAADAAAAAwAAAAAAAAADAAAAAwAAAAAAAAAAAAAAAAAAAAMAAAADAAAAAwAAAAAAAAAAAAAAAAAAAAMAAAADAAAAAAAAAAMAAAADAAAAAwAAAAMAAAAAAAAAAgAAAAAAAAADAAAAAwAAAAMAAAAAAAAAAgAAAAAAAAAAAAAAAAAAAAAAAAADAAAAAwAAAAMAAAADAAAAAAAAAAAAAAAAAAAAAwAAAAAAAAADAAAAAAAAAAAAAAAAAAAAAAAAAAMAAAAAAAAAAAAAAAMAAAAAAAAAAAAAAAMAAAADAAAAAAAAAAMAAAAAAAAAAwAAAAMAAAADAAAAAwAAAAAAAAAAAAAAAwAAAAAAAAADAAAAAAAAAAAAAAAAAAAAAAAAAAAAAAAAAAAAAwAAAAMAAAADAAAAAAAAAAAAAAAAAAAAAAAAAAAAAAAAAAAAAwAAAAAAAAADAAAAAwAAAAMAAAADAAAAAAAAAAAAAAAAAAAAAAAAAAMAAAAAAAAAAAAAAAMAAAAAAAAAAAAAAAMAAAAAAAAAAwAAAAAAAAADAAAAAwAAAAAAAAAAAAAAAwAAAAAAAAADAAAAAwAAAAAAAAADAAAAAwAAAAAAAAADAAAAAAAAAAMAAAAAAAAAAAAAAAMAAAAAAAAAAAAAAAAAAAAAAAAAAAAAAAMAAAADAAAAAwAAAAAAAAAAAAAAAAAAAAMAAAAAAAAAAwAAAAAAAAADAAAAAAAAAAAAAAAAAAAAAAAAAAMAAAAAAAAAAAAAAAAAAAADAAAAAAAAAAMAAAAAAAAAAwAAAAAAAAAAAAAAAAAAAAMAAAADAAAAAAAAAAAAAAAAAAAAAAAAAAAAAAAAAAAAAwAAAAAAAAADAAAAAAAAAAMAAAAAAAAAAAAAAAAAAAAAAAAAAQAAAAAAAAAAAAAAAAAAAAMAAAADAAAAAAAAAA==\",\"dtype\":\"int32\",\"order\":\"little\",\"shape\":[532]},\"CoinName\":[\"42 Coin\",\"404Coin\",\"EliteCoin\",\"Bitcoin\",\"Ethereum\",\"Litecoin\",\"Dash\",\"Monero\",\"Ethereum Classic\",\"ZCash\",\"Bitshares\",\"DigiByte\",\"BitcoinDark\",\"PayCoin\",\"ProsperCoin\",\"KoboCoin\",\"Spreadcoin\",\"Argentum\",\"Aurora Coin\",\"BlueCoin\",\"MyriadCoin\",\"MoonCoin\",\"ZetaCoin\",\"SexCoin\",\"Quatloo\",\"EnergyCoin\",\"QuarkCoin\",\"Riecoin\",\"Digitalcoin \",\"BitBar\",\"Catcoin\",\"CryptoBullion\",\"CannaCoin\",\"CryptCoin\",\"CasinoCoin\",\"Diamond\",\"Verge\",\"DevCoin\",\"EarthCoin\",\"E-Gulden\",\"Einsteinium\",\"Emerald\",\"Exclusive Coin\",\"FlutterCoin\",\"Franko\",\"FeatherCoin\",\"GrandCoin\",\"GlobalCoin\",\"GoldCoin\",\"HoboNickels\",\"HyperStake\",\"Infinite Coin\",\"IOCoin\",\"IXcoin\",\"KrugerCoin\",\"LuckyCoin\",\"Litebar \",\"MaxCoin\",\"MegaCoin\",\"MediterraneanCoin\",\"MintCoin\",\"MinCoin\",\"MazaCoin\",\"Nautilus Coin\",\"NavCoin\",\"NobleCoin\",\"Namecoin\",\"NyanCoin\",\"OpalCoin\",\"Orbitcoin\",\"PotCoin\",\"PhoenixCoin\",\"Reddcoin\",\"RonPaulCoin\",\"StableCoin\",\"SmartCoin\",\"SuperCoin\",\"SyncCoin\",\"SysCoin\",\"TeslaCoin\",\"TigerCoin\",\"TittieCoin\",\"TorCoin\",\"TerraCoin\",\"UnbreakableCoin\",\"Unobtanium\",\"UroCoin\",\"UnitaryStatus Dollar\",\"UltraCoin\",\"ViaCoin\",\"VeriCoin\",\"Vertcoin\",\"WorldCoin\",\"X11 Coin\",\"Crypti\",\"JouleCoin\",\"StealthCoin\",\"ZCC Coin\",\"ByteCoin\",\"DigitalNote \",\"BurstCoin\",\"StorjCoin\",\"MonaCoin\",\"Neutron\",\"FairCoin\",\"Gulden\",\"RubyCoin\",\"PesetaCoin\",\"Kore\",\"Wild Beast Coin\",\"Dnotes\",\"Flo\",\"8BIT Coin\",\"Sativa Coin\",\"ArtByte\",\"Folding Coin\",\"Ucoin\",\"Unitus\",\"CypherPunkCoin\",\"OmniCron\",\"Vtorrent\",\"GreenCoin\",\"Cryptonite\",\"MasterCoin\",\"SoonCoin\",\"1Credit\",\"IslaCoin\",\"Nexus\",\"MarsCoin \",\"Crypto\",\"Anarchists Prime\",\"Droidz\",\"BowsCoin\",\"Squall Coin\",\"Song Coin\",\"BitZeny\",\"Diggits\",\"Expanse\",\"Paycon\",\"Siacoin\",\"Emercoin\",\"EverGreenCoin\",\"MindCoin\",\"I0coin\",\"Decred\",\"Revolution VR\",\"HOdlcoin\",\"EDRCoin\",\"Hitcoin\",\"Gamecredits\",\"DubaiCoin\",\"CarpeDiemCoin\",\"PWR Coin\",\"BillaryCoin\",\"GPU Coin\",\"Adzcoin\",\"SoilCoin\",\"YoCoin\",\"SibCoin\",\"EuropeCoin\",\"ZeitCoin\",\"SwingCoin\",\"SafeExchangeCoin\",\"Nebuchadnezzar\",\"Francs\",\"BolivarCoin\",\"Ratecoin\",\"Revenu\",\"Clockcoin\",\"VIP Tokens\",\"BitSend\",\"Omni\",\"Let it Ride\",\"PutinCoin\",\"iBankCoin\",\"Frankywillcoin\",\"MudraCoin\",\"PizzaCoin\",\"Lutetium Coin\",\"Komodo\",\"GoldBlocks\",\"CarterCoin\",\"Karbo\",\"BitTokens\",\"ZayedCoin\",\"MustangCoin\",\"ZoneCoin\",\"Circuits of Value\",\"RootCoin\",\"DopeCoin\",\"BitCurrency\",\"DollarCoin\",\"Swiscoin\",\"Shilling\",\"BuzzCoin\",\"Opair\",\"PesoBit\",\"Halloween Coin\",\"ZCoin\",\"CoffeeCoin\",\"RoyalCoin\",\"GanjaCoin V2\",\"TeamUP\",\"LanaCoin\",\"Elementrem\",\"ZClassic\",\"ARK\",\"InsaneCoin\",\"KiloCoin\",\"ArtexCoin\",\"EmberCoin\",\"XenixCoin\",\"FreeCoin\",\"PLNCoin\",\"AquariusCoin\",\"Kurrent\",\"Creatio\",\"Eternity\",\"Eurocoin\",\"BitcoinFast\",\"Stakenet\",\"BitConnect Coin\",\"MoneyCoin\",\"Enigma\",\"Cannabis Industry Coin\",\"Russiacoin\",\"PandaCoin\",\"GameUnits\",\"GAKHcoin\",\"Allsafe\",\"LiteCreed\",\"OsmiumCoin\",\"Bikercoins\",\"HexxCoin\",\"Klingon Empire Darsek\",\"Internet of People\",\"KushCoin\",\"Printerium\",\"PacCoin\",\"Impeach\",\"Citadel\",\"Zilbercoin\",\"FirstCoin\",\"BeaverCoin\",\"FindCoin\",\"VaultCoin\",\"Zero\",\"OpenChat\",\"Canada eCoin\",\"Zoin\",\"RenosCoin\",\"DubaiCoin\",\"VirtacoinPlus\",\"TajCoin\",\"Impact\",\"EB3coin\",\"Atmos\",\"HappyCoin\",\"Coinonat\",\"MacronCoin\",\"Condensate\",\"Independent Money System\",\"ArgusCoin\",\"LomoCoin\",\"ProCurrency\",\"GoldReserve\",\"BenjiRolls\",\"GrowthCoin\",\"ILCoin\",\"Phreak\",\"Degas Coin\",\"HTML5 Coin\",\"Ultimate Secure Cash\",\"EquiTrader\",\"QTUM\",\"Quantum Resistant Ledger\",\"Espers\",\"Dynamic\",\"Nano\",\"ChanCoin\",\"Dinastycoin\",\"Denarius\",\"DigitalPrice\",\"Virta Unique Coin\",\"Bitcoin Planet\",\"Unify\",\"BritCoin\",\"SocialCoin\",\"ArcticCoin\",\"DAS\",\"Linda\",\"LeviarCoin\",\"DeepOnion\",\"Bitcore\",\"gCn Coin\",\"SmartCash\",\"Signatum\",\"Onix\",\"Cream\",\"Bitcoin Cash\",\"Monoeci\",\"Draftcoin\",\"Vechain\",\"Sojourn Coin\",\"Stakecoin\",\"NewYorkCoin\",\"FrazCoin\",\"Kronecoin\",\"AdCoin\",\"Linx\",\"CoinonatX\",\"Ethereum Dark\",\"Sumokoin\",\"Obsidian\",\"Cardano\",\"Regalcoin\",\"BitcoinZ\",\"TrezarCoin\",\"Elements\",\"TerraNovaCoin\",\"VIVO Coin\",\"Rupee\",\"Bitcoin Gold\",\"WomenCoin\",\"Theresa May Coin\",\"NamoCoin\",\"LUXCoin\",\"Pirl\",\"Xios\",\"Bitcloud 2.0\",\"eBoost\",\"KekCoin\",\"BlackholeCoin\",\"Infinity Economics\",\"Pura\",\"Innova\",\"Ellaism\",\"GoByte\",\"Magnet\",\"Lamden Tau\",\"Electra\",\"Bitcoin Diamond\",\"SHIELD\",\"Cash & Back Coin\",\"UltraNote\",\"BitCoal\",\"DaxxCoin\",\"Bulwark\",\"Kalkulus\",\"AC3\",\"Lethean\",\"GermanCoin\",\"LiteCoin Ultra\",\"PopularCoin\",\"PhantomX\",\"Photon\",\"Sucre\",\"SparksPay\",\"Digiwage\",\"GunCoin\",\"IrishCoin\",\"Trollcoin\",\"Litecoin Plus\",\"Monkey Project\",\"Pioneer Coin\",\"UnitedBitcoin\",\"Interzone\",\"TokenPay\",\"1717 Masonic Commemorative Token\",\"My Big Coin\",\"TurtleCoin\",\"MUNcoin\",\"Unified Society USDEX\",\"Niobio Cash\",\"ShareChain\",\"Travelflex\",\"KREDS\",\"Tokyo Coin\",\"BiblePay\",\"LitecoinCash\",\"BitFlip\",\"LottoCoin\",\"Crypto Improvement Fund\",\"Stipend\",\"Poa Network\",\"Pushi\",\"Ellerium\",\"Velox\",\"Ontology\",\"Callisto Network\",\"BitTube\",\"Poseidon\",\"Aidos Kuneen\",\"Bitspace\",\"Briacoin\",\"Ignition\",\"Bitrolium\",\"MedicCoin\",\"Alpenschillling\",\"Bitcoin Green\",\"Deviant Coin\",\"Abjcoin\",\"Semux\",\"FuturoCoin\",\"Carebit\",\"Zealium\",\"Monero Classic\",\"Proton\",\"iDealCash\",\"Jumpcoin\",\"Infinex\",\"Bitcoin Incognito\",\"KEYCO\",\"HollyWoodCoin\",\"GINcoin\",\"PlatinCoin\",\"Loki\",\"Newton Coin\",\"Swisscoin\",\"Xt3ch\",\"MassGrid\",\"TheVig\",\"PluraCoin\",\"EmaratCoin\",\"Dekado\",\"Lynx\",\"Poseidon Quark\",\"BitcoinWSpectrum\",\"Muse\",\"Motion\",\"PlusOneCoin\",\"Axe\",\"Trivechain\",\"Dystem\",\"Giant\",\"Peony Coin\",\"Absolute Coin\",\"Vitae\",\"HexCoin\",\"TPCash\",\"Webchain\",\"Ryo\",\"Urals Coin\",\"Qwertycoin\",\"ARENON\",\"EUNO\",\"MMOCoin\",\"Ketan\",\"Project Pai\",\"XDNA\",\"PAXEX\",\"Azart\",\"ThunderStake\",\"Kcash\",\"Xchange\",\"Acute Angle Cloud\",\"CrypticCoin\",\"Bettex coin\",\"Actinium\",\"Bitcoin SV\",\"BitMoney\",\"Junson Ming Chan Coin\",\"FREDEnergy\",\"HerbCoin\",\"Universal Molecule\",\"Lithium\",\"PirateCash\",\"Exosis\",\"Block-Logic\",\"Oduwa\",\"Beam\",\"Galilel\",\"Bithereum\",\"Crypto Sports\",\"Credit\",\"SLICE\",\"Dash Platinum\",\"Nasdacoin\",\"Beetle Coin\",\"Titan Coin\",\"Award\",\"BLAST\",\"Bitcoin Rhodium\",\"GlobalToken\",\"Insane Coin\",\"ALAX\",\"LiteDoge\",\"SolarCoin\",\"TruckCoin\",\"UFO Coin\",\"OrangeCoin\",\"BlakeCoin\",\"BitstarCoin\",\"NeosCoin\",\"HyperCoin\",\"PinkCoin\",\"Crypto Escudo\",\"AudioCoin\",\"IncaKoin\",\"Piggy Coin\",\"Crown Coin\",\"Genstake\",\"SmileyCoin\",\"XiaoMiCoin\",\"Groestlcoin\",\"CapriCoin\",\" ClubCoin\",\"Radium\",\"Bata\",\"Pakcoin\",\"Creditbit \",\"OKCash\",\"Lisk\",\"HiCoin\",\"WhiteCoin\",\"FriendshipCoin\",\"JoinCoin\",\"Triangles Coin\",\"Vollar\",\"EOS\",\"Reality Clash\",\"Oxycoin\",\"TigerCash\",\"Waves\",\"Particl\",\"BitTorrent\",\"Nxt\",\"ZEPHYR\",\"Gapcoin\",\"Beldex\",\"Horizen\",\"BitcoinPlus\"],\"PC_1\":{\"__ndarray__\":\"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\",\"dtype\":\"float64\",\"order\":\"little\",\"shape\":[532]},\"PC_2\":{\"__ndarray__\":\"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\",\"dtype\":\"float64\",\"order\":\"little\",\"shape\":[532]},\"PC_3\":{\"__ndarray__\":\"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\",\"dtype\":\"float64\",\"order\":\"little\",\"shape\":[532]},\"ProofType\":[\"PoW/PoS\",\"PoW/PoS\",\"PoW/PoS\",\"PoW\",\"PoW\",\"PoW\",\"PoW/PoS\",\"PoW\",\"PoW\",\"PoW\",\"PoS\",\"PoW\",\"PoW/PoS\",\"PoS\",\"PoW\",\"PoW/PoS\",\"PoW\",\"PoW\",\"PoW/PoS\",\"PoW/PoS\",\"PoW\",\"PoW\",\"PoW\",\"PoW\",\"PoW\",\"PoW/PoS\",\"PoW\",\"PoW\",\"PoW\",\"PoW/PoS\",\"PoW\",\"PoW/PoS\",\"PoW\",\"PoW\",\"PoC\",\"PoW/PoS\",\"PoW\",\"PoW\",\"PoW\",\"PoW\",\"PoW\",\"PoW\",\"PoS\",\"PoS/PoW/PoT\",\"PoW\",\"PoW\",\"PoW\",\"PoW\",\"PoW\",\"PoW/PoS\",\"PoS\",\"PoW\",\"PoW/PoS\",\"PoW\",\"PoW\",\"PoW\",\"PoW\",\"PoW/PoS\",\"PoW\",\"PoW\",\"PoS\",\"PoW\",\"PoW/PoS\",\"PoS\",\"PoW/PoS\",\"PoW\",\"PoW\",\"PoW\",\"PoW/PoS\",\"PoW/PoS\",\"PoW/PoS\",\"PoW/PoS\",\"PoW/PoS\",\"PoW\",\"PoW\",\"PoW\",\"PoS\",\"PoW/PoS\",\"PoW\",\"PoS\",\"PoW\",\"PoS\",\"PoW/PoS\",\"PoW\",\"PoW\",\"PoW\",\"PoW\",\"PoW/PoS\",\"PoW/PoS\",\"PoW\",\"PoST\",\"PoW\",\"PoW\",\"PoW/PoS\",\"PoS\",\"PoW\",\"PoW/PoS\",\"PoW/PoS\",\"PoW\",\"PoW\",\"PoC\",\"PoS\",\"PoW\",\"PoW/PoS\",\"PoW/PoS\",\"PoW\",\"PoS\",\"PoW\",\"PoW/PoS\",\"PoW\",\"PoS\",\"PoW\",\"PoW/PoS\",\"PoW/PoS\",\"PoW\",\"PoW\",\"PoS\",\"PoW\",\"PoW\",\"PoW\",\"PoW/PoS\",\"PoW\",\"PoW\",\"PoW\",\"PoW\",\"PoW\",\"PoW/PoS\",\"PoW/nPoS\",\"PoW\",\"PoW\",\"PoW\",\"PoW/PoS\",\"PoW\",\"PoS/PoW\",\"PoW\",\"PoW\",\"PoS\",\"PoW\",\"PoW/PoS\",\"PoW\",\"PoW/PoS\",\"PoW/PoS\",\"PoW\",\"PoW\",\"PoW/PoS\",\"PoW\",\"PoW\",\"PoW/PoS\",\"PoW/PoS\",\"PoW\",\"PoW/PoS\",\"PoW\",\"PoW/PoS\",\"PoW/PoS\",\"PoS\",\"PoW\",\"PoW\",\"PoW\",\"PoW\",\"PoW/PoS\",\"PoS\",\"PoW/PoS\",\"PoC\",\"PoS\",\"PoW\",\"PoW\",\"PoW/PoS\",\"PoW/PoS\",\"PoW/PoS\",\"PoW/PoS\",\"PoW/PoS\",\"PoW\",\"PoS\",\"PoW/PoS\",\"PoW/PoS\",\"PoW/PoS\",\"PoS\",\"PoW\",\"PoS\",\"dPoW/PoW\",\"PoW/PoS\",\"PoW/PoS\",\"PoW\",\"PoW/PoS\",\"PoW\",\"PoW/PoS\",\"PoW/PoS\",\"PoW\",\"PoW/PoS\",\"PoW\",\"PoS\",\"PoW\",\"PoW/PoW\",\"PoW\",\"PoW/PoS\",\"PoS\",\"PoW/PoS\",\"PoW/PoS\",\"PoW\",\"PoS\",\"PoS\",\"PoW/PoS\",\"PoS\",\"PoW/PoS\",\"PoW\",\"PoW\",\"DPoS\",\"PoW/PoS\",\"PoW\",\"PoW\",\"PoW/PoS\",\"PoW/PoS\",\"PoS\",\"PoW/PoS\",\"PoW/PoS\",\"PoW\",\"PoS\",\"PoW/PoS\",\"PoW/PoS\",\"PoW/PoS\",\"TPoS\",\"PoW/PoS\",\"PoW/PoS\",\"PoW/PoS\",\"PoW\",\"PoW/PoS\",\"PoS\",\"PoW/PoS\",\"PoW/PoS\",\"PoS\",\"PoW/PoS\",\"PoW\",\"PoW\",\"PoW\",\"PoW/PoS\",\"PoW/PoS\",\"PoW/PoS\",\"PoW/PoS\",\"PoW\",\"PoW/PoS\",\"PoW\",\"PoS\",\"PoW/PoS \",\"PoW\",\"PoS\",\"PoW\",\"PoW\",\"PoW/PoS\",\"PoW\",\"PoW\",\"PoS\",\"PoW\",\"PoW/PoS\",\"PoW/PoS\",\"PoW/PoS\",\"PoW\",\"PoS\",\"PoW/PoS\",\"PoW\",\"PoS\",\"PoW/PoS\",\"PoW/PoS\",\"PoW/PoS\",\"PoW/PoS\",\"PoS\",\"PoW/PoS\",\"PoW\",\"PoS\",\"PoW\",\"PoS\",\"PoW/PoS\",\"PoW/PoS\",\"PoS\",\"PoW\",\"PoS\",\"PoW\",\"PoW/PoS\",\"PoW\",\"PoW\",\"PoW\",\"PoW\",\"PoW/PoS\",\"PoW\",\"PoW/PoS\",\"PoW/PoS\",\"PoW\",\"PoW/PoS\",\"PoW\",\"PoW\",\"PoW\",\"PoW/PoS\",\"PoW\",\"PoW/PoS\",\"PoW\",\"PoW\",\"PoW\",\"PoS\",\"PoW\",\"PoW/PoS\",\"PoW\",\"PoW/PoS\",\"PoS\",\"Proof of Authority\",\"PoW\",\"PoS\",\"PoW\",\"PoW\",\"PoW\",\"PoW\",\"PoW\",\"PoW/PoS\",\"PoW/PoS\",\"PoW\",\"PoS\",\"PoS\",\"PoW/PoS\",\"PoW\",\"PoW/PoS\",\"PoW\",\"PoW/PoS\",\"PoW\",\"PoS\",\"PoW\",\"PoW/PoS\",\"PoW/PoS\",\"PoW/PoS\",\"PoW/PoS\",\"PoW\",\"PoW/PoS\",\"PoW/PoS\",\"PoW\",\"PoS\",\"PoW/PoS\",\"PoS\",\"PoW\",\"PoW\",\"PoW\",\"PoW\",\"PoW/PoS\",\"DPoS\",\"PoW/PoS\",\"PoW/PoS\",\"PoW\",\"PoW/PoS\",\"PoW\",\"PoW\",\"PoW\",\"PoS\",\"PoS\",\"PoW\",\"PoW\",\"PoW/PoS\",\"PoW/PoS\",\"PoW\",\"PoW/PoS\",\"PoW\",\"PoW\",\"PoW\",\"PoS\",\"PoW\",\"PoW\",\"PoW/PoS\",\"PoW/PoS\",\"PoS\",\"PoW\",\"PoW\",\"PoW\",\"PoS\",\"PoS\",\"PoW and PoS\",\"PoW\",\"PoW\",\"PoW/PoS\",\"PoW\",\"PoW\",\"PoW\",\"PoW\",\"PoS\",\"POBh\",\"PoW + Hive\",\"PoW\",\"PoW\",\"PoW\",\"PoW/PoS\",\"PoA\",\"PoW/PoS\",\"PoW/PoS\",\"PoS\",\"PoS\",\"PoW\",\"PoW\",\"PoW\",\"PoW\",\"PoW/PoS\",\"PoW/PoS\",\"PoW/PoS\",\"PoW\",\"PoS\",\"PoW\",\"PoS\",\"PoS\",\"PoW/PoS\",\"DPoS\",\"PoW\",\"PoW/PoS\",\"PoS\",\"PoW\",\"PoS\",\"PoW/PoS\",\"PoW\",\"PoW\",\"PoS/PoW\",\"PoW\",\"PoS\",\"PoW\",\"PoW\",\"PoW\",\"PoW\",\"PoW/PoS\",\"PoS\",\"PoW\",\"PoW/PoS\",\"PoW\",\"PoW/PoS\",\"PoS\",\"HPoW\",\"PoS\",\"PoS\",\"PoS\",\"PoW\",\"PoW\",\"PoW\",\"PoW/PoS\",\"PoS\",\"PoW/PoS\",\"PoS\",\"PoW/PoS\",\"PoS\",\"PoW\",\"PoW/PoS\",\"PoW\",\"PoW\",\"PoW\",\"PoW\",\"PoS\",\"PoW/PoS\",\"PoS\",\"PoS\",\"PoW\",\"PoW/PoS\",\"PoS\",\"PoW\",\"PoW/PoS\",\"Zero-Knowledge Proof\",\"PoW\",\"DPOS\",\"PoW\",\"PoS\",\"PoW\",\"PoW\",\"Pos\",\"PoS\",\"PoW\",\"PoW/PoS\",\"PoW\",\"PoW\",\"PoS\",\"PoW\",\"PoW\",\"PoW/PoS\",\"PoW\",\"PoW/PoS\",\"PoW\",\"PoS\",\"PoW/PoS\",\"PoW\",\"PoS\",\"PoW/PoS\",\"PoW/PoS\",\"PoW/PoS\",\"PoW/PoS\",\"PoW\",\"PoW\",\"PoW\",\"PoW/PoS\",\"DPoS\",\"PoW/PoS\",\"PoW\",\"PoW/PoS\",\"PoW\",\"PoW/PoS\",\"PoW\",\"PoW/PoS\",\"PoS\",\"PoW/PoS\",\"PoW/PoS\",\"PoW\",\"PoW/PoS\",\"PoW/PoS\",\"PoW/PoS\",\"PoW\",\"PoW/PoS\",\"PoW\",\"PoW/PoS\",\"PoW\",\"PoW/PoS\",\"PoW/PoS\",\"PoS\",\"PoW\",\"PoW\",\"Proof of Trust\",\"PoW/PoS\",\"DPoS\",\"PoS\",\"PoW/PoS\",\"PoW/PoS\",\"PoW\",\"PoW/PoS\",\"PoW\",\"DPoS\",\"PoW\",\"DPoS\",\"PoS\",\"LPoS\",\"PoS\",\"DPoS\",\"PoS/LPoS\",\"DPoS\",\"PoW/PoS\",\"PoW\",\"PoW\",\"PoS\"],\"TotalCoinSupply\":[\"42\",\"532000000\",\"314159265359\",\"21000000\",\"0\",\"84000000\",\"22000000\",\"0\",\"210000000\",\"21000000\",\"3600570502\",\"21000000000\",\"22000000\",\"12500000\",\"21000000\",\"350000000\",\"20000000\",\"64000000\",\"16768584\",\"0\",\"2000000000\",\"384000000000\",\"169795588\",\"250000000\",\"100000000\",\"0\",\"247000000\",\"84000000\",\"48166000\",\"500000\",\"21000000 \",\"1000000\",\"13140000\",\"18000000\",\"40000000000\",\"4380000\",\"16555000000\",\"21000000000\",\"13500000000\",\"21000000 \",\"299792458\",\"32000000\",\"0\",\"0\",\"11235813\",\"336000000\",\"1420609614\",\"70000000\",\"72245700\",\"120000000\",\"0\",\"90600000000\",\"22000000\",\"21000000\",\"265420800\",\"20000000\",\"1350000\",\"100000000\",\"42000000\",\"200000000\",\"0\",\"10000000\",\"2419200000\",\"16180000\",\"0\",\"15000000000\",\"21000000\",\"337000000\",\"0\",\"3770000\",\"420000000\",\"98000000\",\"0\",\"21000000\",\"250000000\",\"51200000\",\"0\",\"1000\",\"888000000\",\"100000000\",\"47011968\",\"2300000000\",\"10000000\",\"42000000\",\"80000000\",\"250000\",\"0\",\"1600000000\",\"100000000\",\"23000000\",\"0\",\"84000000\",\"265420800\",\"5500000\",\"0\",\"45000000\",\"0\",\"1000000000\",\"184467440735\",\"10000000000\",\"2158812800\",\"500000000\",\"105120000\",\"68000000\",\"0\",\"1680000000\",\"0\",\"166386000\",\"12000000\",\"2628000\",\"500000000\",\"160000000\",\"0\",\"10000000\",\"1000000000\",\"1000000000\",\"20000000\",\"0\",\"0\",\"3371337\",\"20000000\",\"10000000000\",\"1840000000\",\"619478\",\"21000000\",\"92000000000\",\"0\",\"78000000\",\"33000000\",\"65789100\",\"53760000\",\"5060000\",\"21000000\",\"0\",\"210240000\",\"250000000\",\"100000000\",\"16906397\",\"50000000\",\"0\",\"1000000000\",\"26298000\",\"16000000\",\"21000000\",\"21000000\",\"210000000\",\"81962100\",\"22000000\",\"26550000000\",\"84000000\",\"10500000\",\"21626280000 \",\"0\",\"42000000\",\"221052632\",\"84000000\",\"30000000\",\"168351300\",\"24000000\",\"384000000\",\" 99000000000\",\"40000000\",\"2147483647\",\"20000000\",\"20000000\",\"25000000\",\"75000000\",\"222725000\",\"525000000\",\"90000000\",\"139000000\",\"616448\",\"33500000\",\"2000000000\",\"44333333\",\"100000000\",\"200000000\",\"25000000\",\"657000000\",\"200000000\",\"50000000\",\"90000000\",\"10000000\",\"21000000\",\"9736000\",\"3000000\",\"21000000\",\"1200000000\",\"0\",\"200000000\",\"0\",\"10638298\",\"3100000000\",\"30000000\",\"20000000000\",\"74000000\",\"0\",\"1500000000\",\"21400000\",\"39999898\",\"2500124\",\"100000000\",\"301000000\",\"7506000000\",\"26205539\",\"21000000\",\"125000000\",\"30000000\",\"10000000000\",\"500000000\",\"850000000\",\"3853326.77707314\",\"50000000\",\"38540000 \",\"42000000\",\"228000000\",\"20000000\",\"60000000\",\"20000000\",\"33000000\",\"76500000\",\"28000000\",\"650659833\",\"5000000\",\"21000000\",\"144000000\",\"32514916898\",\"13000000\",\"3315789\",\"15000000\",\"78835200\",\"2714286\",\"25000000\",\"9999999\",\"500000000\",\"21000000\",\"9354000\",\"20000000\",\"100000000000\",\"21933333\",\"185000000\",\"55000000\",\"110000000\",\"3360000\",\"14524851.4827\",\"1000000000\",\"17000000\",\"1000000000\",\"100000000 \",\"21000000\",\"34426423\",\"2232901\",\"100000000\",\"36900000\",\"110000000\",\"4000000000\",\"110290030\",\"100000000\",\"48252000\",\"400000000\",\"500000000\",\"21212121\",\"28600000\",\"1000000000\",\"75000000000\",\"40000000\",\"35520400\",\"2000000000\",\"2500000000\",\"30000000\",\"105000000\",\"90000000000\",\"200084200\",\"72000000\",\"100000000\",\"105000000\",\"50000000000\",\"0\",\"340282367\",\"30000000\",\"2000000000\",\"10000000\",\"100000000\",\"120000000\",\"100000000\",\"19276800\",\"30000000\",\" 75000000\",\"60000000\",\"18900000\",\"50000000000\",\"54000000\",\"18898187.6216583\",\"21000000\",\"200000000000\",\"5000000000\",\"137500000\",\"1100000000\",\"100000000\",\"21000000\",\"9507271\",\"17405891.19707116\",\"86712634466\",\"10500000000\",\"61599965\",\"0\",\"20000000\",\"84000000\",\"100000000\",\"100000000\",\"48252000\",\"4200000\",\"88888888\",\"91388946\",\"45000000000\",\"27000000\",\"21000000000\",\"400000000\",\"1800000000\",\"15733333\",\"27000000\",\"24000000\",\"21000000\",\"25000000000\",\"100000000\",\"1200000000\",\"60000000\",\"156306732.71\",\"21000000\",\"200000000\",\"100000000\",\"21000000\",\"14788275.991\",\"9000000000\",\"350000000\",\"45000000\",\"280000000\",\"31800000\",\"144000000\",\"500000000\",\"30000000000\",\"210000000\",\"660000000\",\"210000000\",\"85000000000\",\"12500000\",\"10000000000\",\"27716121\",\"20000000\",\"550000000\",\"999481516\",\"50000000000\",\"150000000\",\"4999999999\",\"50000000\",\" 90000000000\",\"19800000\",\"21000000\",\"120000000\",\"500000000\",\"64000000\",\"900000000\",\"4000000\",\"21000000\",\"23000000\",\"20166000\",\"23000000\",\"25000000\",\"1618033\",\"30000000\",\"1000000000000\",\"16600000\",\"232000000\",\"336000000\",\"10000000000\",\"100000000\",\"1100000000\",\"800000000\",\"5200000000\",\"840000000\",\"40000000\",\"18406979840\",\"500000000\",\"19340594\",\"252460800\",\"25000000\",\"60000000\",\"124000000\",\"1000000000\",\"6500000000\",\"1000000000\",\"21000000\",\"25000000\",\"50000000\",\"3000000\",\"5000000\",\"70000000\",\"500000000\",\"300000000\",\"21000000\",\"88000000\",\"30000000\",\"100000000\",\"100000000\",\"200000000\",\"80000000\",\"18400000\",\"45000000\",\"5121951220\",\"21000000\",\"26280000\",\"21000000\",\"18000000\",\"26000000\",\"10500000\",\"600000518\",\"150000000\",\"184000000000\",\"10200000000\",\"44000000\",\"168000000\",\"100000000\",\"1000000000\",\"84000000\",\"90000000\",\"92000000000\",\"650000000 \",\"100262205\",\"18081806 \",\"22075700\",\"21000000\",\"21000000\",\"82546564\",\"21000000\",\"5151000\",\"16880000000\",\"52500000\",\"100000000\",\"22105263\",\"1000000000\",\"1750000000\",\"88188888\",\"210000000\",\"184470000000\",\"55000000\",\"50000000\",\"260000000\",\"210000000\",\"2100000000\",\"366000000\",\"100000000\",\"25000000\",\"18000000000\",\"1000000000\",\"100000000\",\"1000000000\",\"7600000000\",\"50000000\",\"84000000\",\"21000000\",\"70000000000\",\"0\",\"8080000000\",\"54000000\",\"105120001.44\",\"25228800\",\"105000000\",\"21000000\",\"120000000\",\"21000000\",\"262800000\",\"19035999\",\"30886000\",\"13370000\",\"74800000000\",\"100000000\",\"19700000\",\"84000000\",\"500000000\",\"5000000000\",\"420000000\",\"64000000\",\"2100000\",\"168000000\",\"30000000\",\"1000000000\",\"35000000000\",\"98100000000\",\"0\",\"4000000000\",\"200000000\",\"7000000000\",\"54256119\",\"21000000\",\"0\",\"500000000\",\"1000000000\",\"10500000000\",\"190000000\",\"1000000000\",\"42000000\",\"15000000\",\"50000000000\",\"400000000\",\"105000000\",\"208000000\",\"160000000\",\"9000000\",\"5000000\",\"182000000\",\"16504333\",\"105000000\",\"159918400\",\"10008835635\",\"300000000\",\"60168145\",\"2800000\",\"120000\",\"2100000000\",\"0\",\"24487944\",\"0\",\"1000000000\",\"100000000\",\"8634140\",\"990000000000\",\"1000000000\",\"2000000000\",\"250000000\",\"1400222610\",\"21000000\",\"1000000\"],\"TotalCoinsMined\":{\"__ndarray__\":\"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\",\"dtype\":\"float64\",\"order\":\"little\",\"shape\":[532]}},\"selected\":{\"id\":\"1672\"},\"selection_policy\":{\"id\":\"1721\"}},\"id\":\"1671\",\"type\":\"ColumnDataSource\"},{\"attributes\":{},\"id\":\"1679\",\"type\":\"StringEditor\"},{\"attributes\":{},\"id\":\"1699\",\"type\":\"NumberEditor\"},{\"attributes\":{\"editor\":{\"id\":\"1704\"},\"field\":\"PC_3\",\"formatter\":{\"id\":\"1703\"},\"title\":\"PC 3\"},\"id\":\"1705\",\"type\":\"TableColumn\"},{\"attributes\":{\"source\":{\"id\":\"1671\"}},\"id\":\"1720\",\"type\":\"CDSView\"},{\"attributes\":{},\"id\":\"1708\",\"type\":\"StringFormatter\"},{\"attributes\":{\"editor\":{\"id\":\"1684\"},\"field\":\"TotalCoinsMined\",\"formatter\":{\"id\":\"1683\"},\"title\":\"TotalCoinsMined\"},\"id\":\"1685\",\"type\":\"TableColumn\"},{\"attributes\":{},\"id\":\"1704\",\"type\":\"NumberEditor\"},{\"attributes\":{\"editor\":{\"id\":\"1679\"},\"field\":\"ProofType\",\"formatter\":{\"id\":\"1678\"},\"title\":\"ProofType\"},\"id\":\"1680\",\"type\":\"TableColumn\"},{\"attributes\":{},\"id\":\"1721\",\"type\":\"UnionRenderers\"},{\"attributes\":{\"editor\":{\"id\":\"1714\"},\"field\":\"Class\",\"formatter\":{\"id\":\"1713\"},\"title\":\"Class\"},\"id\":\"1715\",\"type\":\"TableColumn\"},{\"attributes\":{\"format\":\"0,0.0[00000]\"},\"id\":\"1683\",\"type\":\"NumberFormatter\"},{\"attributes\":{\"margin\":[5,5,5,5],\"name\":\"HSpacer02887\",\"sizing_mode\":\"stretch_width\"},\"id\":\"1725\",\"type\":\"Spacer\"},{\"attributes\":{\"margin\":[5,5,5,5],\"name\":\"HSpacer02886\",\"sizing_mode\":\"stretch_width\"},\"id\":\"1670\",\"type\":\"Spacer\"},{\"attributes\":{},\"id\":\"1689\",\"type\":\"StringEditor\"},{\"attributes\":{},\"id\":\"1684\",\"type\":\"NumberEditor\"},{\"attributes\":{},\"id\":\"1688\",\"type\":\"StringFormatter\"},{\"attributes\":{\"format\":\"0,0.0[00000]\"},\"id\":\"1703\",\"type\":\"NumberFormatter\"},{\"attributes\":{\"children\":[{\"id\":\"1670\"},{\"id\":\"1718\"},{\"id\":\"1725\"}],\"margin\":[0,0,0,0],\"name\":\"Row02882\",\"tags\":[\"embedded\"]},\"id\":\"1669\",\"type\":\"Row\"},{\"attributes\":{\"editor\":{\"id\":\"1694\"},\"field\":\"PC_1\",\"formatter\":{\"id\":\"1693\"},\"title\":\"PC 1\"},\"id\":\"1695\",\"type\":\"TableColumn\"},{\"attributes\":{},\"id\":\"1713\",\"type\":\"NumberFormatter\"},{\"attributes\":{\"editor\":{\"id\":\"1689\"},\"field\":\"TotalCoinSupply\",\"formatter\":{\"id\":\"1688\"},\"title\":\"TotalCoinSupply\"},\"id\":\"1690\",\"type\":\"TableColumn\"},{\"attributes\":{\"format\":\"0,0.0[00000]\"},\"id\":\"1693\",\"type\":\"NumberFormatter\"}],\"root_ids\":[\"1669\"]},\"title\":\"Bokeh Application\",\"version\":\"2.4.1\"}};\n",
       "    var render_items = [{\"docid\":\"323561bd-7be1-4807-8cb3-725b2a7a3ec1\",\"root_ids\":[\"1669\"],\"roots\":{\"1669\":\"edae80a9-0f99-42e0-bf60-ace0a83d00a0\"}}];\n",
       "    root.Bokeh.embed.embed_items_notebook(docs_json, render_items);\n",
       "  }\n",
       "  if (root.Bokeh !== undefined && root.Bokeh.Panel !== undefined) {\n",
       "    embed_document(root);\n",
       "  } else {\n",
       "    var attempts = 0;\n",
       "    var timer = setInterval(function(root) {\n",
       "      if (root.Bokeh !== undefined && root.Bokeh.Panel !== undefined) {\n",
       "        clearInterval(timer);\n",
       "        embed_document(root);\n",
       "      } else if (document.readyState == \"complete\") {\n",
       "        attempts++;\n",
       "        if (attempts > 200) {\n",
       "          clearInterval(timer);\n",
       "          console.log(\"Bokeh: ERROR: Unable to run BokehJS code because BokehJS library is missing\");\n",
       "        }\n",
       "      }\n",
       "    }, 25, root)\n",
       "  }\n",
       "})(window);</script>"
      ],
      "text/plain": [
       ":Table   [Algorithm,ProofType,TotalCoinsMined,TotalCoinSupply,PC 1,PC 2,PC 3,CoinName,Class]"
      ]
     },
     "execution_count": 41,
     "metadata": {
      "application/vnd.holoviews_exec.v0+json": {
       "id": "1669"
      }
     },
     "output_type": "execute_result"
    }
   ],
   "source": [
    "# Create a table with tradable cryptocurrencies.\n",
    "clustered_df.hvplot.table(sortable=True, selectable=True)"
   ]
  },
  {
   "cell_type": "code",
   "execution_count": 42,
   "metadata": {},
   "outputs": [
    {
     "name": "stdout",
     "output_type": "stream",
     "text": [
      "<bound method DataFrame.count of         Algorithm ProofType  TotalCoinsMined TotalCoinSupply      PC 1  \\\n",
      "42         Scrypt   PoW/PoS     4.199995e+01              42 -0.335366   \n",
      "404        Scrypt   PoW/PoS     1.055185e+09       532000000 -0.318709   \n",
      "1337          X13   PoW/PoS     2.927942e+10    314159265359  2.298464   \n",
      "BTC       SHA-256       PoW     1.792718e+07        21000000 -0.134571   \n",
      "ETH        Ethash       PoW     1.076842e+08               0 -0.155164   \n",
      "...           ...       ...              ...             ...       ...   \n",
      "ZEPH      SHA-256      DPoS     2.000000e+09      2000000000  2.482987   \n",
      "GAP        Scrypt   PoW/PoS     1.493105e+07       250000000 -0.333411   \n",
      "BDX   CryptoNight       PoW     9.802226e+08      1400222610  0.330630   \n",
      "ZEN      Equihash       PoW     7.296538e+06        21000000 -0.153457   \n",
      "XBC        Scrypt       PoS     1.283270e+05         1000000 -0.286677   \n",
      "\n",
      "          PC 2      PC 3     CoinName  Class  \n",
      "42    0.980572 -0.438931      42 Coin      0  \n",
      "404   0.980708 -0.439432      404Coin      0  \n",
      "1337  1.543954 -0.516207    EliteCoin      0  \n",
      "BTC  -1.295903  0.215642      Bitcoin      3  \n",
      "ETH  -2.021702  0.318502     Ethereum      3  \n",
      "...        ...       ...          ...    ...  \n",
      "ZEPH  0.904400 -0.311258       ZEPHYR      0  \n",
      "GAP   0.980458 -0.438956      Gapcoin      0  \n",
      "BDX  -2.264248  0.340048       Beldex      3  \n",
      "ZEN  -1.927011  0.366212      Horizen      3  \n",
      "XBC   0.835088 -0.280942  BitcoinPlus      0  \n",
      "\n",
      "[532 rows x 9 columns]>\n"
     ]
    }
   ],
   "source": [
    "# Print the total number of tradable cryptocurrencies.\n",
    "print(clustered_df.count)"
   ]
  },
  {
   "cell_type": "code",
   "execution_count": 43,
   "metadata": {},
   "outputs": [
    {
     "name": "stdout",
     "output_type": "stream",
     "text": [
      "[[4.20000000e-11 0.00000000e+00]\n",
      " [5.32000000e-04 1.06585544e-03]\n",
      " [3.14159265e-01 2.95755135e-02]\n",
      " ...\n",
      " [1.40022261e-03 9.90135079e-04]\n",
      " [2.10000000e-05 7.37028150e-06]\n",
      " [1.00000000e-06 1.29582282e-07]]\n"
     ]
    }
   ],
   "source": [
    "# Scaling data to create the scatter plot with tradable cryptocurrencies.\n",
    "scaled =MinMaxScaler().fit_transform(clustered_df[[\"TotalCoinSupply\",\"TotalCoinsMined\"]])\n",
    "print(scaled)"
   ]
  },
  {
   "cell_type": "code",
   "execution_count": 44,
   "metadata": {},
   "outputs": [
    {
     "data": {
      "text/html": [
       "<div>\n",
       "<style scoped>\n",
       "    .dataframe tbody tr th:only-of-type {\n",
       "        vertical-align: middle;\n",
       "    }\n",
       "\n",
       "    .dataframe tbody tr th {\n",
       "        vertical-align: top;\n",
       "    }\n",
       "\n",
       "    .dataframe thead th {\n",
       "        text-align: right;\n",
       "    }\n",
       "</style>\n",
       "<table border=\"1\" class=\"dataframe\">\n",
       "  <thead>\n",
       "    <tr style=\"text-align: right;\">\n",
       "      <th></th>\n",
       "      <th>TotalCoinSupply</th>\n",
       "      <th>TotalCoinsMined</th>\n",
       "      <th>CoinName</th>\n",
       "      <th>Class</th>\n",
       "    </tr>\n",
       "  </thead>\n",
       "  <tbody>\n",
       "    <tr>\n",
       "      <th>42</th>\n",
       "      <td>4.200000e-11</td>\n",
       "      <td>0.000000</td>\n",
       "      <td>42 Coin</td>\n",
       "      <td>0</td>\n",
       "    </tr>\n",
       "    <tr>\n",
       "      <th>404</th>\n",
       "      <td>5.320000e-04</td>\n",
       "      <td>0.001066</td>\n",
       "      <td>404Coin</td>\n",
       "      <td>0</td>\n",
       "    </tr>\n",
       "    <tr>\n",
       "      <th>1337</th>\n",
       "      <td>3.141593e-01</td>\n",
       "      <td>0.029576</td>\n",
       "      <td>EliteCoin</td>\n",
       "      <td>0</td>\n",
       "    </tr>\n",
       "    <tr>\n",
       "      <th>BTC</th>\n",
       "      <td>2.100000e-05</td>\n",
       "      <td>0.000018</td>\n",
       "      <td>Bitcoin</td>\n",
       "      <td>3</td>\n",
       "    </tr>\n",
       "    <tr>\n",
       "      <th>ETH</th>\n",
       "      <td>0.000000e+00</td>\n",
       "      <td>0.000109</td>\n",
       "      <td>Ethereum</td>\n",
       "      <td>3</td>\n",
       "    </tr>\n",
       "    <tr>\n",
       "      <th>LTC</th>\n",
       "      <td>8.400000e-05</td>\n",
       "      <td>0.000064</td>\n",
       "      <td>Litecoin</td>\n",
       "      <td>3</td>\n",
       "    </tr>\n",
       "    <tr>\n",
       "      <th>DASH</th>\n",
       "      <td>2.200000e-05</td>\n",
       "      <td>0.000009</td>\n",
       "      <td>Dash</td>\n",
       "      <td>0</td>\n",
       "    </tr>\n",
       "    <tr>\n",
       "      <th>XMR</th>\n",
       "      <td>0.000000e+00</td>\n",
       "      <td>0.000017</td>\n",
       "      <td>Monero</td>\n",
       "      <td>3</td>\n",
       "    </tr>\n",
       "    <tr>\n",
       "      <th>ETC</th>\n",
       "      <td>2.100000e-04</td>\n",
       "      <td>0.000115</td>\n",
       "      <td>Ethereum Classic</td>\n",
       "      <td>3</td>\n",
       "    </tr>\n",
       "    <tr>\n",
       "      <th>ZEC</th>\n",
       "      <td>2.100000e-05</td>\n",
       "      <td>0.000007</td>\n",
       "      <td>ZCash</td>\n",
       "      <td>3</td>\n",
       "    </tr>\n",
       "  </tbody>\n",
       "</table>\n",
       "</div>"
      ],
      "text/plain": [
       "      TotalCoinSupply  TotalCoinsMined          CoinName  Class\n",
       "42       4.200000e-11         0.000000           42 Coin      0\n",
       "404      5.320000e-04         0.001066           404Coin      0\n",
       "1337     3.141593e-01         0.029576         EliteCoin      0\n",
       "BTC      2.100000e-05         0.000018           Bitcoin      3\n",
       "ETH      0.000000e+00         0.000109          Ethereum      3\n",
       "LTC      8.400000e-05         0.000064          Litecoin      3\n",
       "DASH     2.200000e-05         0.000009              Dash      0\n",
       "XMR      0.000000e+00         0.000017            Monero      3\n",
       "ETC      2.100000e-04         0.000115  Ethereum Classic      3\n",
       "ZEC      2.100000e-05         0.000007             ZCash      3"
      ]
     },
     "execution_count": 44,
     "metadata": {},
     "output_type": "execute_result"
    }
   ],
   "source": [
    "# Create a new DataFrame that has the scaled data with the clustered_df DataFrame index.\n",
    "new_df = pd.DataFrame(\n",
    "    data = scaled,columns = [\"TotalCoinSupply\",\"TotalCoinsMined\"], index = clustered_df.index\n",
    ")\n",
    "\n",
    "# Add the \"CoinName\" column from the clustered_df DataFrame to the new DataFrame.\n",
    "new_df = pd.concat([new_df,clustered_df['CoinName']],axis =1)\n",
    "\n",
    "# Add the \"Class\" column from the clustered_df DataFrame to the new DataFrame. \n",
    "plot_df = pd.concat([new_df,clustered_df[\"Class\"]],axis =1)\n",
    "\n",
    "plot_df.head(10)"
   ]
  },
  {
   "cell_type": "code",
   "execution_count": 45,
   "metadata": {},
   "outputs": [
    {
     "data": {},
     "metadata": {},
     "output_type": "display_data"
    },
    {
     "data": {
      "application/vnd.holoviews_exec.v0+json": "",
      "text/html": [
       "<div id='1737'>\n",
       "\n",
       "\n",
       "\n",
       "\n",
       "\n",
       "  <div class=\"bk-root\" id=\"8ca3fef6-ed0d-4e6f-a6c5-0359a4f311ad\" data-root-id=\"1737\"></div>\n",
       "</div>\n",
       "<script type=\"application/javascript\">(function(root) {\n",
       "  function embed_document(root) {\n",
       "    var docs_json = {\"0972bb0b-9ea7-4d6f-aab4-e93a95a2679e\":{\"defs\":[{\"extends\":null,\"module\":null,\"name\":\"ReactiveHTML1\",\"overrides\":[],\"properties\":[]},{\"extends\":null,\"module\":null,\"name\":\"FlexBox1\",\"overrides\":[],\"properties\":[{\"default\":\"flex-start\",\"kind\":null,\"name\":\"align_content\"},{\"default\":\"flex-start\",\"kind\":null,\"name\":\"align_items\"},{\"default\":\"row\",\"kind\":null,\"name\":\"flex_direction\"},{\"default\":\"wrap\",\"kind\":null,\"name\":\"flex_wrap\"},{\"default\":\"flex-start\",\"kind\":null,\"name\":\"justify_content\"}]},{\"extends\":null,\"module\":null,\"name\":\"GridStack1\",\"overrides\":[],\"properties\":[{\"default\":\"warn\",\"kind\":null,\"name\":\"mode\"},{\"default\":null,\"kind\":null,\"name\":\"ncols\"},{\"default\":null,\"kind\":null,\"name\":\"nrows\"},{\"default\":true,\"kind\":null,\"name\":\"allow_resize\"},{\"default\":true,\"kind\":null,\"name\":\"allow_drag\"},{\"default\":[],\"kind\":null,\"name\":\"state\"}]},{\"extends\":null,\"module\":null,\"name\":\"click1\",\"overrides\":[],\"properties\":[{\"default\":\"\",\"kind\":null,\"name\":\"terminal_output\"},{\"default\":\"\",\"kind\":null,\"name\":\"debug_name\"},{\"default\":0,\"kind\":null,\"name\":\"clears\"}]},{\"extends\":null,\"module\":null,\"name\":\"TemplateActions1\",\"overrides\":[],\"properties\":[{\"default\":0,\"kind\":null,\"name\":\"open_modal\"},{\"default\":0,\"kind\":null,\"name\":\"close_modal\"}]},{\"extends\":null,\"module\":null,\"name\":\"MaterialTemplateActions1\",\"overrides\":[],\"properties\":[{\"default\":0,\"kind\":null,\"name\":\"open_modal\"},{\"default\":0,\"kind\":null,\"name\":\"close_modal\"}]}],\"roots\":{\"references\":[{\"attributes\":{},\"id\":\"1755\",\"type\":\"BasicTicker\"},{\"attributes\":{\"source\":{\"id\":\"1824\"}},\"id\":\"1831\",\"type\":\"CDSView\"},{\"attributes\":{},\"id\":\"1759\",\"type\":\"BasicTicker\"},{\"attributes\":{\"axis_label\":\"TotalCoinSupply\",\"coordinates\":null,\"formatter\":{\"id\":\"1779\"},\"group\":null,\"major_label_policy\":{\"id\":\"1780\"},\"ticker\":{\"id\":\"1759\"}},\"id\":\"1758\",\"type\":\"LinearAxis\"},{\"attributes\":{\"axis\":{\"id\":\"1754\"},\"coordinates\":null,\"grid_line_color\":null,\"group\":null,\"ticker\":null},\"id\":\"1757\",\"type\":\"Grid\"},{\"attributes\":{\"click_policy\":\"mute\",\"coordinates\":null,\"group\":null,\"items\":[{\"id\":\"1800\"},{\"id\":\"1822\"},{\"id\":\"1846\"},{\"id\":\"1872\"}],\"location\":[0,0],\"title\":\"Class\"},\"id\":\"1799\",\"type\":\"Legend\"},{\"attributes\":{\"fill_color\":{\"value\":\"#fc4f30\"},\"hatch_color\":{\"value\":\"#fc4f30\"},\"line_color\":{\"value\":\"#fc4f30\"},\"size\":{\"value\":5.477225575051661},\"x\":{\"field\":\"TotalCoinsMined\"},\"y\":{\"field\":\"TotalCoinSupply\"}},\"id\":\"1805\",\"type\":\"Scatter\"},{\"attributes\":{},\"id\":\"1764\",\"type\":\"WheelZoomTool\"},{\"attributes\":{\"label\":{\"value\":\"3\"},\"renderers\":[{\"id\":\"1854\"}]},\"id\":\"1872\",\"type\":\"LegendItem\"},{\"attributes\":{\"axis\":{\"id\":\"1758\"},\"coordinates\":null,\"dimension\":1,\"grid_line_color\":null,\"group\":null,\"ticker\":null},\"id\":\"1761\",\"type\":\"Grid\"},{\"attributes\":{\"fill_color\":{\"value\":\"#e5ae38\"},\"hatch_color\":{\"value\":\"#e5ae38\"},\"line_color\":{\"value\":\"#e5ae38\"},\"size\":{\"value\":5.477225575051661},\"x\":{\"field\":\"TotalCoinsMined\"},\"y\":{\"field\":\"TotalCoinSupply\"}},\"id\":\"1827\",\"type\":\"Scatter\"},{\"attributes\":{},\"id\":\"1796\",\"type\":\"UnionRenderers\"},{\"attributes\":{},\"id\":\"1782\",\"type\":\"Selection\"},{\"attributes\":{},\"id\":\"1779\",\"type\":\"BasicTickFormatter\"},{\"attributes\":{},\"id\":\"1869\",\"type\":\"UnionRenderers\"},{\"attributes\":{\"tools\":[{\"id\":\"1741\"},{\"id\":\"1762\"},{\"id\":\"1763\"},{\"id\":\"1764\"},{\"id\":\"1765\"},{\"id\":\"1766\"}]},\"id\":\"1768\",\"type\":\"Toolbar\"},{\"attributes\":{\"source\":{\"id\":\"1781\"}},\"id\":\"1788\",\"type\":\"CDSView\"},{\"attributes\":{},\"id\":\"1843\",\"type\":\"UnionRenderers\"},{\"attributes\":{\"bottom_units\":\"screen\",\"coordinates\":null,\"fill_alpha\":0.5,\"fill_color\":\"lightgrey\",\"group\":null,\"left_units\":\"screen\",\"level\":\"overlay\",\"line_alpha\":1.0,\"line_color\":\"black\",\"line_dash\":[4,4],\"line_width\":2,\"right_units\":\"screen\",\"syncable\":false,\"top_units\":\"screen\"},\"id\":\"1767\",\"type\":\"BoxAnnotation\"},{\"attributes\":{},\"id\":\"1762\",\"type\":\"SaveTool\"},{\"attributes\":{\"fill_alpha\":{\"value\":0.1},\"fill_color\":{\"value\":\"#e5ae38\"},\"hatch_alpha\":{\"value\":0.1},\"hatch_color\":{\"value\":\"#e5ae38\"},\"line_alpha\":{\"value\":0.1},\"line_color\":{\"value\":\"#e5ae38\"},\"size\":{\"value\":5.477225575051661},\"x\":{\"field\":\"TotalCoinsMined\"},\"y\":{\"field\":\"TotalCoinSupply\"}},\"id\":\"1828\",\"type\":\"Scatter\"},{\"attributes\":{},\"id\":\"1763\",\"type\":\"PanTool\"},{\"attributes\":{},\"id\":\"1776\",\"type\":\"BasicTickFormatter\"},{\"attributes\":{},\"id\":\"1766\",\"type\":\"ResetTool\"},{\"attributes\":{\"overlay\":{\"id\":\"1767\"}},\"id\":\"1765\",\"type\":\"BoxZoomTool\"},{\"attributes\":{\"source\":{\"id\":\"1848\"}},\"id\":\"1855\",\"type\":\"CDSView\"},{\"attributes\":{\"callback\":null,\"renderers\":[{\"id\":\"1787\"},{\"id\":\"1808\"},{\"id\":\"1830\"},{\"id\":\"1854\"}],\"tags\":[\"hv_created\"],\"tooltips\":[[\"Class\",\"@{Class}\"],[\"TotalCoinsMined\",\"@{TotalCoinsMined}\"],[\"TotalCoinSupply\",\"@{TotalCoinSupply}\"],[\"CoinName\",\"@{CoinName}\"]]},\"id\":\"1741\",\"type\":\"HoverTool\"},{\"attributes\":{\"end\":1.1,\"reset_end\":1.1,\"reset_start\":-0.1,\"start\":-0.1,\"tags\":[[[\"TotalCoinSupply\",\"TotalCoinSupply\",null]]]},\"id\":\"1740\",\"type\":\"Range1d\"},{\"attributes\":{\"fill_alpha\":{\"value\":0.2},\"fill_color\":{\"value\":\"#30a2da\"},\"hatch_alpha\":{\"value\":0.2},\"hatch_color\":{\"value\":\"#30a2da\"},\"line_alpha\":{\"value\":0.2},\"line_color\":{\"value\":\"#30a2da\"},\"size\":{\"value\":5.477225575051661},\"x\":{\"field\":\"TotalCoinsMined\"},\"y\":{\"field\":\"TotalCoinSupply\"}},\"id\":\"1786\",\"type\":\"Scatter\"},{\"attributes\":{\"fill_color\":{\"value\":\"#6d904f\"},\"hatch_color\":{\"value\":\"#6d904f\"},\"line_color\":{\"value\":\"#6d904f\"},\"size\":{\"value\":5.477225575051661},\"x\":{\"field\":\"TotalCoinsMined\"},\"y\":{\"field\":\"TotalCoinSupply\"}},\"id\":\"1851\",\"type\":\"Scatter\"},{\"attributes\":{\"label\":{\"value\":\"0\"},\"renderers\":[{\"id\":\"1787\"}]},\"id\":\"1800\",\"type\":\"LegendItem\"},{\"attributes\":{\"angle\":{\"value\":0.0},\"fill_alpha\":{\"value\":1.0},\"fill_color\":{\"value\":\"#fc4f30\"},\"hatch_alpha\":{\"value\":1.0},\"hatch_color\":{\"value\":\"#fc4f30\"},\"hatch_scale\":{\"value\":12.0},\"hatch_weight\":{\"value\":1.0},\"line_alpha\":{\"value\":1.0},\"line_cap\":{\"value\":\"butt\"},\"line_color\":{\"value\":\"#fc4f30\"},\"line_dash\":{\"value\":[]},\"line_dash_offset\":{\"value\":0},\"line_join\":{\"value\":\"bevel\"},\"line_width\":{\"value\":1},\"marker\":{\"value\":\"circle\"},\"size\":{\"value\":5.477225575051661},\"x\":{\"field\":\"TotalCoinsMined\"},\"y\":{\"field\":\"TotalCoinSupply\"}},\"id\":\"1823\",\"type\":\"Scatter\"},{\"attributes\":{\"fill_color\":{\"value\":\"#30a2da\"},\"hatch_color\":{\"value\":\"#30a2da\"},\"line_color\":{\"value\":\"#30a2da\"},\"size\":{\"value\":5.477225575051661},\"x\":{\"field\":\"TotalCoinsMined\"},\"y\":{\"field\":\"TotalCoinSupply\"}},\"id\":\"1784\",\"type\":\"Scatter\"},{\"attributes\":{},\"id\":\"1777\",\"type\":\"AllLabels\"},{\"attributes\":{\"label\":{\"value\":\"2\"},\"renderers\":[{\"id\":\"1830\"}]},\"id\":\"1846\",\"type\":\"LegendItem\"},{\"attributes\":{\"children\":[{\"id\":\"1738\"},{\"id\":\"1745\"},{\"id\":\"2018\"}],\"margin\":[0,0,0,0],\"name\":\"Row03076\",\"tags\":[\"embedded\"]},\"id\":\"1737\",\"type\":\"Row\"},{\"attributes\":{\"coordinates\":null,\"data_source\":{\"id\":\"1781\"},\"glyph\":{\"id\":\"1784\"},\"group\":null,\"hover_glyph\":null,\"muted_glyph\":{\"id\":\"1786\"},\"nonselection_glyph\":{\"id\":\"1785\"},\"selection_glyph\":{\"id\":\"1801\"},\"view\":{\"id\":\"1788\"}},\"id\":\"1787\",\"type\":\"GlyphRenderer\"},{\"attributes\":{\"data\":{\"Class\":[3,3,3,3,3,3,3,3,3,3,3,3,3,3,3,3,3,3,3,3,3,3,3,3,3,3,3,3,3,3,3,3,3,3,3,3,3,3,3,3,3,3,3,3,3,3,3,3,3,3,3,3,3,3,3,3,3,3,3,3,3,3,3,3,3,3,3,3,3,3,3,3,3,3,3,3,3,3,3,3,3,3,3,3,3,3,3,3,3,3,3,3,3,3,3,3,3,3,3,3,3,3,3,3,3,3,3,3,3,3,3,3,3,3,3,3,3,3,3,3,3,3,3,3,3,3,3,3,3,3,3,3,3,3,3,3,3,3,3,3,3,3,3,3,3,3,3,3,3,3,3,3,3,3,3,3,3,3,3,3,3,3,3,3,3,3,3,3,3,3,3,3,3,3,3,3,3,3,3,3,3,3,3,3,3,3,3,3,3,3,3,3,3,3,3,3,3,3,3,3,3,3,3,3,3,3,3,3,3,3,3,3,3,3,3,3,3,3,3,3,3,3,3,3,3,3,3,3,3,3,3,3,3,3,3,3,3,3],\"CoinName\":[\"Bitcoin\",\"Ethereum\",\"Litecoin\",\"Monero\",\"Ethereum Classic\",\"ZCash\",\"DigiByte\",\"ProsperCoin\",\"Spreadcoin\",\"Argentum\",\"MyriadCoin\",\"MoonCoin\",\"ZetaCoin\",\"SexCoin\",\"Quatloo\",\"QuarkCoin\",\"Riecoin\",\"Digitalcoin \",\"Catcoin\",\"CannaCoin\",\"CryptCoin\",\"Verge\",\"DevCoin\",\"EarthCoin\",\"E-Gulden\",\"Einsteinium\",\"Emerald\",\"Franko\",\"FeatherCoin\",\"GrandCoin\",\"GlobalCoin\",\"GoldCoin\",\"Infinite Coin\",\"IXcoin\",\"KrugerCoin\",\"LuckyCoin\",\"Litebar \",\"MegaCoin\",\"MediterraneanCoin\",\"MinCoin\",\"NobleCoin\",\"Namecoin\",\"NyanCoin\",\"RonPaulCoin\",\"StableCoin\",\"SmartCoin\",\"SysCoin\",\"TigerCoin\",\"TerraCoin\",\"UnbreakableCoin\",\"Unobtanium\",\"UroCoin\",\"ViaCoin\",\"Vertcoin\",\"WorldCoin\",\"JouleCoin\",\"ByteCoin\",\"DigitalNote \",\"MonaCoin\",\"Gulden\",\"PesetaCoin\",\"Wild Beast Coin\",\"Flo\",\"ArtByte\",\"Folding Coin\",\"Unitus\",\"CypherPunkCoin\",\"OmniCron\",\"GreenCoin\",\"Cryptonite\",\"MasterCoin\",\"SoonCoin\",\"1Credit\",\"MarsCoin \",\"Crypto\",\"Anarchists Prime\",\"BowsCoin\",\"Song Coin\",\"BitZeny\",\"Expanse\",\"Siacoin\",\"MindCoin\",\"I0coin\",\"Revolution VR\",\"HOdlcoin\",\"Gamecredits\",\"CarpeDiemCoin\",\"Adzcoin\",\"SoilCoin\",\"YoCoin\",\"SibCoin\",\"Francs\",\"BolivarCoin\",\"Omni\",\"PizzaCoin\",\"Komodo\",\"Karbo\",\"ZayedCoin\",\"Circuits of Value\",\"DopeCoin\",\"DollarCoin\",\"Shilling\",\"ZCoin\",\"Elementrem\",\"ZClassic\",\"KiloCoin\",\"ArtexCoin\",\"Kurrent\",\"Cannabis Industry Coin\",\"OsmiumCoin\",\"Bikercoins\",\"HexxCoin\",\"PacCoin\",\"Citadel\",\"BeaverCoin\",\"VaultCoin\",\"Zero\",\"Canada eCoin\",\"Zoin\",\"DubaiCoin\",\"EB3coin\",\"Coinonat\",\"BenjiRolls\",\"ILCoin\",\"EquiTrader\",\"Quantum Resistant Ledger\",\"Dynamic\",\"Nano\",\"ChanCoin\",\"Dinastycoin\",\"DigitalPrice\",\"Unify\",\"SocialCoin\",\"ArcticCoin\",\"DAS\",\"LeviarCoin\",\"Bitcore\",\"gCn Coin\",\"SmartCash\",\"Onix\",\"Bitcoin Cash\",\"Sojourn Coin\",\"NewYorkCoin\",\"FrazCoin\",\"Kronecoin\",\"AdCoin\",\"Linx\",\"Sumokoin\",\"BitcoinZ\",\"Elements\",\"VIVO Coin\",\"Bitcoin Gold\",\"Pirl\",\"eBoost\",\"Pura\",\"Innova\",\"Ellaism\",\"GoByte\",\"SHIELD\",\"UltraNote\",\"BitCoal\",\"DaxxCoin\",\"AC3\",\"Lethean\",\"PopularCoin\",\"Photon\",\"Sucre\",\"SparksPay\",\"GunCoin\",\"IrishCoin\",\"Pioneer Coin\",\"UnitedBitcoin\",\"Interzone\",\"TurtleCoin\",\"MUNcoin\",\"Niobio Cash\",\"ShareChain\",\"Travelflex\",\"KREDS\",\"BitFlip\",\"LottoCoin\",\"Crypto Improvement Fund\",\"Callisto Network\",\"BitTube\",\"Poseidon\",\"Aidos Kuneen\",\"Bitrolium\",\"Alpenschillling\",\"FuturoCoin\",\"Monero Classic\",\"Jumpcoin\",\"Infinex\",\"KEYCO\",\"GINcoin\",\"PlatinCoin\",\"Loki\",\"Newton Coin\",\"MassGrid\",\"PluraCoin\",\"Motion\",\"PlusOneCoin\",\"Axe\",\"HexCoin\",\"Webchain\",\"Ryo\",\"Urals Coin\",\"Qwertycoin\",\"Project Pai\",\"Azart\",\"Xchange\",\"CrypticCoin\",\"Actinium\",\"Bitcoin SV\",\"FREDEnergy\",\"Universal Molecule\",\"Lithium\",\"Exosis\",\"Block-Logic\",\"Beam\",\"Bithereum\",\"SLICE\",\"BLAST\",\"Bitcoin Rhodium\",\"GlobalToken\",\"SolarCoin\",\"UFO Coin\",\"BlakeCoin\",\"Crypto Escudo\",\"Crown Coin\",\"SmileyCoin\",\"Groestlcoin\",\"Bata\",\"Pakcoin\",\"JoinCoin\",\"Vollar\",\"Reality Clash\",\"Beldex\",\"Horizen\"],\"TotalCoinSupply\":{\"__ndarray__\":\"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\",\"dtype\":\"float64\",\"order\":\"little\",\"shape\":[238]},\"TotalCoinsMined\":{\"__ndarray__\":\"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\",\"dtype\":\"float64\",\"order\":\"little\",\"shape\":[238]}},\"selected\":{\"id\":\"1849\"},\"selection_policy\":{\"id\":\"1869\"}},\"id\":\"1848\",\"type\":\"ColumnDataSource\"},{\"attributes\":{\"angle\":{\"value\":0.0},\"fill_alpha\":{\"value\":1.0},\"fill_color\":{\"value\":\"#6d904f\"},\"hatch_alpha\":{\"value\":1.0},\"hatch_color\":{\"value\":\"#6d904f\"},\"hatch_scale\":{\"value\":12.0},\"hatch_weight\":{\"value\":1.0},\"line_alpha\":{\"value\":1.0},\"line_cap\":{\"value\":\"butt\"},\"line_color\":{\"value\":\"#6d904f\"},\"line_dash\":{\"value\":[]},\"line_dash_offset\":{\"value\":0},\"line_join\":{\"value\":\"bevel\"},\"line_width\":{\"value\":1},\"marker\":{\"value\":\"circle\"},\"size\":{\"value\":5.477225575051661},\"x\":{\"field\":\"TotalCoinsMined\"},\"y\":{\"field\":\"TotalCoinSupply\"}},\"id\":\"1873\",\"type\":\"Scatter\"},{\"attributes\":{\"fill_alpha\":{\"value\":0.1},\"fill_color\":{\"value\":\"#6d904f\"},\"hatch_alpha\":{\"value\":0.1},\"hatch_color\":{\"value\":\"#6d904f\"},\"line_alpha\":{\"value\":0.1},\"line_color\":{\"value\":\"#6d904f\"},\"size\":{\"value\":5.477225575051661},\"x\":{\"field\":\"TotalCoinsMined\"},\"y\":{\"field\":\"TotalCoinSupply\"}},\"id\":\"1852\",\"type\":\"Scatter\"},{\"attributes\":{\"fill_alpha\":{\"value\":0.2},\"fill_color\":{\"value\":\"#e5ae38\"},\"hatch_alpha\":{\"value\":0.2},\"hatch_color\":{\"value\":\"#e5ae38\"},\"line_alpha\":{\"value\":0.2},\"line_color\":{\"value\":\"#e5ae38\"},\"size\":{\"value\":5.477225575051661},\"x\":{\"field\":\"TotalCoinsMined\"},\"y\":{\"field\":\"TotalCoinSupply\"}},\"id\":\"1829\",\"type\":\"Scatter\"},{\"attributes\":{\"coordinates\":null,\"group\":null,\"text_color\":\"black\",\"text_font_size\":\"12pt\"},\"id\":\"1746\",\"type\":\"Title\"},{\"attributes\":{\"angle\":{\"value\":0.0},\"fill_alpha\":{\"value\":1.0},\"fill_color\":{\"value\":\"#30a2da\"},\"hatch_alpha\":{\"value\":1.0},\"hatch_color\":{\"value\":\"#30a2da\"},\"hatch_scale\":{\"value\":12.0},\"hatch_weight\":{\"value\":1.0},\"line_alpha\":{\"value\":1.0},\"line_cap\":{\"value\":\"butt\"},\"line_color\":{\"value\":\"#30a2da\"},\"line_dash\":{\"value\":[]},\"line_dash_offset\":{\"value\":0},\"line_join\":{\"value\":\"bevel\"},\"line_width\":{\"value\":1},\"marker\":{\"value\":\"circle\"},\"size\":{\"value\":5.477225575051661},\"x\":{\"field\":\"TotalCoinsMined\"},\"y\":{\"field\":\"TotalCoinSupply\"}},\"id\":\"1801\",\"type\":\"Scatter\"},{\"attributes\":{\"source\":{\"id\":\"1802\"}},\"id\":\"1809\",\"type\":\"CDSView\"},{\"attributes\":{\"fill_alpha\":{\"value\":0.2},\"fill_color\":{\"value\":\"#6d904f\"},\"hatch_alpha\":{\"value\":0.2},\"hatch_color\":{\"value\":\"#6d904f\"},\"line_alpha\":{\"value\":0.2},\"line_color\":{\"value\":\"#6d904f\"},\"size\":{\"value\":5.477225575051661},\"x\":{\"field\":\"TotalCoinsMined\"},\"y\":{\"field\":\"TotalCoinSupply\"}},\"id\":\"1853\",\"type\":\"Scatter\"},{\"attributes\":{\"margin\":[5,5,5,5],\"name\":\"HSpacer03080\",\"sizing_mode\":\"stretch_width\"},\"id\":\"1738\",\"type\":\"Spacer\"},{\"attributes\":{\"margin\":[5,5,5,5],\"name\":\"HSpacer03081\",\"sizing_mode\":\"stretch_width\"},\"id\":\"2018\",\"type\":\"Spacer\"},{\"attributes\":{},\"id\":\"1819\",\"type\":\"UnionRenderers\"},{\"attributes\":{\"fill_alpha\":{\"value\":0.2},\"fill_color\":{\"value\":\"#fc4f30\"},\"hatch_alpha\":{\"value\":0.2},\"hatch_color\":{\"value\":\"#fc4f30\"},\"line_alpha\":{\"value\":0.2},\"line_color\":{\"value\":\"#fc4f30\"},\"size\":{\"value\":5.477225575051661},\"x\":{\"field\":\"TotalCoinsMined\"},\"y\":{\"field\":\"TotalCoinSupply\"}},\"id\":\"1807\",\"type\":\"Scatter\"},{\"attributes\":{\"label\":{\"value\":\"1\"},\"renderers\":[{\"id\":\"1808\"}]},\"id\":\"1822\",\"type\":\"LegendItem\"},{\"attributes\":{\"end\":1.042857142857143,\"reset_end\":1.042857142857143,\"reset_start\":-0.04285714285714286,\"start\":-0.04285714285714286,\"tags\":[[[\"TotalCoinsMined\",\"TotalCoinsMined\",null]]]},\"id\":\"1739\",\"type\":\"Range1d\"},{\"attributes\":{\"coordinates\":null,\"data_source\":{\"id\":\"1802\"},\"glyph\":{\"id\":\"1805\"},\"group\":null,\"hover_glyph\":null,\"muted_glyph\":{\"id\":\"1807\"},\"nonselection_glyph\":{\"id\":\"1806\"},\"selection_glyph\":{\"id\":\"1823\"},\"view\":{\"id\":\"1809\"}},\"id\":\"1808\",\"type\":\"GlyphRenderer\"},{\"attributes\":{\"data\":{\"Class\":[2,2,2],\"CoinName\":[\"Vechain\",\"BiblePay\",\"Poa Network\"],\"TotalCoinSupply\":{\"__ndarray__\":\"+nQumcwytj+U9gZfmEx1P4RaKOGWizA/\",\"dtype\":\"float64\",\"order\":\"little\",\"shape\":[3]},\"TotalCoinsMined\":{\"__ndarray__\":\"zaDgBxGurD+PWA2R2lNdP5wZJXiPEis/\",\"dtype\":\"float64\",\"order\":\"little\",\"shape\":[3]}},\"selected\":{\"id\":\"1825\"},\"selection_policy\":{\"id\":\"1843\"}},\"id\":\"1824\",\"type\":\"ColumnDataSource\"},{\"attributes\":{\"fill_alpha\":{\"value\":0.1},\"fill_color\":{\"value\":\"#fc4f30\"},\"hatch_alpha\":{\"value\":0.1},\"hatch_color\":{\"value\":\"#fc4f30\"},\"line_alpha\":{\"value\":0.1},\"line_color\":{\"value\":\"#fc4f30\"},\"size\":{\"value\":5.477225575051661},\"x\":{\"field\":\"TotalCoinsMined\"},\"y\":{\"field\":\"TotalCoinSupply\"}},\"id\":\"1806\",\"type\":\"Scatter\"},{\"attributes\":{\"axis_label\":\"TotalCoinsMined\",\"coordinates\":null,\"formatter\":{\"id\":\"1776\"},\"group\":null,\"major_label_policy\":{\"id\":\"1777\"},\"ticker\":{\"id\":\"1755\"}},\"id\":\"1754\",\"type\":\"LinearAxis\"},{\"attributes\":{\"below\":[{\"id\":\"1754\"}],\"center\":[{\"id\":\"1757\"},{\"id\":\"1761\"}],\"height\":300,\"left\":[{\"id\":\"1758\"}],\"margin\":[5,5,5,5],\"min_border_bottom\":10,\"min_border_left\":10,\"min_border_right\":10,\"min_border_top\":10,\"renderers\":[{\"id\":\"1787\"},{\"id\":\"1808\"},{\"id\":\"1830\"},{\"id\":\"1854\"}],\"right\":[{\"id\":\"1799\"}],\"sizing_mode\":\"fixed\",\"title\":{\"id\":\"1746\"},\"toolbar\":{\"id\":\"1768\"},\"width\":700,\"x_range\":{\"id\":\"1739\"},\"x_scale\":{\"id\":\"1750\"},\"y_range\":{\"id\":\"1740\"},\"y_scale\":{\"id\":\"1752\"}},\"id\":\"1745\",\"subtype\":\"Figure\",\"type\":\"Plot\"},{\"attributes\":{\"data\":{\"Class\":[0,0,0,0,0,0,0,0,0,0,0,0,0,0,0,0,0,0,0,0,0,0,0,0,0,0,0,0,0,0,0,0,0,0,0,0,0,0,0,0,0,0,0,0,0,0,0,0,0,0,0,0,0,0,0,0,0,0,0,0,0,0,0,0,0,0,0,0,0,0,0,0,0,0,0,0,0,0,0,0,0,0,0,0,0,0,0,0,0,0,0,0,0,0,0,0,0,0,0,0,0,0,0,0,0,0,0,0,0,0,0,0,0,0,0,0,0,0,0,0,0,0,0,0,0,0,0,0,0,0,0,0,0,0,0,0,0,0,0,0,0,0,0,0,0,0,0,0,0,0,0,0,0,0,0,0,0,0,0,0,0,0,0,0,0,0,0,0,0,0,0,0,0,0,0,0,0,0,0,0,0,0,0,0,0,0,0,0,0,0,0,0,0,0,0,0,0,0,0,0,0,0,0,0,0,0,0,0,0,0,0,0,0,0,0,0,0,0,0,0,0,0,0,0,0,0,0,0,0,0,0,0,0,0,0,0,0,0,0,0,0,0,0,0,0,0,0,0,0,0,0,0,0,0,0,0,0,0,0,0,0,0,0,0,0,0,0,0,0,0,0,0,0,0,0,0,0,0,0,0,0,0,0,0,0,0,0,0,0,0],\"CoinName\":[\"42 Coin\",\"404Coin\",\"EliteCoin\",\"Dash\",\"Bitshares\",\"BitcoinDark\",\"PayCoin\",\"KoboCoin\",\"Aurora Coin\",\"BlueCoin\",\"EnergyCoin\",\"BitBar\",\"CryptoBullion\",\"CasinoCoin\",\"Diamond\",\"Exclusive Coin\",\"FlutterCoin\",\"HoboNickels\",\"HyperStake\",\"IOCoin\",\"MaxCoin\",\"MintCoin\",\"MazaCoin\",\"Nautilus Coin\",\"NavCoin\",\"OpalCoin\",\"Orbitcoin\",\"PotCoin\",\"PhoenixCoin\",\"Reddcoin\",\"SuperCoin\",\"SyncCoin\",\"TeslaCoin\",\"TittieCoin\",\"TorCoin\",\"UnitaryStatus Dollar\",\"UltraCoin\",\"VeriCoin\",\"X11 Coin\",\"Crypti\",\"StealthCoin\",\"ZCC Coin\",\"BurstCoin\",\"StorjCoin\",\"Neutron\",\"FairCoin\",\"RubyCoin\",\"Kore\",\"Dnotes\",\"8BIT Coin\",\"Sativa Coin\",\"Ucoin\",\"Vtorrent\",\"IslaCoin\",\"Nexus\",\"Droidz\",\"Squall Coin\",\"Diggits\",\"Paycon\",\"Emercoin\",\"EverGreenCoin\",\"Decred\",\"EDRCoin\",\"Hitcoin\",\"DubaiCoin\",\"PWR Coin\",\"BillaryCoin\",\"GPU Coin\",\"EuropeCoin\",\"ZeitCoin\",\"SwingCoin\",\"SafeExchangeCoin\",\"Nebuchadnezzar\",\"Ratecoin\",\"Revenu\",\"Clockcoin\",\"VIP Tokens\",\"BitSend\",\"Let it Ride\",\"PutinCoin\",\"iBankCoin\",\"Frankywillcoin\",\"MudraCoin\",\"Lutetium Coin\",\"GoldBlocks\",\"CarterCoin\",\"BitTokens\",\"MustangCoin\",\"ZoneCoin\",\"RootCoin\",\"BitCurrency\",\"Swiscoin\",\"BuzzCoin\",\"Opair\",\"PesoBit\",\"Halloween Coin\",\"CoffeeCoin\",\"RoyalCoin\",\"GanjaCoin V2\",\"TeamUP\",\"LanaCoin\",\"ARK\",\"InsaneCoin\",\"EmberCoin\",\"XenixCoin\",\"FreeCoin\",\"PLNCoin\",\"AquariusCoin\",\"Creatio\",\"Eternity\",\"Eurocoin\",\"BitcoinFast\",\"Stakenet\",\"BitConnect Coin\",\"MoneyCoin\",\"Enigma\",\"Russiacoin\",\"PandaCoin\",\"GameUnits\",\"GAKHcoin\",\"Allsafe\",\"LiteCreed\",\"Klingon Empire Darsek\",\"Internet of People\",\"KushCoin\",\"Printerium\",\"Impeach\",\"Zilbercoin\",\"FirstCoin\",\"FindCoin\",\"OpenChat\",\"RenosCoin\",\"VirtacoinPlus\",\"TajCoin\",\"Impact\",\"Atmos\",\"HappyCoin\",\"MacronCoin\",\"Condensate\",\"Independent Money System\",\"ArgusCoin\",\"LomoCoin\",\"ProCurrency\",\"GoldReserve\",\"GrowthCoin\",\"Phreak\",\"Degas Coin\",\"HTML5 Coin\",\"Ultimate Secure Cash\",\"QTUM\",\"Espers\",\"Denarius\",\"Virta Unique Coin\",\"Bitcoin Planet\",\"BritCoin\",\"Linda\",\"DeepOnion\",\"Signatum\",\"Cream\",\"Monoeci\",\"Draftcoin\",\"Stakecoin\",\"CoinonatX\",\"Ethereum Dark\",\"Obsidian\",\"Cardano\",\"Regalcoin\",\"TrezarCoin\",\"TerraNovaCoin\",\"Rupee\",\"WomenCoin\",\"Theresa May Coin\",\"NamoCoin\",\"LUXCoin\",\"Xios\",\"Bitcloud 2.0\",\"KekCoin\",\"BlackholeCoin\",\"Infinity Economics\",\"Magnet\",\"Lamden Tau\",\"Electra\",\"Bitcoin Diamond\",\"Cash & Back Coin\",\"Bulwark\",\"Kalkulus\",\"GermanCoin\",\"LiteCoin Ultra\",\"PhantomX\",\"Digiwage\",\"Trollcoin\",\"Litecoin Plus\",\"Monkey Project\",\"TokenPay\",\"1717 Masonic Commemorative Token\",\"My Big Coin\",\"Unified Society USDEX\",\"Tokyo Coin\",\"LitecoinCash\",\"Stipend\",\"Pushi\",\"Ellerium\",\"Velox\",\"Ontology\",\"Bitspace\",\"Briacoin\",\"Ignition\",\"MedicCoin\",\"Bitcoin Green\",\"Deviant Coin\",\"Abjcoin\",\"Semux\",\"Carebit\",\"Zealium\",\"Proton\",\"iDealCash\",\"Bitcoin Incognito\",\"HollyWoodCoin\",\"Swisscoin\",\"Xt3ch\",\"TheVig\",\"EmaratCoin\",\"Dekado\",\"Lynx\",\"Poseidon Quark\",\"BitcoinWSpectrum\",\"Muse\",\"Trivechain\",\"Dystem\",\"Giant\",\"Peony Coin\",\"Absolute Coin\",\"Vitae\",\"TPCash\",\"ARENON\",\"EUNO\",\"MMOCoin\",\"Ketan\",\"XDNA\",\"PAXEX\",\"ThunderStake\",\"Kcash\",\"Acute Angle Cloud\",\"Bettex coin\",\"BitMoney\",\"Junson Ming Chan Coin\",\"HerbCoin\",\"PirateCash\",\"Oduwa\",\"Galilel\",\"Crypto Sports\",\"Credit\",\"Dash Platinum\",\"Nasdacoin\",\"Beetle Coin\",\"Titan Coin\",\"Award\",\"Insane Coin\",\"ALAX\",\"LiteDoge\",\"TruckCoin\",\"OrangeCoin\",\"BitstarCoin\",\"NeosCoin\",\"HyperCoin\",\"PinkCoin\",\"AudioCoin\",\"IncaKoin\",\"Piggy Coin\",\"Genstake\",\"XiaoMiCoin\",\"CapriCoin\",\" ClubCoin\",\"Radium\",\"Creditbit \",\"OKCash\",\"Lisk\",\"HiCoin\",\"WhiteCoin\",\"FriendshipCoin\",\"Triangles Coin\",\"EOS\",\"Oxycoin\",\"TigerCash\",\"Waves\",\"Particl\",\"Nxt\",\"ZEPHYR\",\"Gapcoin\",\"BitcoinPlus\"],\"TotalCoinSupply\":{\"__ndarray__\":\"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\",\"dtype\":\"float64\",\"order\":\"little\",\"shape\":[290]},\"TotalCoinsMined\":{\"__ndarray__\":\"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\",\"dtype\":\"float64\",\"order\":\"little\",\"shape\":[290]}},\"selected\":{\"id\":\"1782\"},\"selection_policy\":{\"id\":\"1796\"}},\"id\":\"1781\",\"type\":\"ColumnDataSource\"},{\"attributes\":{\"coordinates\":null,\"data_source\":{\"id\":\"1824\"},\"glyph\":{\"id\":\"1827\"},\"group\":null,\"hover_glyph\":null,\"muted_glyph\":{\"id\":\"1829\"},\"nonselection_glyph\":{\"id\":\"1828\"},\"selection_glyph\":{\"id\":\"1847\"},\"view\":{\"id\":\"1831\"}},\"id\":\"1830\",\"type\":\"GlyphRenderer\"},{\"attributes\":{\"data\":{\"Class\":[1],\"CoinName\":[\"BitTorrent\"],\"TotalCoinSupply\":{\"__ndarray__\":\"rkfhehSu7z8=\",\"dtype\":\"float64\",\"order\":\"little\",\"shape\":[1]},\"TotalCoinsMined\":{\"__ndarray__\":\"AAAAAAAA8D8=\",\"dtype\":\"float64\",\"order\":\"little\",\"shape\":[1]}},\"selected\":{\"id\":\"1803\"},\"selection_policy\":{\"id\":\"1819\"}},\"id\":\"1802\",\"type\":\"ColumnDataSource\"},{\"attributes\":{},\"id\":\"1780\",\"type\":\"AllLabels\"},{\"attributes\":{\"angle\":{\"value\":0.0},\"fill_alpha\":{\"value\":1.0},\"fill_color\":{\"value\":\"#e5ae38\"},\"hatch_alpha\":{\"value\":1.0},\"hatch_color\":{\"value\":\"#e5ae38\"},\"hatch_scale\":{\"value\":12.0},\"hatch_weight\":{\"value\":1.0},\"line_alpha\":{\"value\":1.0},\"line_cap\":{\"value\":\"butt\"},\"line_color\":{\"value\":\"#e5ae38\"},\"line_dash\":{\"value\":[]},\"line_dash_offset\":{\"value\":0},\"line_join\":{\"value\":\"bevel\"},\"line_width\":{\"value\":1},\"marker\":{\"value\":\"circle\"},\"size\":{\"value\":5.477225575051661},\"x\":{\"field\":\"TotalCoinsMined\"},\"y\":{\"field\":\"TotalCoinSupply\"}},\"id\":\"1847\",\"type\":\"Scatter\"},{\"attributes\":{},\"id\":\"1752\",\"type\":\"LinearScale\"},{\"attributes\":{\"coordinates\":null,\"data_source\":{\"id\":\"1848\"},\"glyph\":{\"id\":\"1851\"},\"group\":null,\"hover_glyph\":null,\"muted_glyph\":{\"id\":\"1853\"},\"nonselection_glyph\":{\"id\":\"1852\"},\"selection_glyph\":{\"id\":\"1873\"},\"view\":{\"id\":\"1855\"}},\"id\":\"1854\",\"type\":\"GlyphRenderer\"},{\"attributes\":{},\"id\":\"1750\",\"type\":\"LinearScale\"},{\"attributes\":{\"fill_alpha\":{\"value\":0.1},\"fill_color\":{\"value\":\"#30a2da\"},\"hatch_alpha\":{\"value\":0.1},\"hatch_color\":{\"value\":\"#30a2da\"},\"line_alpha\":{\"value\":0.1},\"line_color\":{\"value\":\"#30a2da\"},\"size\":{\"value\":5.477225575051661},\"x\":{\"field\":\"TotalCoinsMined\"},\"y\":{\"field\":\"TotalCoinSupply\"}},\"id\":\"1785\",\"type\":\"Scatter\"},{\"attributes\":{},\"id\":\"1825\",\"type\":\"Selection\"},{\"attributes\":{},\"id\":\"1849\",\"type\":\"Selection\"},{\"attributes\":{},\"id\":\"1803\",\"type\":\"Selection\"}],\"root_ids\":[\"1737\"]},\"title\":\"Bokeh Application\",\"version\":\"2.4.1\"}};\n",
       "    var render_items = [{\"docid\":\"0972bb0b-9ea7-4d6f-aab4-e93a95a2679e\",\"root_ids\":[\"1737\"],\"roots\":{\"1737\":\"8ca3fef6-ed0d-4e6f-a6c5-0359a4f311ad\"}}];\n",
       "    root.Bokeh.embed.embed_items_notebook(docs_json, render_items);\n",
       "  }\n",
       "  if (root.Bokeh !== undefined && root.Bokeh.Panel !== undefined) {\n",
       "    embed_document(root);\n",
       "  } else {\n",
       "    var attempts = 0;\n",
       "    var timer = setInterval(function(root) {\n",
       "      if (root.Bokeh !== undefined && root.Bokeh.Panel !== undefined) {\n",
       "        clearInterval(timer);\n",
       "        embed_document(root);\n",
       "      } else if (document.readyState == \"complete\") {\n",
       "        attempts++;\n",
       "        if (attempts > 200) {\n",
       "          clearInterval(timer);\n",
       "          console.log(\"Bokeh: ERROR: Unable to run BokehJS code because BokehJS library is missing\");\n",
       "        }\n",
       "      }\n",
       "    }, 25, root)\n",
       "  }\n",
       "})(window);</script>"
      ],
      "text/plain": [
       ":NdOverlay   [Class]\n",
       "   :Scatter   [TotalCoinsMined]   (TotalCoinSupply,CoinName)"
      ]
     },
     "execution_count": 45,
     "metadata": {
      "application/vnd.holoviews_exec.v0+json": {
       "id": "1737"
      }
     },
     "output_type": "execute_result"
    }
   ],
   "source": [
    "# Create a hvplot.scatter plot using x=\"TotalCoinsMined\" and y=\"TotalCoinSupply\".\n",
    "plot_df.hvplot.scatter(x=\"TotalCoinsMined\", y=\"TotalCoinSupply\", by=\"Class\",hover_cols = [\"CoinName\"])\n"
   ]
  },
  {
   "cell_type": "code",
   "execution_count": null,
   "metadata": {},
   "outputs": [],
   "source": []
  }
 ],
 "metadata": {
  "file_extension": ".py",
  "kernelspec": {
   "display_name": "mlenv",
   "language": "python",
   "name": "mlenv"
  },
  "language_info": {
   "codemirror_mode": {
    "name": "ipython",
    "version": 3
   },
   "file_extension": ".py",
   "mimetype": "text/x-python",
   "name": "python",
   "nbconvert_exporter": "python",
   "pygments_lexer": "ipython3",
   "version": "3.7.11"
  },
  "latex_envs": {
   "LaTeX_envs_menu_present": true,
   "autoclose": false,
   "autocomplete": true,
   "bibliofile": "biblio.bib",
   "cite_by": "apalike",
   "current_citInitial": 1,
   "eqLabelWithNumbers": true,
   "eqNumInitial": 1,
   "hotkeys": {
    "equation": "Ctrl-E",
    "itemize": "Ctrl-I"
   },
   "labels_anchors": false,
   "latex_user_defs": false,
   "report_style_numbering": false,
   "user_envs_cfg": false
  },
  "mimetype": "text/x-python",
  "name": "python",
  "npconvert_exporter": "python",
  "pygments_lexer": "ipython3",
  "version": 3
 },
 "nbformat": 4,
 "nbformat_minor": 2
}
